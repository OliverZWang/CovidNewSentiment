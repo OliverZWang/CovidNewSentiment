{
 "metadata": {
  "language_info": {
   "codemirror_mode": {
    "name": "ipython",
    "version": 3
   },
   "file_extension": ".py",
   "mimetype": "text/x-python",
   "name": "python",
   "nbconvert_exporter": "python",
   "pygments_lexer": "ipython3",
   "version": "3.9.0-final"
  },
  "orig_nbformat": 2,
  "kernelspec": {
   "name": "python3",
   "display_name": "Python 3.9.0 64-bit ('venv_new')",
   "metadata": {
    "interpreter": {
     "hash": "4393239baa4fb5f775d2ad25e30167a32ce8e706e8e214ae50de7fbf0a59990f"
    }
   }
  }
 },
 "nbformat": 4,
 "nbformat_minor": 2,
 "cells": [
  {
   "cell_type": "code",
   "execution_count": 58,
   "metadata": {},
   "outputs": [
    {
     "output_type": "stream",
     "name": "stderr",
     "text": [
      "[nltk_data] Downloading package vader_lexicon to\n[nltk_data]     /Users/oliverwang/nltk_data...\n[nltk_data]   Package vader_lexicon is already up-to-date!\n"
     ]
    }
   ],
   "source": [
    "from tqdm import tqdm\n",
    "import math\n",
    "import pandas as pd\n",
    "import matplotlib.pyplot as plt\n",
    "import plotly.express as px\n",
    "import json\n",
    "import re\n",
    "import spacy\n",
    "sp = spacy.load('en_core_web_sm')\n",
    "import nltk\n",
    "nltk.download('vader_lexicon')\n",
    "from nltk.sentiment.vader import SentimentIntensityAnalyzer\n",
    "import re\n",
    "import statistics"
   ]
  },
  {
   "cell_type": "code",
   "execution_count": null,
   "metadata": {},
   "outputs": [],
   "source": [
    "f = open('./labelled_sentences.json')\n",
    "data = json.load(f)\n",
    "f.close"
   ]
  },
  {
   "cell_type": "code",
   "execution_count": null,
   "metadata": {},
   "outputs": [],
   "source": [
    "data[0]['Label']['classifications'][0]['answer'][0]['value']"
   ]
  },
  {
   "cell_type": "code",
   "execution_count": null,
   "metadata": {},
   "outputs": [],
   "source": [
    "data[0]['Labeled Data']"
   ]
  },
  {
   "cell_type": "code",
   "execution_count": null,
   "metadata": {},
   "outputs": [],
   "source": [
    "punctuation = re.compile('[^\\w\\s]')\n",
    "space = re.compile('  +')\n",
    "\n",
    "clean_data = []\n",
    "for i in range(len(data)):\n",
    "    if bool(data[i]['Label']):\n",
    "\n",
    "\n",
    "        sentence = sp(space.sub(' ', punctuation.sub('', data[i]['Labeled Data'])))\n",
    "        \n",
    "\n",
    "\n",
    "\n",
    "\n",
    "        if data[i]['Label']['classifications'][0]['answer'][0]['value'] == 'neutral':\n",
    "            clean_data.append({'sentence': sentence, 'label': 0})\n",
    "        elif data[i]['Label']['classifications'][0]['answer'][0]['value'] == 'negative':\n",
    "            clean_data.append({'sentence': sentence, 'label': -1})\n",
    "        else:\n",
    "            clean_data.append({'sentence': sentence, 'label': 1})\n",
    "    \n",
    "clean_data[0]"
   ]
  },
  {
   "cell_type": "code",
   "execution_count": null,
   "metadata": {},
   "outputs": [],
   "source": [
    "sentences_lemmaed = []\n",
    "for sentence in clean_data:\n",
    "    words = []\n",
    "    for w in sentence['sentence']:\n",
    "        words.append(w.lemma_.lower())\n",
    "    sentences_lemmaed.append([\" \".join(words), sentence['label']])\n",
    "sentences_lemmaed[2]"
   ]
  },
  {
   "cell_type": "code",
   "execution_count": null,
   "metadata": {},
   "outputs": [],
   "source": [
    "words = set()\n",
    "\n",
    "for par in tqdm(sentences_lemmaed):\n",
    "    for w in par[0].split():\n",
    "        words.add(w)\n",
    "\n",
    "words = list(words)\n",
    "        \n",
    "len(words)"
   ]
  },
  {
   "cell_type": "code",
   "execution_count": null,
   "metadata": {},
   "outputs": [],
   "source": [
    "class_sentence_count = {-1: 0, 0: 0, 1: 0}\n",
    "\n",
    "for par in tqdm(sentences_lemmaed):\n",
    "    class_sentence_count[par[1]] += 1\n"
   ]
  },
  {
   "cell_type": "code",
   "execution_count": null,
   "metadata": {},
   "outputs": [],
   "source": [
    "word_class_sentence_count = {}\n",
    "\n",
    "for word in tqdm(words):\n",
    "    word_class_sentence_count[word] = {-1: 0, 0: 0, 1: 0}\n",
    "    for par in sentences_lemmaed:\n",
    "        if word in par[0].split():\n",
    "            word_class_sentence_count[word][par[1]] += 1\n"
   ]
  },
  {
   "cell_type": "code",
   "execution_count": null,
   "metadata": {},
   "outputs": [],
   "source": [
    "word_sentence_count = {}\n",
    "for k, v in word_class_sentence_count.items():\n",
    "    word_sentence_count[k] = sum(v.values())"
   ]
  },
  {
   "cell_type": "code",
   "execution_count": null,
   "metadata": {},
   "outputs": [],
   "source": [
    "total = len(sentences_lemmaed)\n",
    "total"
   ]
  },
  {
   "cell_type": "code",
   "execution_count": null,
   "metadata": {},
   "outputs": [],
   "source": [
    "pmi = {}\n",
    "\n",
    "# p(w|c)\n",
    "for word in tqdm(words):\n",
    "    pmi[word] = {}\n",
    "    \n",
    "    if word_class_sentence_count[word][-1] != 0:\n",
    "        pmi[word][-1] = math.log(\n",
    "            (word_class_sentence_count[word][-1] / total) / \n",
    "            (class_sentence_count[-1] / total))\n",
    "    else:\n",
    "        pmi[word][-1] = math.log(\n",
    "            (1 / total) / \n",
    "            (class_sentence_count[-1] / total))\n",
    "\n",
    "\n",
    "    if word_class_sentence_count[word][0] != 0:\n",
    "        pmi[word][0] = math.log(\n",
    "            (word_class_sentence_count[word][0] / total) / \n",
    "            (class_sentence_count[0] / total))\n",
    "    else:\n",
    "        pmi[word][0] = math.log(\n",
    "            (1 / total) / \n",
    "            (class_sentence_count[0] / total))\n",
    "\n",
    "    \n",
    "        \n",
    "    if word_class_sentence_count[word][1] != 0:\n",
    "        pmi[word][1] = math.log(\n",
    "            (word_class_sentence_count[word][1] / total) / \n",
    "            (class_sentence_count[1] / total))\n",
    "    else:\n",
    "        pmi[word][1] = math.log(\n",
    "            (1 / total) / \n",
    "            (class_sentence_count[1] / total))"
   ]
  },
  {
   "cell_type": "code",
   "execution_count": null,
   "metadata": {},
   "outputs": [],
   "source": [
    "S = {}\n",
    "\n",
    "for word, values in pmi.items():\n",
    "    S[word] = values[1] - values[-1]"
   ]
  },
  {
   "cell_type": "code",
   "execution_count": null,
   "metadata": {},
   "outputs": [],
   "source": [
    "s_df = pd.DataFrame.from_dict(S, orient='index')\n",
    "s_df.columns = ['sent']\n",
    "freq = pd.DataFrame.from_dict(word_sentence_count, orient='index')\n",
    "freq.columns = ['freq']\n",
    "s_df = s_df.join(freq)\n",
    "s_df.sort_values('sent', ascending=False)"
   ]
  },
  {
   "cell_type": "code",
   "execution_count": 170,
   "metadata": {},
   "outputs": [
    {
     "output_type": "execute_result",
     "data": {
      "text/plain": [
       "sent    -0.489106\n",
       "freq    34.000000\n",
       "Name: lockdown, dtype: float64"
      ]
     },
     "metadata": {},
     "execution_count": 170
    }
   ],
   "source": [
    "s_df.loc['lockdown']"
   ]
  },
  {
   "cell_type": "code",
   "execution_count": 185,
   "metadata": {},
   "outputs": [],
   "source": [
    "vader_lexicon_file = './vader_lexicon.txt'\n",
    "vader_lexicon = {}\n",
    "with open(vader_lexicon_file, 'r') as f:\n",
    "    for line in f.readlines():\n",
    "        line = line.strip()\n",
    "        vader_lexicon[line.split('\\t')[0]] = float(line.split('\\t')[1])\n",
    "vader_words = list(vader_lexicon.keys())\n",
    "\n",
    "s_new = s_df[~s_df.index.isin(vader_words)].copy()\n",
    "s_com = s_df[s_df.index.isin(vader_words)].copy()\n",
    "\n",
    "s_com['vader'] = s_com.apply(lambda x: vader_lexicon.get(x.name), axis=1)\n"
   ]
  },
  {
   "cell_type": "code",
   "execution_count": 186,
   "metadata": {},
   "outputs": [],
   "source": [
    "s_com_filter = s_com[s_com['freq']>15].copy().reset_index()"
   ]
  },
  {
   "cell_type": "code",
   "execution_count": 187,
   "metadata": {},
   "outputs": [
    {
     "output_type": "display_data",
     "data": {
      "application/vnd.plotly.v1+json": {
       "config": {
        "plotlyServerURL": "https://plot.ly"
       },
       "data": [
        {
         "hovertemplate": "Vader score=%{x}<br>Customized score=%{y}<br>freq=%{marker.size}<br>index=%{text}<extra></extra>",
         "legendgroup": "",
         "marker": {
          "color": "#636efa",
          "size": [
           25,
           23,
           27,
           74,
           16,
           26,
           28,
           17,
           24,
           18,
           19,
           23,
           20,
           24,
           26,
           51,
           33,
           18,
           24,
           26,
           24,
           21,
           36,
           29,
           26,
           59,
           37,
           22,
           33,
           29,
           20,
           39
          ],
          "sizemode": "area",
          "sizeref": 0.185,
          "symbol": "circle"
         },
         "mode": "markers+text",
         "name": "",
         "orientation": "v",
         "showlegend": false,
         "text": [
          "want",
          "good",
          "share",
          "number",
          "unemployment",
          "support",
          "care",
          "benefit",
          "die",
          "drop",
          "safe",
          "hope",
          "pay",
          "crisis",
          "increase",
          "help",
          "united",
          "lose",
          "leave",
          "cut",
          "risk",
          "restriction",
          "no",
          "positive",
          "allow",
          "death",
          "low",
          "authority",
          "like",
          "well",
          "safety",
          "demand"
         ],
         "type": "scatter",
         "x": [
          0.3,
          1.9,
          1.2,
          0.3,
          -1.9,
          1.7,
          2.2,
          2,
          -2.9,
          -1.1,
          1.9,
          1.9,
          -0.4,
          -3.1,
          1.3,
          1.7,
          1.8,
          -1.7,
          -0.2,
          -1.1,
          -1.1,
          -1.1,
          -1.2,
          2.6,
          0.9,
          -2.9,
          -1.1,
          0.3,
          1.5,
          1.1,
          1.8,
          -0.5
         ],
         "xaxis": "x",
         "y": [
          0.2581079326693043,
          2.0498674018973593,
          0.2581079326693043,
          -1.188811050267021,
          -0.34802787090101095,
          0.9512551132292497,
          -0.540399763548467,
          0.6635730407774685,
          -1.5877187578290264,
          -0.029574139782476472,
          1.251359705679588,
          1.2697088443477842,
          -0.7227213203424219,
          0.34511930965893445,
          -0.29193840424996775,
          2.1516500962073017,
          -0.6714280259548713,
          -1.639012052216577,
          -0.29193840424996775,
          0.05743723720715321,
          -0.029574139782476472,
          -0.3660463764036894,
          -1.1281864284505865,
          -1.6878022163860091,
          1.4367629290109503,
          -1.1971792999375377,
          0.13294478971529777,
          -0.029574139782476472,
          -0.5891899277178991,
          1.020247984716201,
          2.273010953211569,
          -0.771511484511854
         ],
         "yaxis": "y"
        }
       ],
       "layout": {
        "legend": {
         "itemsizing": "constant",
         "tracegroupgap": 0
        },
        "template": {
         "data": {
          "bar": [
           {
            "error_x": {
             "color": "#2a3f5f"
            },
            "error_y": {
             "color": "#2a3f5f"
            },
            "marker": {
             "line": {
              "color": "#E5ECF6",
              "width": 0.5
             }
            },
            "type": "bar"
           }
          ],
          "barpolar": [
           {
            "marker": {
             "line": {
              "color": "#E5ECF6",
              "width": 0.5
             }
            },
            "type": "barpolar"
           }
          ],
          "carpet": [
           {
            "aaxis": {
             "endlinecolor": "#2a3f5f",
             "gridcolor": "white",
             "linecolor": "white",
             "minorgridcolor": "white",
             "startlinecolor": "#2a3f5f"
            },
            "baxis": {
             "endlinecolor": "#2a3f5f",
             "gridcolor": "white",
             "linecolor": "white",
             "minorgridcolor": "white",
             "startlinecolor": "#2a3f5f"
            },
            "type": "carpet"
           }
          ],
          "choropleth": [
           {
            "colorbar": {
             "outlinewidth": 0,
             "ticks": ""
            },
            "type": "choropleth"
           }
          ],
          "contour": [
           {
            "colorbar": {
             "outlinewidth": 0,
             "ticks": ""
            },
            "colorscale": [
             [
              0,
              "#0d0887"
             ],
             [
              0.1111111111111111,
              "#46039f"
             ],
             [
              0.2222222222222222,
              "#7201a8"
             ],
             [
              0.3333333333333333,
              "#9c179e"
             ],
             [
              0.4444444444444444,
              "#bd3786"
             ],
             [
              0.5555555555555556,
              "#d8576b"
             ],
             [
              0.6666666666666666,
              "#ed7953"
             ],
             [
              0.7777777777777778,
              "#fb9f3a"
             ],
             [
              0.8888888888888888,
              "#fdca26"
             ],
             [
              1,
              "#f0f921"
             ]
            ],
            "type": "contour"
           }
          ],
          "contourcarpet": [
           {
            "colorbar": {
             "outlinewidth": 0,
             "ticks": ""
            },
            "type": "contourcarpet"
           }
          ],
          "heatmap": [
           {
            "colorbar": {
             "outlinewidth": 0,
             "ticks": ""
            },
            "colorscale": [
             [
              0,
              "#0d0887"
             ],
             [
              0.1111111111111111,
              "#46039f"
             ],
             [
              0.2222222222222222,
              "#7201a8"
             ],
             [
              0.3333333333333333,
              "#9c179e"
             ],
             [
              0.4444444444444444,
              "#bd3786"
             ],
             [
              0.5555555555555556,
              "#d8576b"
             ],
             [
              0.6666666666666666,
              "#ed7953"
             ],
             [
              0.7777777777777778,
              "#fb9f3a"
             ],
             [
              0.8888888888888888,
              "#fdca26"
             ],
             [
              1,
              "#f0f921"
             ]
            ],
            "type": "heatmap"
           }
          ],
          "heatmapgl": [
           {
            "colorbar": {
             "outlinewidth": 0,
             "ticks": ""
            },
            "colorscale": [
             [
              0,
              "#0d0887"
             ],
             [
              0.1111111111111111,
              "#46039f"
             ],
             [
              0.2222222222222222,
              "#7201a8"
             ],
             [
              0.3333333333333333,
              "#9c179e"
             ],
             [
              0.4444444444444444,
              "#bd3786"
             ],
             [
              0.5555555555555556,
              "#d8576b"
             ],
             [
              0.6666666666666666,
              "#ed7953"
             ],
             [
              0.7777777777777778,
              "#fb9f3a"
             ],
             [
              0.8888888888888888,
              "#fdca26"
             ],
             [
              1,
              "#f0f921"
             ]
            ],
            "type": "heatmapgl"
           }
          ],
          "histogram": [
           {
            "marker": {
             "colorbar": {
              "outlinewidth": 0,
              "ticks": ""
             }
            },
            "type": "histogram"
           }
          ],
          "histogram2d": [
           {
            "colorbar": {
             "outlinewidth": 0,
             "ticks": ""
            },
            "colorscale": [
             [
              0,
              "#0d0887"
             ],
             [
              0.1111111111111111,
              "#46039f"
             ],
             [
              0.2222222222222222,
              "#7201a8"
             ],
             [
              0.3333333333333333,
              "#9c179e"
             ],
             [
              0.4444444444444444,
              "#bd3786"
             ],
             [
              0.5555555555555556,
              "#d8576b"
             ],
             [
              0.6666666666666666,
              "#ed7953"
             ],
             [
              0.7777777777777778,
              "#fb9f3a"
             ],
             [
              0.8888888888888888,
              "#fdca26"
             ],
             [
              1,
              "#f0f921"
             ]
            ],
            "type": "histogram2d"
           }
          ],
          "histogram2dcontour": [
           {
            "colorbar": {
             "outlinewidth": 0,
             "ticks": ""
            },
            "colorscale": [
             [
              0,
              "#0d0887"
             ],
             [
              0.1111111111111111,
              "#46039f"
             ],
             [
              0.2222222222222222,
              "#7201a8"
             ],
             [
              0.3333333333333333,
              "#9c179e"
             ],
             [
              0.4444444444444444,
              "#bd3786"
             ],
             [
              0.5555555555555556,
              "#d8576b"
             ],
             [
              0.6666666666666666,
              "#ed7953"
             ],
             [
              0.7777777777777778,
              "#fb9f3a"
             ],
             [
              0.8888888888888888,
              "#fdca26"
             ],
             [
              1,
              "#f0f921"
             ]
            ],
            "type": "histogram2dcontour"
           }
          ],
          "mesh3d": [
           {
            "colorbar": {
             "outlinewidth": 0,
             "ticks": ""
            },
            "type": "mesh3d"
           }
          ],
          "parcoords": [
           {
            "line": {
             "colorbar": {
              "outlinewidth": 0,
              "ticks": ""
             }
            },
            "type": "parcoords"
           }
          ],
          "pie": [
           {
            "automargin": true,
            "type": "pie"
           }
          ],
          "scatter": [
           {
            "marker": {
             "colorbar": {
              "outlinewidth": 0,
              "ticks": ""
             }
            },
            "type": "scatter"
           }
          ],
          "scatter3d": [
           {
            "line": {
             "colorbar": {
              "outlinewidth": 0,
              "ticks": ""
             }
            },
            "marker": {
             "colorbar": {
              "outlinewidth": 0,
              "ticks": ""
             }
            },
            "type": "scatter3d"
           }
          ],
          "scattercarpet": [
           {
            "marker": {
             "colorbar": {
              "outlinewidth": 0,
              "ticks": ""
             }
            },
            "type": "scattercarpet"
           }
          ],
          "scattergeo": [
           {
            "marker": {
             "colorbar": {
              "outlinewidth": 0,
              "ticks": ""
             }
            },
            "type": "scattergeo"
           }
          ],
          "scattergl": [
           {
            "marker": {
             "colorbar": {
              "outlinewidth": 0,
              "ticks": ""
             }
            },
            "type": "scattergl"
           }
          ],
          "scattermapbox": [
           {
            "marker": {
             "colorbar": {
              "outlinewidth": 0,
              "ticks": ""
             }
            },
            "type": "scattermapbox"
           }
          ],
          "scatterpolar": [
           {
            "marker": {
             "colorbar": {
              "outlinewidth": 0,
              "ticks": ""
             }
            },
            "type": "scatterpolar"
           }
          ],
          "scatterpolargl": [
           {
            "marker": {
             "colorbar": {
              "outlinewidth": 0,
              "ticks": ""
             }
            },
            "type": "scatterpolargl"
           }
          ],
          "scatterternary": [
           {
            "marker": {
             "colorbar": {
              "outlinewidth": 0,
              "ticks": ""
             }
            },
            "type": "scatterternary"
           }
          ],
          "surface": [
           {
            "colorbar": {
             "outlinewidth": 0,
             "ticks": ""
            },
            "colorscale": [
             [
              0,
              "#0d0887"
             ],
             [
              0.1111111111111111,
              "#46039f"
             ],
             [
              0.2222222222222222,
              "#7201a8"
             ],
             [
              0.3333333333333333,
              "#9c179e"
             ],
             [
              0.4444444444444444,
              "#bd3786"
             ],
             [
              0.5555555555555556,
              "#d8576b"
             ],
             [
              0.6666666666666666,
              "#ed7953"
             ],
             [
              0.7777777777777778,
              "#fb9f3a"
             ],
             [
              0.8888888888888888,
              "#fdca26"
             ],
             [
              1,
              "#f0f921"
             ]
            ],
            "type": "surface"
           }
          ],
          "table": [
           {
            "cells": {
             "fill": {
              "color": "#EBF0F8"
             },
             "line": {
              "color": "white"
             }
            },
            "header": {
             "fill": {
              "color": "#C8D4E3"
             },
             "line": {
              "color": "white"
             }
            },
            "type": "table"
           }
          ]
         },
         "layout": {
          "annotationdefaults": {
           "arrowcolor": "#2a3f5f",
           "arrowhead": 0,
           "arrowwidth": 1
          },
          "autotypenumbers": "strict",
          "coloraxis": {
           "colorbar": {
            "outlinewidth": 0,
            "ticks": ""
           }
          },
          "colorscale": {
           "diverging": [
            [
             0,
             "#8e0152"
            ],
            [
             0.1,
             "#c51b7d"
            ],
            [
             0.2,
             "#de77ae"
            ],
            [
             0.3,
             "#f1b6da"
            ],
            [
             0.4,
             "#fde0ef"
            ],
            [
             0.5,
             "#f7f7f7"
            ],
            [
             0.6,
             "#e6f5d0"
            ],
            [
             0.7,
             "#b8e186"
            ],
            [
             0.8,
             "#7fbc41"
            ],
            [
             0.9,
             "#4d9221"
            ],
            [
             1,
             "#276419"
            ]
           ],
           "sequential": [
            [
             0,
             "#0d0887"
            ],
            [
             0.1111111111111111,
             "#46039f"
            ],
            [
             0.2222222222222222,
             "#7201a8"
            ],
            [
             0.3333333333333333,
             "#9c179e"
            ],
            [
             0.4444444444444444,
             "#bd3786"
            ],
            [
             0.5555555555555556,
             "#d8576b"
            ],
            [
             0.6666666666666666,
             "#ed7953"
            ],
            [
             0.7777777777777778,
             "#fb9f3a"
            ],
            [
             0.8888888888888888,
             "#fdca26"
            ],
            [
             1,
             "#f0f921"
            ]
           ],
           "sequentialminus": [
            [
             0,
             "#0d0887"
            ],
            [
             0.1111111111111111,
             "#46039f"
            ],
            [
             0.2222222222222222,
             "#7201a8"
            ],
            [
             0.3333333333333333,
             "#9c179e"
            ],
            [
             0.4444444444444444,
             "#bd3786"
            ],
            [
             0.5555555555555556,
             "#d8576b"
            ],
            [
             0.6666666666666666,
             "#ed7953"
            ],
            [
             0.7777777777777778,
             "#fb9f3a"
            ],
            [
             0.8888888888888888,
             "#fdca26"
            ],
            [
             1,
             "#f0f921"
            ]
           ]
          },
          "colorway": [
           "#636efa",
           "#EF553B",
           "#00cc96",
           "#ab63fa",
           "#FFA15A",
           "#19d3f3",
           "#FF6692",
           "#B6E880",
           "#FF97FF",
           "#FECB52"
          ],
          "font": {
           "color": "#2a3f5f"
          },
          "geo": {
           "bgcolor": "white",
           "lakecolor": "white",
           "landcolor": "#E5ECF6",
           "showlakes": true,
           "showland": true,
           "subunitcolor": "white"
          },
          "hoverlabel": {
           "align": "left"
          },
          "hovermode": "closest",
          "mapbox": {
           "style": "light"
          },
          "paper_bgcolor": "white",
          "plot_bgcolor": "#E5ECF6",
          "polar": {
           "angularaxis": {
            "gridcolor": "white",
            "linecolor": "white",
            "ticks": ""
           },
           "bgcolor": "#E5ECF6",
           "radialaxis": {
            "gridcolor": "white",
            "linecolor": "white",
            "ticks": ""
           }
          },
          "scene": {
           "xaxis": {
            "backgroundcolor": "#E5ECF6",
            "gridcolor": "white",
            "gridwidth": 2,
            "linecolor": "white",
            "showbackground": true,
            "ticks": "",
            "zerolinecolor": "white"
           },
           "yaxis": {
            "backgroundcolor": "#E5ECF6",
            "gridcolor": "white",
            "gridwidth": 2,
            "linecolor": "white",
            "showbackground": true,
            "ticks": "",
            "zerolinecolor": "white"
           },
           "zaxis": {
            "backgroundcolor": "#E5ECF6",
            "gridcolor": "white",
            "gridwidth": 2,
            "linecolor": "white",
            "showbackground": true,
            "ticks": "",
            "zerolinecolor": "white"
           }
          },
          "shapedefaults": {
           "line": {
            "color": "#2a3f5f"
           }
          },
          "ternary": {
           "aaxis": {
            "gridcolor": "white",
            "linecolor": "white",
            "ticks": ""
           },
           "baxis": {
            "gridcolor": "white",
            "linecolor": "white",
            "ticks": ""
           },
           "bgcolor": "#E5ECF6",
           "caxis": {
            "gridcolor": "white",
            "linecolor": "white",
            "ticks": ""
           }
          },
          "title": {
           "x": 0.05
          },
          "xaxis": {
           "automargin": true,
           "gridcolor": "white",
           "linecolor": "white",
           "ticks": "",
           "title": {
            "standoff": 15
           },
           "zerolinecolor": "white",
           "zerolinewidth": 2
          },
          "yaxis": {
           "automargin": true,
           "gridcolor": "white",
           "linecolor": "white",
           "ticks": "",
           "title": {
            "standoff": 15
           },
           "zerolinecolor": "white",
           "zerolinewidth": 2
          }
         }
        },
        "title": {
         "text": "Comparison of Lexicon"
        },
        "xaxis": {
         "anchor": "y",
         "domain": [
          0,
          1
         ],
         "title": {
          "text": "Vader score"
         }
        },
        "yaxis": {
         "anchor": "x",
         "domain": [
          0,
          1
         ],
         "title": {
          "text": "Customized score"
         }
        }
       }
      }
     },
     "metadata": {}
    }
   ],
   "source": [
    "px.scatter(s_com_filter, x='vader', y='sent', text='index', size='freq',\n",
    "           labels={'vader': 'Vader score', 'sent': 'Customized score'}, \n",
    "           title='Comparison of Lexicon')"
   ]
  },
  {
   "cell_type": "code",
   "execution_count": 188,
   "metadata": {},
   "outputs": [
    {
     "output_type": "execute_result",
     "data": {
      "text/plain": [
       "      index      sent  freq\n",
       "0       for  0.029849   365\n",
       "1        to  0.182009   895\n",
       "2      high -1.415869    56\n",
       "3     china -0.722721    58\n",
       "4     while  0.004327    79\n",
       "..      ...       ...   ...\n",
       "80   public -0.329679    61\n",
       "81       do  0.206815    93\n",
       "82        a -0.044726   645\n",
       "83  include  0.006794    68\n",
       "84     make  0.016946    54\n",
       "\n",
       "[85 rows x 3 columns]"
      ],
      "text/html": "<div>\n<style scoped>\n    .dataframe tbody tr th:only-of-type {\n        vertical-align: middle;\n    }\n\n    .dataframe tbody tr th {\n        vertical-align: top;\n    }\n\n    .dataframe thead th {\n        text-align: right;\n    }\n</style>\n<table border=\"1\" class=\"dataframe\">\n  <thead>\n    <tr style=\"text-align: right;\">\n      <th></th>\n      <th>index</th>\n      <th>sent</th>\n      <th>freq</th>\n    </tr>\n  </thead>\n  <tbody>\n    <tr>\n      <th>0</th>\n      <td>for</td>\n      <td>0.029849</td>\n      <td>365</td>\n    </tr>\n    <tr>\n      <th>1</th>\n      <td>to</td>\n      <td>0.182009</td>\n      <td>895</td>\n    </tr>\n    <tr>\n      <th>2</th>\n      <td>high</td>\n      <td>-1.415869</td>\n      <td>56</td>\n    </tr>\n    <tr>\n      <th>3</th>\n      <td>china</td>\n      <td>-0.722721</td>\n      <td>58</td>\n    </tr>\n    <tr>\n      <th>4</th>\n      <td>while</td>\n      <td>0.004327</td>\n      <td>79</td>\n    </tr>\n    <tr>\n      <th>...</th>\n      <td>...</td>\n      <td>...</td>\n      <td>...</td>\n    </tr>\n    <tr>\n      <th>80</th>\n      <td>public</td>\n      <td>-0.329679</td>\n      <td>61</td>\n    </tr>\n    <tr>\n      <th>81</th>\n      <td>do</td>\n      <td>0.206815</td>\n      <td>93</td>\n    </tr>\n    <tr>\n      <th>82</th>\n      <td>a</td>\n      <td>-0.044726</td>\n      <td>645</td>\n    </tr>\n    <tr>\n      <th>83</th>\n      <td>include</td>\n      <td>0.006794</td>\n      <td>68</td>\n    </tr>\n    <tr>\n      <th>84</th>\n      <td>make</td>\n      <td>0.016946</td>\n      <td>54</td>\n    </tr>\n  </tbody>\n</table>\n<p>85 rows × 3 columns</p>\n</div>"
     },
     "metadata": {},
     "execution_count": 188
    }
   ],
   "source": [
    "# nltk.download('stopwords')\n",
    "# from nltk.corpus import stopwords\n",
    "\n",
    "# s_new = [~s_new.index.isin(stopwords.words('english'))]\n",
    "thres = 50\n",
    "s_new_filter = s_new[s_new['freq']>thres].copy().reset_index()\n",
    "s_new_filter"
   ]
  },
  {
   "cell_type": "code",
   "execution_count": 193,
   "metadata": {},
   "outputs": [
    {
     "output_type": "display_data",
     "data": {
      "application/vnd.plotly.v1+json": {
       "config": {
        "plotlyServerURL": "https://plot.ly"
       },
       "data": [
        {
         "hovertemplate": "freq=%{x}<br>sent=%{y}<br>index=%{text}<extra></extra>",
         "legendgroup": "",
         "marker": {
          "color": "#636efa",
          "symbol": "circle"
         },
         "mode": "markers+text",
         "name": "",
         "orientation": "v",
         "showlegend": false,
         "text": [
          "for",
          "to",
          "high",
          "china",
          "while",
          "more",
          "day",
          "have",
          "us",
          "accord",
          "business",
          "new",
          "also",
          "from",
          "out",
          "month",
          "as",
          "many",
          "say",
          "come",
          "million",
          "one",
          "after",
          "but",
          "will",
          "about",
          "over",
          "test",
          "virus",
          "work",
          "could",
          "week",
          "at",
          "government",
          "on",
          "would",
          "home",
          "early",
          "all",
          "this",
          "-pron-",
          "the",
          "which",
          "two",
          "state",
          "covid19",
          "and",
          "not",
          "some",
          "in",
          "so",
          "that",
          "people",
          "or",
          "coronavirus",
          "year",
          "an",
          "with",
          "take",
          "can",
          "up",
          "case",
          "there",
          "pandemic",
          "of",
          "if",
          "than",
          "company",
          "country",
          "go",
          "report",
          "be",
          "health",
          "by",
          "who",
          "other",
          "when",
          "time",
          "may",
          "last",
          "public",
          "do",
          "a",
          "include",
          "make"
         ],
         "type": "scatter",
         "x": [
          365,
          895,
          56,
          58,
          79,
          143,
          72,
          517,
          79,
          54,
          61,
          134,
          89,
          238,
          59,
          63,
          249,
          54,
          394,
          57,
          55,
          88,
          83,
          120,
          154,
          72,
          66,
          51,
          91,
          86,
          61,
          73,
          233,
          82,
          363,
          90,
          66,
          55,
          81,
          129,
          773,
          1251,
          109,
          58,
          111,
          120,
          780,
          172,
          52,
          717,
          56,
          386,
          136,
          97,
          170,
          81,
          126,
          260,
          58,
          71,
          77,
          147,
          72,
          99,
          803,
          53,
          118,
          72,
          85,
          63,
          88,
          849,
          122,
          194,
          126,
          88,
          55,
          62,
          60,
          57,
          61,
          93,
          645,
          68,
          54
         ],
         "xaxis": "x",
         "y": [
          0.029849280688324153,
          0.1820085891306571,
          -1.4158685009023673,
          -0.7227213203424219,
          0.0043274118932044026,
          -0.6093926350354191,
          -0.3778808340506923,
          -0.2981351707874792,
          -0.3172562122342577,
          -0.8768720001696804,
          0.4629023453153174,
          0.11560787006202089,
          -0.1473571754388603,
          0.007467131897872292,
          -0.46782907071363233,
          0.15274741701147798,
          -0.01015605392537533,
          -0.9168773347833792,
          0.10248558223058946,
          0.1710965556796742,
          -0.029574139782476916,
          0.07578637587534942,
          -0.2774103036870583,
          -0.337875499436993,
          0.4678284636513732,
          -0.4350392478906411,
          -0.9168773347833792,
          -0.47140689206151576,
          -0.4350392478906411,
          1.0000452773986814,
          -0.15473728273648257,
          0.24235957570116495,
          -0.4735055287184371,
          0.4167129628459425,
          -0.07769338812667526,
          0.19926743264637103,
          -1.2823371082778445,
          -0.07039613430273173,
          0.00027882336720441714,
          0.021719154605073676,
          0.18024055759167645,
          -0.05230239086003291,
          0.12805480442110628,
          -0.8562527129669446,
          -0.3972989199077941,
          -0.27469659781546163,
          0.13669202625818033,
          -0.5403997635484674,
          0.33815064034284026,
          -0.1456974240204958,
          0.10395725284204582,
          -0.04247754461838471,
          -0.18920428537436074,
          0.09558900317152919,
          -0.008954852579741157,
          0.06886593303077548,
          -0.4695254239618101,
          -0.11743549557381106,
          0.2581079326693039,
          0.4812514839835136,
          0.09558900317152919,
          -0.6714280259548717,
          -0.46035705587493103,
          -0.3562583700375268,
          -0.13215301247842626,
          0.30689809683873603,
          -0.3072058763807566,
          0.1935694115317328,
          -0.24088323344968376,
          0.1671361544635772,
          -1.0228259127927606,
          -0.08706123070015825,
          0.021719154605073676,
          0.0757863758753492,
          -0.46629179139474575,
          -0.06466545959374725,
          -0.23024483524462802,
          0.04453383237124475,
          -0.2188161394210053,
          0.21158791703441082,
          -0.3296787322328152,
          0.20681463828175373,
          -0.04472594480307901,
          0.006793504388397764,
          0.016945875852416137
         ],
         "yaxis": "y"
        }
       ],
       "layout": {
        "legend": {
         "tracegroupgap": 0
        },
        "margin": {
         "t": 60
        },
        "template": {
         "data": {
          "bar": [
           {
            "error_x": {
             "color": "#2a3f5f"
            },
            "error_y": {
             "color": "#2a3f5f"
            },
            "marker": {
             "line": {
              "color": "#E5ECF6",
              "width": 0.5
             }
            },
            "type": "bar"
           }
          ],
          "barpolar": [
           {
            "marker": {
             "line": {
              "color": "#E5ECF6",
              "width": 0.5
             }
            },
            "type": "barpolar"
           }
          ],
          "carpet": [
           {
            "aaxis": {
             "endlinecolor": "#2a3f5f",
             "gridcolor": "white",
             "linecolor": "white",
             "minorgridcolor": "white",
             "startlinecolor": "#2a3f5f"
            },
            "baxis": {
             "endlinecolor": "#2a3f5f",
             "gridcolor": "white",
             "linecolor": "white",
             "minorgridcolor": "white",
             "startlinecolor": "#2a3f5f"
            },
            "type": "carpet"
           }
          ],
          "choropleth": [
           {
            "colorbar": {
             "outlinewidth": 0,
             "ticks": ""
            },
            "type": "choropleth"
           }
          ],
          "contour": [
           {
            "colorbar": {
             "outlinewidth": 0,
             "ticks": ""
            },
            "colorscale": [
             [
              0,
              "#0d0887"
             ],
             [
              0.1111111111111111,
              "#46039f"
             ],
             [
              0.2222222222222222,
              "#7201a8"
             ],
             [
              0.3333333333333333,
              "#9c179e"
             ],
             [
              0.4444444444444444,
              "#bd3786"
             ],
             [
              0.5555555555555556,
              "#d8576b"
             ],
             [
              0.6666666666666666,
              "#ed7953"
             ],
             [
              0.7777777777777778,
              "#fb9f3a"
             ],
             [
              0.8888888888888888,
              "#fdca26"
             ],
             [
              1,
              "#f0f921"
             ]
            ],
            "type": "contour"
           }
          ],
          "contourcarpet": [
           {
            "colorbar": {
             "outlinewidth": 0,
             "ticks": ""
            },
            "type": "contourcarpet"
           }
          ],
          "heatmap": [
           {
            "colorbar": {
             "outlinewidth": 0,
             "ticks": ""
            },
            "colorscale": [
             [
              0,
              "#0d0887"
             ],
             [
              0.1111111111111111,
              "#46039f"
             ],
             [
              0.2222222222222222,
              "#7201a8"
             ],
             [
              0.3333333333333333,
              "#9c179e"
             ],
             [
              0.4444444444444444,
              "#bd3786"
             ],
             [
              0.5555555555555556,
              "#d8576b"
             ],
             [
              0.6666666666666666,
              "#ed7953"
             ],
             [
              0.7777777777777778,
              "#fb9f3a"
             ],
             [
              0.8888888888888888,
              "#fdca26"
             ],
             [
              1,
              "#f0f921"
             ]
            ],
            "type": "heatmap"
           }
          ],
          "heatmapgl": [
           {
            "colorbar": {
             "outlinewidth": 0,
             "ticks": ""
            },
            "colorscale": [
             [
              0,
              "#0d0887"
             ],
             [
              0.1111111111111111,
              "#46039f"
             ],
             [
              0.2222222222222222,
              "#7201a8"
             ],
             [
              0.3333333333333333,
              "#9c179e"
             ],
             [
              0.4444444444444444,
              "#bd3786"
             ],
             [
              0.5555555555555556,
              "#d8576b"
             ],
             [
              0.6666666666666666,
              "#ed7953"
             ],
             [
              0.7777777777777778,
              "#fb9f3a"
             ],
             [
              0.8888888888888888,
              "#fdca26"
             ],
             [
              1,
              "#f0f921"
             ]
            ],
            "type": "heatmapgl"
           }
          ],
          "histogram": [
           {
            "marker": {
             "colorbar": {
              "outlinewidth": 0,
              "ticks": ""
             }
            },
            "type": "histogram"
           }
          ],
          "histogram2d": [
           {
            "colorbar": {
             "outlinewidth": 0,
             "ticks": ""
            },
            "colorscale": [
             [
              0,
              "#0d0887"
             ],
             [
              0.1111111111111111,
              "#46039f"
             ],
             [
              0.2222222222222222,
              "#7201a8"
             ],
             [
              0.3333333333333333,
              "#9c179e"
             ],
             [
              0.4444444444444444,
              "#bd3786"
             ],
             [
              0.5555555555555556,
              "#d8576b"
             ],
             [
              0.6666666666666666,
              "#ed7953"
             ],
             [
              0.7777777777777778,
              "#fb9f3a"
             ],
             [
              0.8888888888888888,
              "#fdca26"
             ],
             [
              1,
              "#f0f921"
             ]
            ],
            "type": "histogram2d"
           }
          ],
          "histogram2dcontour": [
           {
            "colorbar": {
             "outlinewidth": 0,
             "ticks": ""
            },
            "colorscale": [
             [
              0,
              "#0d0887"
             ],
             [
              0.1111111111111111,
              "#46039f"
             ],
             [
              0.2222222222222222,
              "#7201a8"
             ],
             [
              0.3333333333333333,
              "#9c179e"
             ],
             [
              0.4444444444444444,
              "#bd3786"
             ],
             [
              0.5555555555555556,
              "#d8576b"
             ],
             [
              0.6666666666666666,
              "#ed7953"
             ],
             [
              0.7777777777777778,
              "#fb9f3a"
             ],
             [
              0.8888888888888888,
              "#fdca26"
             ],
             [
              1,
              "#f0f921"
             ]
            ],
            "type": "histogram2dcontour"
           }
          ],
          "mesh3d": [
           {
            "colorbar": {
             "outlinewidth": 0,
             "ticks": ""
            },
            "type": "mesh3d"
           }
          ],
          "parcoords": [
           {
            "line": {
             "colorbar": {
              "outlinewidth": 0,
              "ticks": ""
             }
            },
            "type": "parcoords"
           }
          ],
          "pie": [
           {
            "automargin": true,
            "type": "pie"
           }
          ],
          "scatter": [
           {
            "marker": {
             "colorbar": {
              "outlinewidth": 0,
              "ticks": ""
             }
            },
            "type": "scatter"
           }
          ],
          "scatter3d": [
           {
            "line": {
             "colorbar": {
              "outlinewidth": 0,
              "ticks": ""
             }
            },
            "marker": {
             "colorbar": {
              "outlinewidth": 0,
              "ticks": ""
             }
            },
            "type": "scatter3d"
           }
          ],
          "scattercarpet": [
           {
            "marker": {
             "colorbar": {
              "outlinewidth": 0,
              "ticks": ""
             }
            },
            "type": "scattercarpet"
           }
          ],
          "scattergeo": [
           {
            "marker": {
             "colorbar": {
              "outlinewidth": 0,
              "ticks": ""
             }
            },
            "type": "scattergeo"
           }
          ],
          "scattergl": [
           {
            "marker": {
             "colorbar": {
              "outlinewidth": 0,
              "ticks": ""
             }
            },
            "type": "scattergl"
           }
          ],
          "scattermapbox": [
           {
            "marker": {
             "colorbar": {
              "outlinewidth": 0,
              "ticks": ""
             }
            },
            "type": "scattermapbox"
           }
          ],
          "scatterpolar": [
           {
            "marker": {
             "colorbar": {
              "outlinewidth": 0,
              "ticks": ""
             }
            },
            "type": "scatterpolar"
           }
          ],
          "scatterpolargl": [
           {
            "marker": {
             "colorbar": {
              "outlinewidth": 0,
              "ticks": ""
             }
            },
            "type": "scatterpolargl"
           }
          ],
          "scatterternary": [
           {
            "marker": {
             "colorbar": {
              "outlinewidth": 0,
              "ticks": ""
             }
            },
            "type": "scatterternary"
           }
          ],
          "surface": [
           {
            "colorbar": {
             "outlinewidth": 0,
             "ticks": ""
            },
            "colorscale": [
             [
              0,
              "#0d0887"
             ],
             [
              0.1111111111111111,
              "#46039f"
             ],
             [
              0.2222222222222222,
              "#7201a8"
             ],
             [
              0.3333333333333333,
              "#9c179e"
             ],
             [
              0.4444444444444444,
              "#bd3786"
             ],
             [
              0.5555555555555556,
              "#d8576b"
             ],
             [
              0.6666666666666666,
              "#ed7953"
             ],
             [
              0.7777777777777778,
              "#fb9f3a"
             ],
             [
              0.8888888888888888,
              "#fdca26"
             ],
             [
              1,
              "#f0f921"
             ]
            ],
            "type": "surface"
           }
          ],
          "table": [
           {
            "cells": {
             "fill": {
              "color": "#EBF0F8"
             },
             "line": {
              "color": "white"
             }
            },
            "header": {
             "fill": {
              "color": "#C8D4E3"
             },
             "line": {
              "color": "white"
             }
            },
            "type": "table"
           }
          ]
         },
         "layout": {
          "annotationdefaults": {
           "arrowcolor": "#2a3f5f",
           "arrowhead": 0,
           "arrowwidth": 1
          },
          "autotypenumbers": "strict",
          "coloraxis": {
           "colorbar": {
            "outlinewidth": 0,
            "ticks": ""
           }
          },
          "colorscale": {
           "diverging": [
            [
             0,
             "#8e0152"
            ],
            [
             0.1,
             "#c51b7d"
            ],
            [
             0.2,
             "#de77ae"
            ],
            [
             0.3,
             "#f1b6da"
            ],
            [
             0.4,
             "#fde0ef"
            ],
            [
             0.5,
             "#f7f7f7"
            ],
            [
             0.6,
             "#e6f5d0"
            ],
            [
             0.7,
             "#b8e186"
            ],
            [
             0.8,
             "#7fbc41"
            ],
            [
             0.9,
             "#4d9221"
            ],
            [
             1,
             "#276419"
            ]
           ],
           "sequential": [
            [
             0,
             "#0d0887"
            ],
            [
             0.1111111111111111,
             "#46039f"
            ],
            [
             0.2222222222222222,
             "#7201a8"
            ],
            [
             0.3333333333333333,
             "#9c179e"
            ],
            [
             0.4444444444444444,
             "#bd3786"
            ],
            [
             0.5555555555555556,
             "#d8576b"
            ],
            [
             0.6666666666666666,
             "#ed7953"
            ],
            [
             0.7777777777777778,
             "#fb9f3a"
            ],
            [
             0.8888888888888888,
             "#fdca26"
            ],
            [
             1,
             "#f0f921"
            ]
           ],
           "sequentialminus": [
            [
             0,
             "#0d0887"
            ],
            [
             0.1111111111111111,
             "#46039f"
            ],
            [
             0.2222222222222222,
             "#7201a8"
            ],
            [
             0.3333333333333333,
             "#9c179e"
            ],
            [
             0.4444444444444444,
             "#bd3786"
            ],
            [
             0.5555555555555556,
             "#d8576b"
            ],
            [
             0.6666666666666666,
             "#ed7953"
            ],
            [
             0.7777777777777778,
             "#fb9f3a"
            ],
            [
             0.8888888888888888,
             "#fdca26"
            ],
            [
             1,
             "#f0f921"
            ]
           ]
          },
          "colorway": [
           "#636efa",
           "#EF553B",
           "#00cc96",
           "#ab63fa",
           "#FFA15A",
           "#19d3f3",
           "#FF6692",
           "#B6E880",
           "#FF97FF",
           "#FECB52"
          ],
          "font": {
           "color": "#2a3f5f"
          },
          "geo": {
           "bgcolor": "white",
           "lakecolor": "white",
           "landcolor": "#E5ECF6",
           "showlakes": true,
           "showland": true,
           "subunitcolor": "white"
          },
          "hoverlabel": {
           "align": "left"
          },
          "hovermode": "closest",
          "mapbox": {
           "style": "light"
          },
          "paper_bgcolor": "white",
          "plot_bgcolor": "#E5ECF6",
          "polar": {
           "angularaxis": {
            "gridcolor": "white",
            "linecolor": "white",
            "ticks": ""
           },
           "bgcolor": "#E5ECF6",
           "radialaxis": {
            "gridcolor": "white",
            "linecolor": "white",
            "ticks": ""
           }
          },
          "scene": {
           "xaxis": {
            "backgroundcolor": "#E5ECF6",
            "gridcolor": "white",
            "gridwidth": 2,
            "linecolor": "white",
            "showbackground": true,
            "ticks": "",
            "zerolinecolor": "white"
           },
           "yaxis": {
            "backgroundcolor": "#E5ECF6",
            "gridcolor": "white",
            "gridwidth": 2,
            "linecolor": "white",
            "showbackground": true,
            "ticks": "",
            "zerolinecolor": "white"
           },
           "zaxis": {
            "backgroundcolor": "#E5ECF6",
            "gridcolor": "white",
            "gridwidth": 2,
            "linecolor": "white",
            "showbackground": true,
            "ticks": "",
            "zerolinecolor": "white"
           }
          },
          "shapedefaults": {
           "line": {
            "color": "#2a3f5f"
           }
          },
          "ternary": {
           "aaxis": {
            "gridcolor": "white",
            "linecolor": "white",
            "ticks": ""
           },
           "baxis": {
            "gridcolor": "white",
            "linecolor": "white",
            "ticks": ""
           },
           "bgcolor": "#E5ECF6",
           "caxis": {
            "gridcolor": "white",
            "linecolor": "white",
            "ticks": ""
           }
          },
          "title": {
           "x": 0.05
          },
          "xaxis": {
           "automargin": true,
           "gridcolor": "white",
           "linecolor": "white",
           "ticks": "",
           "title": {
            "standoff": 15
           },
           "zerolinecolor": "white",
           "zerolinewidth": 2
          },
          "yaxis": {
           "automargin": true,
           "gridcolor": "white",
           "linecolor": "white",
           "ticks": "",
           "title": {
            "standoff": 15
           },
           "zerolinecolor": "white",
           "zerolinewidth": 2
          }
         }
        },
        "xaxis": {
         "anchor": "y",
         "domain": [
          0,
          1
         ],
         "title": {
          "text": "freq"
         }
        },
        "yaxis": {
         "anchor": "x",
         "domain": [
          0,
          1
         ],
         "title": {
          "text": "sent"
         }
        }
       }
      }
     },
     "metadata": {}
    }
   ],
   "source": [
    "px.scatter(s_new_filter, x='freq', y='sent', text='index')"
   ]
  },
  {
   "cell_type": "code",
   "execution_count": 219,
   "metadata": {},
   "outputs": [],
   "source": [
    "update_dict = {\n",
    "    # existing\n",
    "    \"crisis\": 0,\n",
    "    \"Crisis\": 0,\n",
    "    \"positive\": -1.5,\n",
    "    \"Positive\": -1.5,\n",
    "\n",
    "\n",
    "    \"death\": -1,\n",
    "    \"Death\": -1,\n",
    "    \"die\": -1.5,\n",
    "    \"Die\": -1.5,\n",
    "    \"bad\": -1,\n",
    "    \"Bad\": -1,\n",
    "    \"fear\": -1.5,\n",
    "    \"Fear\": -1.5,\n",
    "    \n",
    "    \"unemployment\": -0.5,\n",
    "    \"emergency\": 0,\n",
    "    \"fight\": 1,\n",
    "    \"stop\": 0.5,\n",
    "    \"loser\": -0.5,\n",
    "    \"restriction\": -0.5,\n",
    "    \"risk\": 0,\n",
    "    \"cut\": 0,\n",
    "    \"low\":0,\n",
    "    \"number\": -1,\n",
    "    \"care\": -0.5,\n",
    "    \"increase\": -0.5,\n",
    "    \"united\": -0.5,\n",
    "    \"security\": -1,\n",
    "\n",
    "    \"Unemployment\": -0.5,\n",
    "    \"Emergency\": 0,\n",
    "    \"Fight\": 1,\n",
    "    \"Stop\": 0.5,\n",
    "    \"Loser\": -0.5,\n",
    "    \"Restriction\": -0.5,\n",
    "    \"Risk\": 0,\n",
    "    \"Cut\": 0,\n",
    "    \"Low\":0,\n",
    "    \"Number\": -1,\n",
    "    \"Care\": -0.5,\n",
    "    \"Increase\": -0.5,\n",
    "    \"United\": -0.5,\n",
    "    \"Security\": -1,\n",
    "\n",
    "    \n",
    "\n",
    "\n",
    "    # new\n",
    "    \n",
    "    \"pandemic\": -0.5,\n",
    "    \"Pandemic\": -0.5,\n",
    "    \"virus\": -0.5,\n",
    "    \"Virus\": -0.5,\n",
    "    \"covid19\": -1,\n",
    "    \"Covid19\": -1,\n",
    "    \"high\": -1.5,\n",
    "    \"High\": -1.5,\n",
    "    \"home\": -1,\n",
    "    \"Home\": -1,\n",
    "    \"report\": -1,\n",
    "    \"Report\": -1,\n",
    "    \"China\": -0.5,\n",
    "    \"work\": 1,\n",
    "    \"Work\": 1,\n",
    "    \"government\": 1,\n",
    "    \"Government\": 1,\n",
    "    \"outbreak\": -2,\n",
    "    \"Outbreak\": -2,\n",
    "    \"lockdown\": -0.5,\n",
    "    \"Lockdown\": -0.5,\n",
    "    \"test\": -0.5,\n",
    "    \"Test\": -0.5,\n",
    "    \"business\": 0.5,\n",
    "    \"Business\": 0.5\n",
    "    \n",
    "}"
   ]
  },
  {
   "cell_type": "code",
   "execution_count": 220,
   "metadata": {},
   "outputs": [
    {
     "output_type": "execute_result",
     "data": {
      "text/plain": [
       "sent    -0.435039\n",
       "freq    91.000000\n",
       "Name: virus, dtype: float64"
      ]
     },
     "metadata": {},
     "execution_count": 220
    }
   ],
   "source": [
    "s_df.loc['virus']"
   ]
  },
  {
   "source": [
    "## Calculate Sentence Scores"
   ],
   "cell_type": "markdown",
   "metadata": {}
  },
  {
   "cell_type": "code",
   "execution_count": 221,
   "metadata": {},
   "outputs": [],
   "source": [
    "sid = SentimentIntensityAnalyzer()\n",
    "sid.lexicon.update(update_dict)"
   ]
  },
  {
   "cell_type": "code",
   "execution_count": 206,
   "metadata": {},
   "outputs": [],
   "source": [
    "sentence_scores = []\n",
    "labels = []\n",
    "for i in range(len(data)):\n",
    "    if bool(data[i]['Label']):\n",
    "        sentence = data[i]['Labeled Data']\n",
    "        sentence_scores.append(sid.polarity_scores(sentence)['compound'])\n",
    "        label = data[i]['Label']['classifications'][0]['answer'][0]['value']\n",
    "        if label == 'neutral':\n",
    "            labels.append(0)\n",
    "        elif label == 'negative':\n",
    "            labels.append(-1)\n",
    "        else:\n",
    "            labels.append(1)\n"
   ]
  },
  {
   "source": [
    "## Compute Accuracy Metrics"
   ],
   "cell_type": "markdown",
   "metadata": {}
  },
  {
   "cell_type": "code",
   "execution_count": 207,
   "metadata": {},
   "outputs": [],
   "source": [
    "import numpy as np\n",
    "from accuracy_metrics import *\n",
    "\n",
    "def find_opt_metrics(predictions, gold_labels, lower_bound=-1, upper_bound=1, step=0.05):\n",
    "    \n",
    "    # opt_lower = -0.75\n",
    "    # opt_upper = 0.75\n",
    "    max_f1 = 0 \n",
    "    opt_metrics = None\n",
    "    for lower in np.arange(lower_bound, upper_bound, step):\n",
    "        for upper in np.arange(upper_bound, lower, step*-1):\n",
    "            metrics = AccuracyMetrics(predictions, gold_labels, neutral_upper=upper, neutral_lower=lower)\n",
    "            if metrics.macro_f1 > max_f1:\n",
    "                # opt_lower = lower\n",
    "                # opt_upper = upper\n",
    "                max_f1 = metrics.macro_f1\n",
    "                opt_metrics = metrics\n",
    "    \n",
    "    return opt_metrics"
   ]
  },
  {
   "cell_type": "code",
   "execution_count": 208,
   "metadata": {},
   "outputs": [],
   "source": [
    "opt_metrics = find_opt_metrics(sentence_scores, labels)"
   ]
  },
  {
   "cell_type": "code",
   "execution_count": 209,
   "metadata": {},
   "outputs": [],
   "source": [
    "opt_neutral_lower = opt_metrics.neutral_upper\n",
    "opt_neutral_upper = opt_metrics.neutral_upper"
   ]
  },
  {
   "cell_type": "code",
   "execution_count": 210,
   "metadata": {},
   "outputs": [],
   "source": [
    "import csv\n",
    "def write_opt_acc_metrics(accuracy_metrics, path):\n",
    "\n",
    "    with open(path, mode='w') as csv_file:\n",
    "        accuracy_writer = csv.writer(csv_file, delimiter=',', quotechar='\"')\n",
    "        accuracy_writer.writerow(list(accuracy_metrics.result_dict().keys()) + ['neutral_lower', 'neutral_upper'])\n",
    "\n",
    "        this_met = accuracy_metrics\n",
    "        accuracy_writer.writerow(list(this_met.result_dict().values()) + [str(this_met.neutral_lower), str(this_met.neutral_upper)])"
   ]
  },
  {
   "cell_type": "code",
   "execution_count": 211,
   "metadata": {},
   "outputs": [],
   "source": [
    "write_opt_acc_metrics(opt_metrics, '../results/sentence_only_acc_metrics.csv')"
   ]
  },
  {
   "source": [
    "## Make predictions on new sentences"
   ],
   "cell_type": "markdown",
   "metadata": {}
  },
  {
   "cell_type": "code",
   "execution_count": 226,
   "metadata": {},
   "outputs": [
    {
     "output_type": "execute_result",
     "data": {
      "text/plain": [
       "<function TextIOWrapper.close()>"
      ]
     },
     "metadata": {},
     "execution_count": 226
    }
   ],
   "source": [
    "f = open('./new_unlabelled_sentences.json')\n",
    "new_sentences = json.load(f)\n",
    "f.close"
   ]
  },
  {
   "cell_type": "code",
   "execution_count": 231,
   "metadata": {},
   "outputs": [],
   "source": [
    "\n",
    "output = []\n",
    "\n",
    "for i in range(len(new_sentences)):\n",
    "    score = sid.polarity_scores(new_sentences[i])['compound']\n",
    "    if score < -0.05:\n",
    "        output.append({'text': new_sentences[i], 'score': score, 'label': -1})\n",
    "    elif score < 0.5:\n",
    "        output.append({'text': new_sentences[i], 'score': score, 'label': 0})\n",
    "    else:\n",
    "        output.append({'text': new_sentences[i], 'score': score, 'label': 1})"
   ]
  },
  {
   "cell_type": "code",
   "execution_count": 234,
   "metadata": {},
   "outputs": [],
   "source": [
    "with open(\"../results/new_sentence_scores.json\", 'w') as outfile:\n",
    "    json.dump(output, outfile)"
   ]
  },
  {
   "source": [
    "## Score All Articles with Avg Sentence Scores"
   ],
   "cell_type": "markdown",
   "metadata": {}
  },
  {
   "cell_type": "code",
   "execution_count": 240,
   "metadata": {},
   "outputs": [
    {
     "output_type": "stream",
     "name": "stdout",
     "text": [
      "starting database request\n",
      "executed sql command\n",
      "fetched data\n",
      "finished reading data\n"
     ]
    }
   ],
   "source": [
    "import pymysql.cursors\n",
    "import pandas as pd\n",
    "import datetime\n",
    "import time\n",
    "\n",
    "def convert_date(date_as_int):\n",
    "    date_as_str = str(date_as_int)\n",
    "    return datetime.date(int(date_as_str[0:4]), int(date_as_str[4:6]), int(date_as_str[6:8]))\n",
    "\n",
    "\n",
    "connection = pymysql.connect(host=\"nlp2590.ckdech7dwvqp.us-east-1.rds.amazonaws.com\",\n",
    "    port=3310,\n",
    "    user='nlp2590',\n",
    "    password='lDABt9PoT7wJcdjljome',\n",
    "    db='nlp2590')\n",
    "\n",
    "valid_ids = []\n",
    "articles = []\n",
    "dates = []\n",
    "\n",
    "try: \n",
    "    with connection.cursor() as cursor:\n",
    "        sql = 'select news.RECORDID, news.body, gdelt_raw.DATE from news inner join gdelt_raw on news.RECORDID = gdelt_raw.RECORDID where news.body != \"\"; '\n",
    "        print('starting database request')\n",
    "        cursor.execute(sql)\n",
    "        print('executed sql command')\n",
    "        rows = cursor.fetchall()\n",
    "        print('fetched data')\n",
    "        for row in rows:\n",
    "            valid_ids.append(row[0])\n",
    "            articles.append(row[1])\n",
    "            dates.append(convert_date(row[2]))\n",
    "        print('finished reading data')\n",
    "finally:\n",
    "    connection.close()\n"
   ]
  },
  {
   "cell_type": "code",
   "execution_count": 245,
   "metadata": {},
   "outputs": [],
   "source": [
    "def split_to_chunks(lst, n):\n",
    "    for i in range(0, len(lst), n):\n",
    "        yield lst[i: i+n]\n",
    "        \n",
    "valid_ids_chunks = list(split_to_chunks(valid_ids, 1000))\n",
    "articles_chunks = list(split_to_chunks(articles, 1000))\n",
    "dates_chunks = list(split_to_chunks(dates, 1000))"
   ]
  },
  {
   "cell_type": "code",
   "execution_count": 256,
   "metadata": {},
   "outputs": [],
   "source": [
    "\n",
    "def get_sentences(article):\n",
    "    article = str(article)\n",
    "    article = article.replace('\\xa0', '\\n')\n",
    "    sentences = re.split(r\"\\.|\\?|\\!\", article)\n",
    "    sentences = [sentence.replace(\"\\\\\", \"\") for sentence in sentences]\n",
    "    return sentences\n",
    "\n",
    "def compute_sentence_scores(sentences):\n",
    "    \n",
    "    scores = []\n",
    "    for sentence in sentences:\n",
    "        scores.append(sid.polarity_scores(sentence)['compound'])\n",
    "    return scores\n",
    "def compute_article_sentiment(articles):\n",
    "    scores = []\n",
    "    for article in articles:\n",
    "        sentences = get_sentences(article)\n",
    "        sentence_scores = compute_sentence_scores(sentences)\n",
    "        average_sentence = statistics.mean(sentence_scores)\n",
    "        scores.append(average_sentence)\n",
    "    return scores\n",
    "    \n",
    "def map_predictions(predictions, neutral_lower=-0.05, neutral_upper=0.5):\n",
    "    print('starting to map predictions')\n",
    "    mapped_predictions = []\n",
    "    for index in range(len(predictions)):\n",
    "        if predictions[index] <= neutral_lower:\n",
    "            mapped_predictions.append(-1)\n",
    "        elif predictions[index] <= neutral_upper:\n",
    "            mapped_predictions.append(0)\n",
    "        else:\n",
    "            mapped_predictions.append(1)\n",
    "    print('finished mapping predictions')\n",
    "    return mapped_predictions\n",
    "\n",
    "def write_to_csv(valid_ids, dates, sentiment_scores, predictions, path):\n",
    "    print('starting to write csv')\n",
    "    col_dict = {'RECORDID': valid_ids, 'dates': dates, 'sentiment_scores': sentiment_scores, 'predictions': predictions}\n",
    "    df = pd.DataFrame(col_dict)\n",
    "    df.to_csv(path, mode='a', index=False, header=False)\n",
    "    print('finished writing csv')"
   ]
  },
  {
   "cell_type": "code",
   "execution_count": 246,
   "metadata": {},
   "outputs": [
    {
     "output_type": "execute_result",
     "data": {
      "text/plain": [
       "['20200101-1354',\n",
       " '20200101-7413',\n",
       " '20200101-35956',\n",
       " '20200101-41222',\n",
       " '20200102-35824',\n",
       " '20200102-59125',\n",
       " '20200102-67127',\n",
       " '20200102-70507',\n",
       " '20200102-75142',\n",
       " '20200103-8289',\n",
       " '20200103-8874',\n",
       " '20200103-14790',\n",
       " '20200103-16511',\n",
       " '20200103-22064',\n",
       " '20200103-33074',\n",
       " '20200103-48026',\n",
       " '20200103-50503',\n",
       " '20200103-71561',\n",
       " '20200103-72306',\n",
       " '20200104-7015',\n",
       " '20200104-14696',\n",
       " '20200104-38302',\n",
       " '20200104-48506',\n",
       " '20200105-32772',\n",
       " '20200105-40742',\n",
       " '20200105-43053',\n",
       " '20200106-6296',\n",
       " '20200106-26815',\n",
       " '20200106-27490',\n",
       " '20200106-39691',\n",
       " '20200106-43334',\n",
       " '20200106-50161',\n",
       " '20200106-51373',\n",
       " '20200106-77459',\n",
       " '20200106-86670',\n",
       " '20200107-3894',\n",
       " '20200107-7596',\n",
       " '20200107-16624',\n",
       " '20200107-26385',\n",
       " '20200107-27518',\n",
       " '20200107-27589',\n",
       " '20200107-29946',\n",
       " '20200107-30531',\n",
       " '20200107-36501',\n",
       " '20200107-42411',\n",
       " '20200107-44037',\n",
       " '20200107-62650',\n",
       " '20200107-67727',\n",
       " '20200107-81657',\n",
       " '20200107-85458',\n",
       " '20200108-29055',\n",
       " '20200108-52817',\n",
       " '20200108-58121',\n",
       " '20200108-61860',\n",
       " '20200108-62733',\n",
       " '20200108-69553',\n",
       " '20200108-75290',\n",
       " '20200108-94276',\n",
       " '20200108-96581',\n",
       " '20200109-16119',\n",
       " '20200109-25270',\n",
       " '20200109-51076',\n",
       " '20200109-58388',\n",
       " '20200109-76649',\n",
       " '20200109-77975',\n",
       " '20200109-99561',\n",
       " '20200110-3119',\n",
       " '20200110-7499',\n",
       " '20200110-45442',\n",
       " '20200110-47089',\n",
       " '20200110-57823',\n",
       " '20200110-70502',\n",
       " '20200110-76360',\n",
       " '20200110-76560',\n",
       " '20200111-12870',\n",
       " '20200111-17424',\n",
       " '20200111-19186',\n",
       " '20200111-39993',\n",
       " '20200111-43868',\n",
       " '20200111-48986',\n",
       " '20200112-18084',\n",
       " '20200113-4121',\n",
       " '20200113-41019',\n",
       " '20200113-45630',\n",
       " '20200113-51156',\n",
       " '20200113-52589',\n",
       " '20200113-58706',\n",
       " '20200113-61416',\n",
       " '20200113-62523',\n",
       " '20200113-68891',\n",
       " '20200113-84618',\n",
       " '20200114-7015',\n",
       " '20200114-14191',\n",
       " '20200114-27319',\n",
       " '20200114-36501',\n",
       " '20200114-37170',\n",
       " '20200114-42574',\n",
       " '20200114-53732',\n",
       " '20200114-76170',\n",
       " '20200114-81433',\n",
       " '20200114-83254',\n",
       " '20200115-539',\n",
       " '20200115-28855',\n",
       " '20200115-42885',\n",
       " '20200115-66083',\n",
       " '20200115-76204',\n",
       " '20200115-80607',\n",
       " '20200115-86893',\n",
       " '20200116-11641',\n",
       " '20200116-21281',\n",
       " '20200116-21457',\n",
       " '20200116-27485',\n",
       " '20200116-54091',\n",
       " '20200116-64671',\n",
       " '20200116-67410',\n",
       " '20200116-87208',\n",
       " '20200116-87541',\n",
       " '20200116-94416',\n",
       " '20200117-3045',\n",
       " '20200117-6776',\n",
       " '20200117-11976',\n",
       " '20200117-12650',\n",
       " '20200117-21108',\n",
       " '20200117-39508',\n",
       " '20200117-40825',\n",
       " '20200117-58721',\n",
       " '20200117-72493',\n",
       " '20200117-82903',\n",
       " '20200117-84260',\n",
       " '20200118-3219',\n",
       " '20200118-8048',\n",
       " '20200118-14363',\n",
       " '20200118-19397',\n",
       " '20200118-20058',\n",
       " '20200118-21570',\n",
       " '20200118-28642',\n",
       " '20200118-32800',\n",
       " '20200118-36184',\n",
       " '20200118-46557',\n",
       " '20200118-49709',\n",
       " '20200118-50200',\n",
       " '20200119-3129',\n",
       " '20200119-21712',\n",
       " '20200119-31572',\n",
       " '20200119-44517',\n",
       " '20200119-44598',\n",
       " '20200119-47180',\n",
       " '20200120-9072',\n",
       " '20200120-9974',\n",
       " '20200120-13916',\n",
       " '20200120-23091',\n",
       " '20200120-24110',\n",
       " '20200120-25205',\n",
       " '20200120-28250',\n",
       " '20200120-28426',\n",
       " '20200120-35597',\n",
       " '20200120-41218',\n",
       " '20200120-44206',\n",
       " '20200120-53887',\n",
       " '20200120-58389',\n",
       " '20200120-59744',\n",
       " '20200120-60224',\n",
       " '20200120-60863',\n",
       " '20200120-61503',\n",
       " '20200120-62259',\n",
       " '20200120-66925',\n",
       " '20200120-73169',\n",
       " '20200120-75046',\n",
       " '20200120-75069',\n",
       " '20200120-77905',\n",
       " '20200120-81958',\n",
       " '20200121-949',\n",
       " '20200121-5160',\n",
       " '20200121-8792',\n",
       " '20200121-9029',\n",
       " '20200121-9276',\n",
       " '20200121-11016',\n",
       " '20200121-16634',\n",
       " '20200121-18804',\n",
       " '20200121-18929',\n",
       " '20200121-21088',\n",
       " '20200121-21297',\n",
       " '20200121-22825',\n",
       " '20200121-23780',\n",
       " '20200121-24238',\n",
       " '20200121-26018',\n",
       " '20200121-26603',\n",
       " '20200121-26679',\n",
       " '20200121-27527',\n",
       " '20200121-27931',\n",
       " '20200121-28715',\n",
       " '20200121-29814',\n",
       " '20200121-30144',\n",
       " '20200121-31928',\n",
       " '20200121-32187',\n",
       " '20200121-38504',\n",
       " '20200121-42024',\n",
       " '20200121-42187',\n",
       " '20200121-42206',\n",
       " '20200121-43649',\n",
       " '20200121-45185',\n",
       " '20200121-46050',\n",
       " '20200121-47107',\n",
       " '20200121-47477',\n",
       " '20200121-48165',\n",
       " '20200121-48254',\n",
       " '20200121-51864',\n",
       " '20200121-53948',\n",
       " '20200121-59622',\n",
       " '20200121-60509',\n",
       " '20200121-61038',\n",
       " '20200121-61051',\n",
       " '20200121-61241',\n",
       " '20200121-61599',\n",
       " '20200121-62879',\n",
       " '20200121-64604',\n",
       " '20200121-66341',\n",
       " '20200121-66419',\n",
       " '20200121-67297',\n",
       " '20200121-67806',\n",
       " '20200121-68855',\n",
       " '20200121-70728',\n",
       " '20200121-70988',\n",
       " '20200121-72601',\n",
       " '20200121-73132',\n",
       " '20200121-75930',\n",
       " '20200121-76911',\n",
       " '20200121-79595',\n",
       " '20200121-80726',\n",
       " '20200121-83366',\n",
       " '20200121-85831',\n",
       " '20200121-86821',\n",
       " '20200121-87987',\n",
       " '20200121-88158',\n",
       " '20200121-90309',\n",
       " '20200121-93090',\n",
       " '20200122-2208',\n",
       " '20200122-4054',\n",
       " '20200122-4208',\n",
       " '20200122-4564',\n",
       " '20200122-5736',\n",
       " '20200122-6699',\n",
       " '20200122-6747',\n",
       " '20200122-6752',\n",
       " '20200122-6930',\n",
       " '20200122-7079',\n",
       " '20200122-13107',\n",
       " '20200122-13380',\n",
       " '20200122-14115',\n",
       " '20200122-15401',\n",
       " '20200122-15530',\n",
       " '20200122-16392',\n",
       " '20200122-18750',\n",
       " '20200122-19689',\n",
       " '20200122-20624',\n",
       " '20200122-20665',\n",
       " '20200122-21625',\n",
       " '20200122-21669',\n",
       " '20200122-23149',\n",
       " '20200122-23366',\n",
       " '20200122-23519',\n",
       " '20200122-24102',\n",
       " '20200122-24173',\n",
       " '20200122-24734',\n",
       " '20200122-24965',\n",
       " '20200122-27359',\n",
       " '20200122-27796',\n",
       " '20200122-28765',\n",
       " '20200122-30813',\n",
       " '20200122-30839',\n",
       " '20200122-33206',\n",
       " '20200122-35753',\n",
       " '20200122-35845',\n",
       " '20200122-38392',\n",
       " '20200122-43604',\n",
       " '20200122-44501',\n",
       " '20200122-45130',\n",
       " '20200122-47580',\n",
       " '20200122-49470',\n",
       " '20200122-50110',\n",
       " '20200122-50583',\n",
       " '20200122-50899',\n",
       " '20200122-51814',\n",
       " '20200122-51885',\n",
       " '20200122-54219',\n",
       " '20200122-57378',\n",
       " '20200122-59750',\n",
       " '20200122-61559',\n",
       " '20200122-63268',\n",
       " '20200122-64195',\n",
       " '20200122-65580',\n",
       " '20200122-66023',\n",
       " '20200122-66025',\n",
       " '20200122-69024',\n",
       " '20200122-69964',\n",
       " '20200122-71257',\n",
       " '20200122-72503',\n",
       " '20200122-72725',\n",
       " '20200122-72790',\n",
       " '20200122-75277',\n",
       " '20200122-78317',\n",
       " '20200122-78934',\n",
       " '20200122-81454',\n",
       " '20200122-82904',\n",
       " '20200122-83371',\n",
       " '20200122-83558',\n",
       " '20200122-83644',\n",
       " '20200122-83883',\n",
       " '20200122-84139',\n",
       " '20200122-87615',\n",
       " '20200122-88024',\n",
       " '20200122-89706',\n",
       " '20200122-90674',\n",
       " '20200122-90848',\n",
       " '20200122-91998',\n",
       " '20200122-93178',\n",
       " '20200122-94287',\n",
       " '20200122-98959',\n",
       " '20200122-101112',\n",
       " '20200122-101626',\n",
       " '20200123-1506',\n",
       " '20200123-1825',\n",
       " '20200123-1953',\n",
       " '20200123-2067',\n",
       " '20200123-2078',\n",
       " '20200123-2683',\n",
       " '20200123-3713',\n",
       " '20200123-3949',\n",
       " '20200123-4544',\n",
       " '20200123-5686',\n",
       " '20200123-5952',\n",
       " '20200123-8133',\n",
       " '20200123-8657',\n",
       " '20200123-8761',\n",
       " '20200123-8861',\n",
       " '20200123-9948',\n",
       " '20200123-11724',\n",
       " '20200123-13676',\n",
       " '20200123-14383',\n",
       " '20200123-14947',\n",
       " '20200123-14976',\n",
       " '20200123-15860',\n",
       " '20200123-17158',\n",
       " '20200123-18351',\n",
       " '20200123-18411',\n",
       " '20200123-20307',\n",
       " '20200123-22845',\n",
       " '20200123-25296',\n",
       " '20200123-25748',\n",
       " '20200123-25845',\n",
       " '20200123-26431',\n",
       " '20200123-26596',\n",
       " '20200123-26828',\n",
       " '20200123-26995',\n",
       " '20200123-27627',\n",
       " '20200123-28424',\n",
       " '20200123-29851',\n",
       " '20200123-30575',\n",
       " '20200123-30637',\n",
       " '20200123-32322',\n",
       " '20200123-34441',\n",
       " '20200123-34577',\n",
       " '20200123-34622',\n",
       " '20200123-34956',\n",
       " '20200123-35844',\n",
       " '20200123-36798',\n",
       " '20200123-36828',\n",
       " '20200123-36874',\n",
       " '20200123-37432',\n",
       " '20200123-38719',\n",
       " '20200123-38727',\n",
       " '20200123-40602',\n",
       " '20200123-41095',\n",
       " '20200123-41795',\n",
       " '20200123-42922',\n",
       " '20200123-43286',\n",
       " '20200123-45125',\n",
       " '20200123-47341',\n",
       " '20200123-51693',\n",
       " '20200123-52482',\n",
       " '20200123-54750',\n",
       " '20200123-55712',\n",
       " '20200123-56726',\n",
       " '20200123-57481',\n",
       " '20200123-57708',\n",
       " '20200123-58781',\n",
       " '20200123-60190',\n",
       " '20200123-60372',\n",
       " '20200123-61545',\n",
       " '20200123-62710',\n",
       " '20200123-63009',\n",
       " '20200123-65996',\n",
       " '20200123-66237',\n",
       " '20200123-67142',\n",
       " '20200123-68929',\n",
       " '20200123-69923',\n",
       " '20200123-70692',\n",
       " '20200123-71448',\n",
       " '20200123-72033',\n",
       " '20200123-73311',\n",
       " '20200123-75331',\n",
       " '20200123-76314',\n",
       " '20200123-76993',\n",
       " '20200123-79598',\n",
       " '20200123-80753',\n",
       " '20200123-81634',\n",
       " '20200123-86047',\n",
       " '20200123-86584',\n",
       " '20200123-87844',\n",
       " '20200123-90548',\n",
       " '20200123-91755',\n",
       " '20200123-92414',\n",
       " '20200123-92587',\n",
       " '20200123-93016',\n",
       " '20200123-93497',\n",
       " '20200123-94206',\n",
       " '20200123-94217',\n",
       " '20200123-96401',\n",
       " '20200123-97481',\n",
       " '20200123-100217',\n",
       " '20200123-101595',\n",
       " '20200123-103705',\n",
       " '20200124-793',\n",
       " '20200124-1113',\n",
       " '20200124-3151',\n",
       " '20200124-3270',\n",
       " '20200124-4657',\n",
       " '20200124-4677',\n",
       " '20200124-7399',\n",
       " '20200124-9062',\n",
       " '20200124-10492',\n",
       " '20200124-12203',\n",
       " '20200124-12819',\n",
       " '20200124-15857',\n",
       " '20200124-16451',\n",
       " '20200124-16626',\n",
       " '20200124-17583',\n",
       " '20200124-18864',\n",
       " '20200124-18966',\n",
       " '20200124-19726',\n",
       " '20200124-20056',\n",
       " '20200124-22510',\n",
       " '20200124-23309',\n",
       " '20200124-23686',\n",
       " '20200124-24405',\n",
       " '20200124-25230',\n",
       " '20200124-25382',\n",
       " '20200124-25412',\n",
       " '20200124-28034',\n",
       " '20200124-28436',\n",
       " '20200124-29415',\n",
       " '20200124-29822',\n",
       " '20200124-31447',\n",
       " '20200124-31599',\n",
       " '20200124-31850',\n",
       " '20200124-33252',\n",
       " '20200124-34509',\n",
       " '20200124-35382',\n",
       " '20200124-35502',\n",
       " '20200124-36353',\n",
       " '20200124-36511',\n",
       " '20200124-36710',\n",
       " '20200124-37372',\n",
       " '20200124-37762',\n",
       " '20200124-38249',\n",
       " '20200124-38398',\n",
       " '20200124-42284',\n",
       " '20200124-42392',\n",
       " '20200124-42949',\n",
       " '20200124-45557',\n",
       " '20200124-45793',\n",
       " '20200124-45963',\n",
       " '20200124-45992',\n",
       " '20200124-46098',\n",
       " '20200124-46966',\n",
       " '20200124-47258',\n",
       " '20200124-47382',\n",
       " '20200124-47971',\n",
       " '20200124-48095',\n",
       " '20200124-50148',\n",
       " '20200124-50815',\n",
       " '20200124-53418',\n",
       " '20200124-54836',\n",
       " '20200124-57367',\n",
       " '20200124-57842',\n",
       " '20200124-57980',\n",
       " '20200124-58357',\n",
       " '20200124-58972',\n",
       " '20200124-59881',\n",
       " '20200124-60006',\n",
       " '20200124-60712',\n",
       " '20200124-62883',\n",
       " '20200124-63587',\n",
       " '20200124-64712',\n",
       " '20200124-65313',\n",
       " '20200124-68632',\n",
       " '20200124-69617',\n",
       " '20200124-70615',\n",
       " '20200124-72327',\n",
       " '20200124-72946',\n",
       " '20200124-73346',\n",
       " '20200124-73810',\n",
       " '20200124-73999',\n",
       " '20200124-75513',\n",
       " '20200124-75621',\n",
       " '20200124-76473',\n",
       " '20200124-77933',\n",
       " '20200124-79759',\n",
       " '20200124-80421',\n",
       " '20200124-80885',\n",
       " '20200124-81289',\n",
       " '20200124-81808',\n",
       " '20200124-82804',\n",
       " '20200124-84191',\n",
       " '20200124-87371',\n",
       " '20200124-88766',\n",
       " '20200124-88771',\n",
       " '20200124-88835',\n",
       " '20200124-90501',\n",
       " '20200124-91131',\n",
       " '20200124-92094',\n",
       " '20200124-92583',\n",
       " '20200124-92847',\n",
       " '20200124-95745',\n",
       " '20200124-95982',\n",
       " '20200124-96022',\n",
       " '20200124-96330',\n",
       " '20200124-96463',\n",
       " '20200124-96735',\n",
       " '20200124-97162',\n",
       " '20200124-97685',\n",
       " '20200124-97865',\n",
       " '20200124-98271',\n",
       " '20200125-1046',\n",
       " '20200125-1486',\n",
       " '20200125-1996',\n",
       " '20200125-2269',\n",
       " '20200125-2629',\n",
       " '20200125-2935',\n",
       " '20200125-3529',\n",
       " '20200125-4239',\n",
       " '20200125-5069',\n",
       " '20200125-5697',\n",
       " '20200125-6985',\n",
       " '20200125-9178',\n",
       " '20200125-9803',\n",
       " '20200125-10201',\n",
       " '20200125-10584',\n",
       " '20200125-12311',\n",
       " '20200125-12898',\n",
       " '20200125-13448',\n",
       " '20200125-15034',\n",
       " '20200125-16970',\n",
       " '20200125-18724',\n",
       " '20200125-19895',\n",
       " '20200125-19950',\n",
       " '20200125-20160',\n",
       " '20200125-20359',\n",
       " '20200125-21312',\n",
       " '20200125-22320',\n",
       " '20200125-23566',\n",
       " '20200125-24824',\n",
       " '20200125-26759',\n",
       " '20200125-27678',\n",
       " '20200125-28246',\n",
       " '20200125-30051',\n",
       " '20200125-30557',\n",
       " '20200125-31136',\n",
       " '20200125-31382',\n",
       " '20200125-32212',\n",
       " '20200125-33161',\n",
       " '20200125-33570',\n",
       " '20200125-34996',\n",
       " '20200125-35334',\n",
       " '20200125-35394',\n",
       " '20200125-38962',\n",
       " '20200125-40014',\n",
       " '20200125-40644',\n",
       " '20200125-42011',\n",
       " '20200125-42464',\n",
       " '20200125-43278',\n",
       " '20200125-43460',\n",
       " '20200125-44415',\n",
       " '20200125-45202',\n",
       " '20200125-46994',\n",
       " '20200125-47961',\n",
       " '20200125-50642',\n",
       " '20200125-51464',\n",
       " '20200125-52235',\n",
       " '20200125-52476',\n",
       " '20200125-52627',\n",
       " '20200125-53643',\n",
       " '20200125-54218',\n",
       " '20200125-54784',\n",
       " '20200125-55272',\n",
       " '20200126-1995',\n",
       " '20200126-2066',\n",
       " '20200126-3980',\n",
       " '20200126-4655',\n",
       " '20200126-4728',\n",
       " '20200126-5486',\n",
       " '20200126-6046',\n",
       " '20200126-6247',\n",
       " '20200126-8219',\n",
       " '20200126-8884',\n",
       " '20200126-9426',\n",
       " '20200126-9461',\n",
       " '20200126-11444',\n",
       " '20200126-15244',\n",
       " '20200126-16116',\n",
       " '20200126-16924',\n",
       " '20200126-17115',\n",
       " '20200126-17196',\n",
       " '20200126-18625',\n",
       " '20200126-19528',\n",
       " '20200126-19538',\n",
       " '20200126-19872',\n",
       " '20200126-19892',\n",
       " '20200126-20875',\n",
       " '20200126-21879',\n",
       " '20200126-22089',\n",
       " '20200126-23568',\n",
       " '20200126-23933',\n",
       " '20200126-23986',\n",
       " '20200126-24479',\n",
       " '20200126-25147',\n",
       " '20200126-25791',\n",
       " '20200126-27261',\n",
       " '20200126-27280',\n",
       " '20200126-27447',\n",
       " '20200126-28281',\n",
       " '20200126-28896',\n",
       " '20200126-29022',\n",
       " '20200126-29086',\n",
       " '20200126-29683',\n",
       " '20200126-30822',\n",
       " '20200126-31404',\n",
       " '20200126-33289',\n",
       " '20200126-33652',\n",
       " '20200126-33661',\n",
       " '20200126-34342',\n",
       " '20200126-34672',\n",
       " '20200126-36754',\n",
       " '20200126-37777',\n",
       " '20200126-38122',\n",
       " '20200126-39297',\n",
       " '20200126-39343',\n",
       " '20200126-39643',\n",
       " '20200126-40008',\n",
       " '20200126-40530',\n",
       " '20200126-40669',\n",
       " '20200126-41285',\n",
       " '20200126-41336',\n",
       " '20200126-41744',\n",
       " '20200126-42333',\n",
       " '20200126-42453',\n",
       " '20200126-42491',\n",
       " '20200126-42524',\n",
       " '20200126-42871',\n",
       " '20200126-43095',\n",
       " '20200126-43524',\n",
       " '20200126-43937',\n",
       " '20200126-46088',\n",
       " '20200126-46435',\n",
       " '20200126-46930',\n",
       " '20200126-47264',\n",
       " '20200126-47423',\n",
       " '20200127-465',\n",
       " '20200127-1265',\n",
       " '20200127-2136',\n",
       " '20200127-2946',\n",
       " '20200127-3263',\n",
       " '20200127-4370',\n",
       " '20200127-4607',\n",
       " '20200127-8215',\n",
       " '20200127-8569',\n",
       " '20200127-9207',\n",
       " '20200127-9385',\n",
       " '20200127-11083',\n",
       " '20200127-12062',\n",
       " '20200127-13080',\n",
       " '20200127-13474',\n",
       " '20200127-13502',\n",
       " '20200127-13892',\n",
       " '20200127-14072',\n",
       " '20200127-14591',\n",
       " '20200127-15327',\n",
       " '20200127-16302',\n",
       " '20200127-16433',\n",
       " '20200127-16485',\n",
       " '20200127-18147',\n",
       " '20200127-18456',\n",
       " '20200127-19194',\n",
       " '20200127-19535',\n",
       " '20200127-19741',\n",
       " '20200127-19906',\n",
       " '20200127-20235',\n",
       " '20200127-20426',\n",
       " '20200127-21161',\n",
       " '20200127-21331',\n",
       " '20200127-22919',\n",
       " '20200127-22934',\n",
       " '20200127-23552',\n",
       " '20200127-23751',\n",
       " '20200127-25060',\n",
       " '20200127-25785',\n",
       " '20200127-27797',\n",
       " '20200127-29051',\n",
       " '20200127-29176',\n",
       " '20200127-29949',\n",
       " '20200127-30546',\n",
       " '20200127-30656',\n",
       " '20200127-31239',\n",
       " '20200127-32309',\n",
       " '20200127-33689',\n",
       " '20200127-33741',\n",
       " '20200127-35600',\n",
       " '20200127-35828',\n",
       " '20200127-35876',\n",
       " '20200127-37593',\n",
       " '20200127-37965',\n",
       " '20200127-38217',\n",
       " '20200127-39226',\n",
       " '20200127-40646',\n",
       " '20200127-41099',\n",
       " '20200127-41542',\n",
       " '20200127-43283',\n",
       " '20200127-43731',\n",
       " '20200127-43840',\n",
       " '20200127-44168',\n",
       " '20200127-44857',\n",
       " '20200127-44861',\n",
       " '20200127-45009',\n",
       " '20200127-45137',\n",
       " '20200127-45157',\n",
       " '20200127-45610',\n",
       " '20200127-45750',\n",
       " '20200127-46336',\n",
       " '20200127-49002',\n",
       " '20200127-49060',\n",
       " '20200127-50045',\n",
       " '20200127-50170',\n",
       " '20200127-51790',\n",
       " '20200127-52856',\n",
       " '20200127-54423',\n",
       " '20200127-55631',\n",
       " '20200127-56079',\n",
       " '20200127-56368',\n",
       " '20200127-56487',\n",
       " '20200127-58081',\n",
       " '20200127-58360',\n",
       " '20200127-59061',\n",
       " '20200127-59063',\n",
       " '20200127-60111',\n",
       " '20200127-60942',\n",
       " '20200127-61421',\n",
       " '20200127-63356',\n",
       " '20200127-63446',\n",
       " '20200127-64049',\n",
       " '20200127-64343',\n",
       " '20200127-64908',\n",
       " '20200127-66444',\n",
       " '20200127-66966',\n",
       " '20200127-67727',\n",
       " '20200127-67786',\n",
       " '20200127-69764',\n",
       " '20200127-70063',\n",
       " '20200127-70755',\n",
       " '20200127-70868',\n",
       " '20200127-71073',\n",
       " '20200127-71810',\n",
       " '20200127-72131',\n",
       " '20200127-73546',\n",
       " '20200127-74216',\n",
       " '20200127-74726',\n",
       " '20200127-75544',\n",
       " '20200127-75939',\n",
       " '20200127-77189',\n",
       " '20200127-77914',\n",
       " '20200127-80156',\n",
       " '20200127-80539',\n",
       " '20200127-80778',\n",
       " '20200127-81477',\n",
       " '20200127-81712',\n",
       " '20200127-82726',\n",
       " '20200127-83316',\n",
       " '20200127-83417',\n",
       " '20200127-84025',\n",
       " '20200127-85116',\n",
       " '20200127-86348',\n",
       " '20200127-86503',\n",
       " '20200127-87095',\n",
       " '20200127-87542',\n",
       " '20200128-202',\n",
       " '20200128-585',\n",
       " '20200128-828',\n",
       " '20200128-1098',\n",
       " '20200128-2329',\n",
       " '20200128-2653',\n",
       " '20200128-3329',\n",
       " '20200128-3414',\n",
       " '20200128-3943',\n",
       " '20200128-4375',\n",
       " '20200128-5777',\n",
       " '20200128-6117',\n",
       " '20200128-6430',\n",
       " '20200128-6867',\n",
       " '20200128-8101',\n",
       " '20200128-8351',\n",
       " '20200128-9710',\n",
       " '20200128-10148',\n",
       " '20200128-10190',\n",
       " '20200128-10908',\n",
       " '20200128-12562',\n",
       " '20200128-13280',\n",
       " '20200128-14661',\n",
       " '20200128-14843',\n",
       " '20200128-15321',\n",
       " '20200128-15440',\n",
       " '20200128-15793',\n",
       " '20200128-16519',\n",
       " '20200128-16524',\n",
       " '20200128-16674',\n",
       " '20200128-16730',\n",
       " '20200128-17106',\n",
       " '20200128-17445',\n",
       " '20200128-17617',\n",
       " '20200128-17973',\n",
       " '20200128-19349',\n",
       " '20200128-20198',\n",
       " '20200128-20657',\n",
       " '20200128-25377',\n",
       " '20200128-25873',\n",
       " '20200128-26080',\n",
       " '20200128-27061',\n",
       " '20200128-27772',\n",
       " '20200128-28237',\n",
       " '20200128-28618',\n",
       " '20200128-29629',\n",
       " '20200128-30172',\n",
       " '20200128-30477',\n",
       " '20200128-31088',\n",
       " '20200128-31782',\n",
       " '20200128-32934',\n",
       " '20200128-33203',\n",
       " '20200128-33440',\n",
       " '20200128-33660',\n",
       " '20200128-33745',\n",
       " '20200128-33783',\n",
       " '20200128-34164',\n",
       " '20200128-34238',\n",
       " '20200128-34874',\n",
       " '20200128-35953',\n",
       " '20200128-36791',\n",
       " '20200128-36859',\n",
       " '20200128-36886',\n",
       " '20200128-37326',\n",
       " '20200128-38053',\n",
       " '20200128-38249',\n",
       " '20200128-38803',\n",
       " '20200128-38815',\n",
       " '20200128-39051',\n",
       " '20200128-39264',\n",
       " '20200128-39787',\n",
       " '20200128-40043',\n",
       " '20200128-41369',\n",
       " '20200128-41386',\n",
       " '20200128-41789',\n",
       " '20200128-42543',\n",
       " '20200128-44263',\n",
       " '20200128-44819',\n",
       " '20200128-45067',\n",
       " '20200128-45330',\n",
       " '20200128-45749',\n",
       " '20200128-45896',\n",
       " '20200128-47506',\n",
       " '20200128-49151',\n",
       " '20200128-49254',\n",
       " '20200128-49629',\n",
       " '20200128-49723',\n",
       " '20200128-50632',\n",
       " '20200128-51035',\n",
       " '20200128-51326',\n",
       " '20200128-52032',\n",
       " '20200128-52393',\n",
       " '20200128-53129',\n",
       " '20200128-53570',\n",
       " '20200128-54657',\n",
       " '20200128-55109',\n",
       " '20200128-55748',\n",
       " '20200128-56165',\n",
       " '20200128-56466',\n",
       " '20200128-56550',\n",
       " '20200128-56861',\n",
       " '20200128-57453',\n",
       " '20200128-57515',\n",
       " '20200128-57627',\n",
       " '20200128-57696',\n",
       " '20200128-58763',\n",
       " '20200128-59228',\n",
       " '20200128-60603',\n",
       " '20200128-60687',\n",
       " '20200128-61345',\n",
       " '20200128-61928',\n",
       " '20200128-62195',\n",
       " '20200128-62237',\n",
       " '20200128-62938',\n",
       " '20200128-63595',\n",
       " '20200128-64489',\n",
       " '20200128-65242',\n",
       " '20200128-65519',\n",
       " '20200128-65527',\n",
       " '20200128-65934',\n",
       " '20200128-66245',\n",
       " '20200128-66412',\n",
       " '20200128-66664',\n",
       " '20200128-66997',\n",
       " '20200128-67292',\n",
       " '20200128-67450',\n",
       " '20200128-67654',\n",
       " '20200128-68084',\n",
       " '20200128-68538',\n",
       " '20200128-68975',\n",
       " '20200128-69456',\n",
       " '20200128-69645',\n",
       " '20200128-69880',\n",
       " '20200128-70637',\n",
       " '20200128-71524',\n",
       " '20200128-71609',\n",
       " '20200128-71622',\n",
       " '20200128-72310',\n",
       " '20200128-72326',\n",
       " '20200128-72865',\n",
       " '20200128-73220',\n",
       " '20200128-74510',\n",
       " '20200128-76275',\n",
       " '20200128-76731',\n",
       " '20200128-76993',\n",
       " '20200128-77335',\n",
       " '20200128-77631',\n",
       " '20200128-78569',\n",
       " '20200128-78878',\n",
       " '20200128-79123',\n",
       " '20200128-79788',\n",
       " '20200128-80266',\n",
       " '20200128-80971',\n",
       " '20200128-82293',\n",
       " '20200128-82529',\n",
       " '20200128-82571',\n",
       " '20200128-82601',\n",
       " '20200128-82967',\n",
       " '20200128-84094',\n",
       " '20200128-85312',\n",
       " '20200128-85604',\n",
       " '20200128-86443',\n",
       " '20200128-88009',\n",
       " '20200128-88275',\n",
       " '20200128-89458',\n",
       " '20200128-90461',\n",
       " '20200128-91239',\n",
       " '20200128-92407',\n",
       " '20200128-92464',\n",
       " '20200128-92547',\n",
       " '20200128-93289',\n",
       " '20200128-93321',\n",
       " '20200128-93898',\n",
       " '20200128-95729',\n",
       " '20200128-96027',\n",
       " '20200128-98560',\n",
       " '20200128-100068',\n",
       " '20200128-101037',\n",
       " '20200129-13',\n",
       " '20200129-308',\n",
       " '20200129-402',\n",
       " '20200129-1851',\n",
       " '20200129-3038',\n",
       " '20200129-3337',\n",
       " '20200129-3466',\n",
       " '20200129-3536',\n",
       " '20200129-3574',\n",
       " '20200129-4082',\n",
       " '20200129-4667',\n",
       " '20200129-4969',\n",
       " '20200129-5080',\n",
       " '20200129-7040',\n",
       " '20200129-7912',\n",
       " '20200129-8308',\n",
       " '20200129-8410',\n",
       " '20200129-8451',\n",
       " '20200129-8615',\n",
       " '20200129-9541',\n",
       " '20200129-10264',\n",
       " '20200129-10416',\n",
       " '20200129-10658',\n",
       " '20200129-11325',\n",
       " '20200129-12434',\n",
       " '20200129-13540',\n",
       " '20200129-13678',\n",
       " '20200129-13686',\n",
       " '20200129-14321']"
      ]
     },
     "metadata": {},
     "execution_count": 246
    }
   ],
   "source": [
    "for chunk_index in range(len(valid_ids_chunks)):\n",
    "\n",
    "    program_start = time.time()\n",
    "\n",
    "    print(f'Starting chunk {chunk_index}/{len(valid_ids_chunks)}. ')\n",
    "\n",
    "    valid_ids = valid_ids_chunks[chunk_index]\n",
    "    articles = articles_chunks[chunk_index]\n",
    "    dates = dates_chunks[chunk_index]\n",
    "\n",
    "    start_time = time.time()\n",
    "    sentiment_scores =compute_article_sentiment(articles)\n",
    "    predictions = map_predictions(sentiment_scores)\n",
    "\n",
    "    write_to_csv(valid_ids, dates, sentiment_scores, predictions, '../results/all_articles_sentence_avg.csv')\n",
    "    print(f'Finished chunk {chunk_index}/{len(valid_ids_chunks)}. Time: {time.time() - start_time}')\n",
    "\n",
    "print(f'Total time: {time.time() - program_start}')\n",
    "\n",
    "\n",
    "\n",
    "    \n",
    "\n"
   ]
  },
  {
   "cell_type": "code",
   "execution_count": null,
   "metadata": {},
   "outputs": [],
   "source": []
  }
 ]
}