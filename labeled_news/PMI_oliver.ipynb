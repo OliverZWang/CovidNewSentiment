{
 "metadata": {
  "language_info": {
   "codemirror_mode": {
    "name": "ipython",
    "version": 3
   },
   "file_extension": ".py",
   "mimetype": "text/x-python",
   "name": "python",
   "nbconvert_exporter": "python",
   "pygments_lexer": "ipython3",
   "version": "3.9.0-final"
  },
  "orig_nbformat": 2,
  "kernelspec": {
   "name": "python3",
   "display_name": "Python 3.9.0 64-bit ('venv_new')",
   "metadata": {
    "interpreter": {
     "hash": "4393239baa4fb5f775d2ad25e30167a32ce8e706e8e214ae50de7fbf0a59990f"
    }
   }
  }
 },
 "nbformat": 4,
 "nbformat_minor": 2,
 "cells": [
  {
   "cell_type": "code",
   "execution_count": 58,
   "metadata": {},
   "outputs": [
    {
     "output_type": "stream",
     "name": "stderr",
     "text": [
      "[nltk_data] Downloading package vader_lexicon to\n[nltk_data]     /Users/oliverwang/nltk_data...\n[nltk_data]   Package vader_lexicon is already up-to-date!\n"
     ]
    }
   ],
   "source": [
    "from tqdm import tqdm\n",
    "import math\n",
    "import pandas as pd\n",
    "import matplotlib.pyplot as plt\n",
    "import plotly.express as px\n",
    "import json\n",
    "import re\n",
    "import spacy\n",
    "sp = spacy.load('en_core_web_sm')\n",
    "import nltk\n",
    "nltk.download('vader_lexicon')\n",
    "from nltk.sentiment.vader import SentimentIntensityAnalyzer\n",
    "import re\n",
    "import statistics"
   ]
  },
  {
   "cell_type": "code",
   "execution_count": null,
   "metadata": {},
   "outputs": [],
   "source": [
    "f = open('./labelled_sentences.json')\n",
    "data = json.load(f)\n",
    "f.close"
   ]
  },
  {
   "cell_type": "code",
   "execution_count": null,
   "metadata": {},
   "outputs": [],
   "source": [
    "data[0]['Label']['classifications'][0]['answer'][0]['value']"
   ]
  },
  {
   "cell_type": "code",
   "execution_count": null,
   "metadata": {},
   "outputs": [],
   "source": [
    "data[0]['Labeled Data']"
   ]
  },
  {
   "cell_type": "code",
   "execution_count": null,
   "metadata": {},
   "outputs": [],
   "source": [
    "punctuation = re.compile('[^\\w\\s]')\n",
    "space = re.compile('  +')\n",
    "\n",
    "clean_data = []\n",
    "for i in range(len(data)):\n",
    "    if bool(data[i]['Label']):\n",
    "\n",
    "\n",
    "        sentence = sp(space.sub(' ', punctuation.sub('', data[i]['Labeled Data'])))\n",
    "        \n",
    "\n",
    "\n",
    "\n",
    "\n",
    "        if data[i]['Label']['classifications'][0]['answer'][0]['value'] == 'neutral':\n",
    "            clean_data.append({'sentence': sentence, 'label': 0})\n",
    "        elif data[i]['Label']['classifications'][0]['answer'][0]['value'] == 'negative':\n",
    "            clean_data.append({'sentence': sentence, 'label': -1})\n",
    "        else:\n",
    "            clean_data.append({'sentence': sentence, 'label': 1})\n",
    "    \n",
    "clean_data[0]"
   ]
  },
  {
   "cell_type": "code",
   "execution_count": null,
   "metadata": {},
   "outputs": [],
   "source": [
    "sentences_lemmaed = []\n",
    "for sentence in clean_data:\n",
    "    words = []\n",
    "    for w in sentence['sentence']:\n",
    "        words.append(w.lemma_.lower())\n",
    "    sentences_lemmaed.append([\" \".join(words), sentence['label']])\n",
    "sentences_lemmaed[2]"
   ]
  },
  {
   "cell_type": "code",
   "execution_count": null,
   "metadata": {},
   "outputs": [],
   "source": [
    "words = set()\n",
    "\n",
    "for par in tqdm(sentences_lemmaed):\n",
    "    for w in par[0].split():\n",
    "        words.add(w)\n",
    "\n",
    "words = list(words)\n",
    "        \n",
    "len(words)"
   ]
  },
  {
   "cell_type": "code",
   "execution_count": null,
   "metadata": {},
   "outputs": [],
   "source": [
    "class_sentence_count = {-1: 0, 0: 0, 1: 0}\n",
    "\n",
    "for par in tqdm(sentences_lemmaed):\n",
    "    class_sentence_count[par[1]] += 1\n"
   ]
  },
  {
   "cell_type": "code",
   "execution_count": null,
   "metadata": {},
   "outputs": [],
   "source": [
    "word_class_sentence_count = {}\n",
    "\n",
    "for word in tqdm(words):\n",
    "    word_class_sentence_count[word] = {-1: 0, 0: 0, 1: 0}\n",
    "    for par in sentences_lemmaed:\n",
    "        if word in par[0].split():\n",
    "            word_class_sentence_count[word][par[1]] += 1\n"
   ]
  },
  {
   "cell_type": "code",
   "execution_count": null,
   "metadata": {},
   "outputs": [],
   "source": [
    "word_sentence_count = {}\n",
    "for k, v in word_class_sentence_count.items():\n",
    "    word_sentence_count[k] = sum(v.values())"
   ]
  },
  {
   "cell_type": "code",
   "execution_count": null,
   "metadata": {},
   "outputs": [],
   "source": [
    "total = len(sentences_lemmaed)\n",
    "total"
   ]
  },
  {
   "cell_type": "code",
   "execution_count": null,
   "metadata": {},
   "outputs": [],
   "source": [
    "pmi = {}\n",
    "\n",
    "# p(w|c)\n",
    "for word in tqdm(words):\n",
    "    pmi[word] = {}\n",
    "    \n",
    "    if word_class_sentence_count[word][-1] != 0:\n",
    "        pmi[word][-1] = math.log(\n",
    "            (word_class_sentence_count[word][-1] / total) / \n",
    "            (class_sentence_count[-1] / total))\n",
    "    else:\n",
    "        pmi[word][-1] = math.log(\n",
    "            (1 / total) / \n",
    "            (class_sentence_count[-1] / total))\n",
    "\n",
    "\n",
    "    if word_class_sentence_count[word][0] != 0:\n",
    "        pmi[word][0] = math.log(\n",
    "            (word_class_sentence_count[word][0] / total) / \n",
    "            (class_sentence_count[0] / total))\n",
    "    else:\n",
    "        pmi[word][0] = math.log(\n",
    "            (1 / total) / \n",
    "            (class_sentence_count[0] / total))\n",
    "\n",
    "    \n",
    "        \n",
    "    if word_class_sentence_count[word][1] != 0:\n",
    "        pmi[word][1] = math.log(\n",
    "            (word_class_sentence_count[word][1] / total) / \n",
    "            (class_sentence_count[1] / total))\n",
    "    else:\n",
    "        pmi[word][1] = math.log(\n",
    "            (1 / total) / \n",
    "            (class_sentence_count[1] / total))"
   ]
  },
  {
   "cell_type": "code",
   "execution_count": null,
   "metadata": {},
   "outputs": [],
   "source": [
    "S = {}\n",
    "\n",
    "for word, values in pmi.items():\n",
    "    S[word] = values[1] - values[-1]"
   ]
  },
  {
   "cell_type": "code",
   "execution_count": null,
   "metadata": {},
   "outputs": [],
   "source": [
    "s_df = pd.DataFrame.from_dict(S, orient='index')\n",
    "s_df.columns = ['sent']\n",
    "freq = pd.DataFrame.from_dict(word_sentence_count, orient='index')\n",
    "freq.columns = ['freq']\n",
    "s_df = s_df.join(freq)\n",
    "s_df.sort_values('sent', ascending=False)"
   ]
  },
  {
   "cell_type": "code",
   "execution_count": 170,
   "metadata": {},
   "outputs": [
    {
     "output_type": "execute_result",
     "data": {
      "text/plain": [
       "sent    -0.489106\n",
       "freq    34.000000\n",
       "Name: lockdown, dtype: float64"
      ]
     },
     "metadata": {},
     "execution_count": 170
    }
   ],
   "source": [
    "s_df.loc['lockdown']"
   ]
  },
  {
   "cell_type": "code",
   "execution_count": 185,
   "metadata": {},
   "outputs": [],
   "source": [
    "vader_lexicon_file = './vader_lexicon.txt'\n",
    "vader_lexicon = {}\n",
    "with open(vader_lexicon_file, 'r') as f:\n",
    "    for line in f.readlines():\n",
    "        line = line.strip()\n",
    "        vader_lexicon[line.split('\\t')[0]] = float(line.split('\\t')[1])\n",
    "vader_words = list(vader_lexicon.keys())\n",
    "\n",
    "s_new = s_df[~s_df.index.isin(vader_words)].copy()\n",
    "s_com = s_df[s_df.index.isin(vader_words)].copy()\n",
    "\n",
    "s_com['vader'] = s_com.apply(lambda x: vader_lexicon.get(x.name), axis=1)\n"
   ]
  },
  {
   "cell_type": "code",
   "execution_count": 186,
   "metadata": {},
   "outputs": [],
   "source": [
    "s_com_filter = s_com[s_com['freq']>15].copy().reset_index()"
   ]
  },
  {
   "cell_type": "code",
   "execution_count": 187,
   "metadata": {},
   "outputs": [
    {
     "output_type": "display_data",
     "data": {
      "application/vnd.plotly.v1+json": {
       "config": {
        "plotlyServerURL": "https://plot.ly"
       },
       "data": [
        {
         "hovertemplate": "Vader score=%{x}<br>Customized score=%{y}<br>freq=%{marker.size}<br>index=%{text}<extra></extra>",
         "legendgroup": "",
         "marker": {
          "color": "#636efa",
          "size": [
           25,
           23,
           27,
           74,
           16,
           26,
           28,
           17,
           24,
           18,
           19,
           23,
           20,
           24,
           26,
           51,
           33,
           18,
           24,
           26,
           24,
           21,
           36,
           29,
           26,
           59,
           37,
           22,
           33,
           29,
           20,
           39
          ],
          "sizemode": "area",
          "sizeref": 0.185,
          "symbol": "circle"
         },
         "mode": "markers+text",
         "name": "",
         "orientation": "v",
         "showlegend": false,
         "text": [
          "want",
          "good",
          "share",
          "number",
          "unemployment",
          "support",
          "care",
          "benefit",
          "die",
          "drop",
          "safe",
          "hope",
          "pay",
          "crisis",
          "increase",
          "help",
          "united",
          "lose",
          "leave",
          "cut",
          "risk",
          "restriction",
          "no",
          "positive",
          "allow",
          "death",
          "low",
          "authority",
          "like",
          "well",
          "safety",
          "demand"
         ],
         "type": "scatter",
         "x": [
          0.3,
          1.9,
          1.2,
          0.3,
          -1.9,
          1.7,
          2.2,
          2,
          -2.9,
          -1.1,
          1.9,
          1.9,
          -0.4,
          -3.1,
          1.3,
          1.7,
          1.8,
          -1.7,
          -0.2,
          -1.1,
          -1.1,
          -1.1,
          -1.2,
          2.6,
          0.9,
          -2.9,
          -1.1,
          0.3,
          1.5,
          1.1,
          1.8,
          -0.5
         ],
         "xaxis": "x",
         "y": [
          0.2581079326693043,
          2.0498674018973593,
          0.2581079326693043,
          -1.188811050267021,
          -0.34802787090101095,
          0.9512551132292497,
          -0.540399763548467,
          0.6635730407774685,
          -1.5877187578290264,
          -0.029574139782476472,
          1.251359705679588,
          1.2697088443477842,
          -0.7227213203424219,
          0.34511930965893445,
          -0.29193840424996775,
          2.1516500962073017,
          -0.6714280259548713,
          -1.639012052216577,
          -0.29193840424996775,
          0.05743723720715321,
          -0.029574139782476472,
          -0.3660463764036894,
          -1.1281864284505865,
          -1.6878022163860091,
          1.4367629290109503,
          -1.1971792999375377,
          0.13294478971529777,
          -0.029574139782476472,
          -0.5891899277178991,
          1.020247984716201,
          2.273010953211569,
          -0.771511484511854
         ],
         "yaxis": "y"
        }
       ],
       "layout": {
        "legend": {
         "itemsizing": "constant",
         "tracegroupgap": 0
        },
        "template": {
         "data": {
          "bar": [
           {
            "error_x": {
             "color": "#2a3f5f"
            },
            "error_y": {
             "color": "#2a3f5f"
            },
            "marker": {
             "line": {
              "color": "#E5ECF6",
              "width": 0.5
             }
            },
            "type": "bar"
           }
          ],
          "barpolar": [
           {
            "marker": {
             "line": {
              "color": "#E5ECF6",
              "width": 0.5
             }
            },
            "type": "barpolar"
           }
          ],
          "carpet": [
           {
            "aaxis": {
             "endlinecolor": "#2a3f5f",
             "gridcolor": "white",
             "linecolor": "white",
             "minorgridcolor": "white",
             "startlinecolor": "#2a3f5f"
            },
            "baxis": {
             "endlinecolor": "#2a3f5f",
             "gridcolor": "white",
             "linecolor": "white",
             "minorgridcolor": "white",
             "startlinecolor": "#2a3f5f"
            },
            "type": "carpet"
           }
          ],
          "choropleth": [
           {
            "colorbar": {
             "outlinewidth": 0,
             "ticks": ""
            },
            "type": "choropleth"
           }
          ],
          "contour": [
           {
            "colorbar": {
             "outlinewidth": 0,
             "ticks": ""
            },
            "colorscale": [
             [
              0,
              "#0d0887"
             ],
             [
              0.1111111111111111,
              "#46039f"
             ],
             [
              0.2222222222222222,
              "#7201a8"
             ],
             [
              0.3333333333333333,
              "#9c179e"
             ],
             [
              0.4444444444444444,
              "#bd3786"
             ],
             [
              0.5555555555555556,
              "#d8576b"
             ],
             [
              0.6666666666666666,
              "#ed7953"
             ],
             [
              0.7777777777777778,
              "#fb9f3a"
             ],
             [
              0.8888888888888888,
              "#fdca26"
             ],
             [
              1,
              "#f0f921"
             ]
            ],
            "type": "contour"
           }
          ],
          "contourcarpet": [
           {
            "colorbar": {
             "outlinewidth": 0,
             "ticks": ""
            },
            "type": "contourcarpet"
           }
          ],
          "heatmap": [
           {
            "colorbar": {
             "outlinewidth": 0,
             "ticks": ""
            },
            "colorscale": [
             [
              0,
              "#0d0887"
             ],
             [
              0.1111111111111111,
              "#46039f"
             ],
             [
              0.2222222222222222,
              "#7201a8"
             ],
             [
              0.3333333333333333,
              "#9c179e"
             ],
             [
              0.4444444444444444,
              "#bd3786"
             ],
             [
              0.5555555555555556,
              "#d8576b"
             ],
             [
              0.6666666666666666,
              "#ed7953"
             ],
             [
              0.7777777777777778,
              "#fb9f3a"
             ],
             [
              0.8888888888888888,
              "#fdca26"
             ],
             [
              1,
              "#f0f921"
             ]
            ],
            "type": "heatmap"
           }
          ],
          "heatmapgl": [
           {
            "colorbar": {
             "outlinewidth": 0,
             "ticks": ""
            },
            "colorscale": [
             [
              0,
              "#0d0887"
             ],
             [
              0.1111111111111111,
              "#46039f"
             ],
             [
              0.2222222222222222,
              "#7201a8"
             ],
             [
              0.3333333333333333,
              "#9c179e"
             ],
             [
              0.4444444444444444,
              "#bd3786"
             ],
             [
              0.5555555555555556,
              "#d8576b"
             ],
             [
              0.6666666666666666,
              "#ed7953"
             ],
             [
              0.7777777777777778,
              "#fb9f3a"
             ],
             [
              0.8888888888888888,
              "#fdca26"
             ],
             [
              1,
              "#f0f921"
             ]
            ],
            "type": "heatmapgl"
           }
          ],
          "histogram": [
           {
            "marker": {
             "colorbar": {
              "outlinewidth": 0,
              "ticks": ""
             }
            },
            "type": "histogram"
           }
          ],
          "histogram2d": [
           {
            "colorbar": {
             "outlinewidth": 0,
             "ticks": ""
            },
            "colorscale": [
             [
              0,
              "#0d0887"
             ],
             [
              0.1111111111111111,
              "#46039f"
             ],
             [
              0.2222222222222222,
              "#7201a8"
             ],
             [
              0.3333333333333333,
              "#9c179e"
             ],
             [
              0.4444444444444444,
              "#bd3786"
             ],
             [
              0.5555555555555556,
              "#d8576b"
             ],
             [
              0.6666666666666666,
              "#ed7953"
             ],
             [
              0.7777777777777778,
              "#fb9f3a"
             ],
             [
              0.8888888888888888,
              "#fdca26"
             ],
             [
              1,
              "#f0f921"
             ]
            ],
            "type": "histogram2d"
           }
          ],
          "histogram2dcontour": [
           {
            "colorbar": {
             "outlinewidth": 0,
             "ticks": ""
            },
            "colorscale": [
             [
              0,
              "#0d0887"
             ],
             [
              0.1111111111111111,
              "#46039f"
             ],
             [
              0.2222222222222222,
              "#7201a8"
             ],
             [
              0.3333333333333333,
              "#9c179e"
             ],
             [
              0.4444444444444444,
              "#bd3786"
             ],
             [
              0.5555555555555556,
              "#d8576b"
             ],
             [
              0.6666666666666666,
              "#ed7953"
             ],
             [
              0.7777777777777778,
              "#fb9f3a"
             ],
             [
              0.8888888888888888,
              "#fdca26"
             ],
             [
              1,
              "#f0f921"
             ]
            ],
            "type": "histogram2dcontour"
           }
          ],
          "mesh3d": [
           {
            "colorbar": {
             "outlinewidth": 0,
             "ticks": ""
            },
            "type": "mesh3d"
           }
          ],
          "parcoords": [
           {
            "line": {
             "colorbar": {
              "outlinewidth": 0,
              "ticks": ""
             }
            },
            "type": "parcoords"
           }
          ],
          "pie": [
           {
            "automargin": true,
            "type": "pie"
           }
          ],
          "scatter": [
           {
            "marker": {
             "colorbar": {
              "outlinewidth": 0,
              "ticks": ""
             }
            },
            "type": "scatter"
           }
          ],
          "scatter3d": [
           {
            "line": {
             "colorbar": {
              "outlinewidth": 0,
              "ticks": ""
             }
            },
            "marker": {
             "colorbar": {
              "outlinewidth": 0,
              "ticks": ""
             }
            },
            "type": "scatter3d"
           }
          ],
          "scattercarpet": [
           {
            "marker": {
             "colorbar": {
              "outlinewidth": 0,
              "ticks": ""
             }
            },
            "type": "scattercarpet"
           }
          ],
          "scattergeo": [
           {
            "marker": {
             "colorbar": {
              "outlinewidth": 0,
              "ticks": ""
             }
            },
            "type": "scattergeo"
           }
          ],
          "scattergl": [
           {
            "marker": {
             "colorbar": {
              "outlinewidth": 0,
              "ticks": ""
             }
            },
            "type": "scattergl"
           }
          ],
          "scattermapbox": [
           {
            "marker": {
             "colorbar": {
              "outlinewidth": 0,
              "ticks": ""
             }
            },
            "type": "scattermapbox"
           }
          ],
          "scatterpolar": [
           {
            "marker": {
             "colorbar": {
              "outlinewidth": 0,
              "ticks": ""
             }
            },
            "type": "scatterpolar"
           }
          ],
          "scatterpolargl": [
           {
            "marker": {
             "colorbar": {
              "outlinewidth": 0,
              "ticks": ""
             }
            },
            "type": "scatterpolargl"
           }
          ],
          "scatterternary": [
           {
            "marker": {
             "colorbar": {
              "outlinewidth": 0,
              "ticks": ""
             }
            },
            "type": "scatterternary"
           }
          ],
          "surface": [
           {
            "colorbar": {
             "outlinewidth": 0,
             "ticks": ""
            },
            "colorscale": [
             [
              0,
              "#0d0887"
             ],
             [
              0.1111111111111111,
              "#46039f"
             ],
             [
              0.2222222222222222,
              "#7201a8"
             ],
             [
              0.3333333333333333,
              "#9c179e"
             ],
             [
              0.4444444444444444,
              "#bd3786"
             ],
             [
              0.5555555555555556,
              "#d8576b"
             ],
             [
              0.6666666666666666,
              "#ed7953"
             ],
             [
              0.7777777777777778,
              "#fb9f3a"
             ],
             [
              0.8888888888888888,
              "#fdca26"
             ],
             [
              1,
              "#f0f921"
             ]
            ],
            "type": "surface"
           }
          ],
          "table": [
           {
            "cells": {
             "fill": {
              "color": "#EBF0F8"
             },
             "line": {
              "color": "white"
             }
            },
            "header": {
             "fill": {
              "color": "#C8D4E3"
             },
             "line": {
              "color": "white"
             }
            },
            "type": "table"
           }
          ]
         },
         "layout": {
          "annotationdefaults": {
           "arrowcolor": "#2a3f5f",
           "arrowhead": 0,
           "arrowwidth": 1
          },
          "autotypenumbers": "strict",
          "coloraxis": {
           "colorbar": {
            "outlinewidth": 0,
            "ticks": ""
           }
          },
          "colorscale": {
           "diverging": [
            [
             0,
             "#8e0152"
            ],
            [
             0.1,
             "#c51b7d"
            ],
            [
             0.2,
             "#de77ae"
            ],
            [
             0.3,
             "#f1b6da"
            ],
            [
             0.4,
             "#fde0ef"
            ],
            [
             0.5,
             "#f7f7f7"
            ],
            [
             0.6,
             "#e6f5d0"
            ],
            [
             0.7,
             "#b8e186"
            ],
            [
             0.8,
             "#7fbc41"
            ],
            [
             0.9,
             "#4d9221"
            ],
            [
             1,
             "#276419"
            ]
           ],
           "sequential": [
            [
             0,
             "#0d0887"
            ],
            [
             0.1111111111111111,
             "#46039f"
            ],
            [
             0.2222222222222222,
             "#7201a8"
            ],
            [
             0.3333333333333333,
             "#9c179e"
            ],
            [
             0.4444444444444444,
             "#bd3786"
            ],
            [
             0.5555555555555556,
             "#d8576b"
            ],
            [
             0.6666666666666666,
             "#ed7953"
            ],
            [
             0.7777777777777778,
             "#fb9f3a"
            ],
            [
             0.8888888888888888,
             "#fdca26"
            ],
            [
             1,
             "#f0f921"
            ]
           ],
           "sequentialminus": [
            [
             0,
             "#0d0887"
            ],
            [
             0.1111111111111111,
             "#46039f"
            ],
            [
             0.2222222222222222,
             "#7201a8"
            ],
            [
             0.3333333333333333,
             "#9c179e"
            ],
            [
             0.4444444444444444,
             "#bd3786"
            ],
            [
             0.5555555555555556,
             "#d8576b"
            ],
            [
             0.6666666666666666,
             "#ed7953"
            ],
            [
             0.7777777777777778,
             "#fb9f3a"
            ],
            [
             0.8888888888888888,
             "#fdca26"
            ],
            [
             1,
             "#f0f921"
            ]
           ]
          },
          "colorway": [
           "#636efa",
           "#EF553B",
           "#00cc96",
           "#ab63fa",
           "#FFA15A",
           "#19d3f3",
           "#FF6692",
           "#B6E880",
           "#FF97FF",
           "#FECB52"
          ],
          "font": {
           "color": "#2a3f5f"
          },
          "geo": {
           "bgcolor": "white",
           "lakecolor": "white",
           "landcolor": "#E5ECF6",
           "showlakes": true,
           "showland": true,
           "subunitcolor": "white"
          },
          "hoverlabel": {
           "align": "left"
          },
          "hovermode": "closest",
          "mapbox": {
           "style": "light"
          },
          "paper_bgcolor": "white",
          "plot_bgcolor": "#E5ECF6",
          "polar": {
           "angularaxis": {
            "gridcolor": "white",
            "linecolor": "white",
            "ticks": ""
           },
           "bgcolor": "#E5ECF6",
           "radialaxis": {
            "gridcolor": "white",
            "linecolor": "white",
            "ticks": ""
           }
          },
          "scene": {
           "xaxis": {
            "backgroundcolor": "#E5ECF6",
            "gridcolor": "white",
            "gridwidth": 2,
            "linecolor": "white",
            "showbackground": true,
            "ticks": "",
            "zerolinecolor": "white"
           },
           "yaxis": {
            "backgroundcolor": "#E5ECF6",
            "gridcolor": "white",
            "gridwidth": 2,
            "linecolor": "white",
            "showbackground": true,
            "ticks": "",
            "zerolinecolor": "white"
           },
           "zaxis": {
            "backgroundcolor": "#E5ECF6",
            "gridcolor": "white",
            "gridwidth": 2,
            "linecolor": "white",
            "showbackground": true,
            "ticks": "",
            "zerolinecolor": "white"
           }
          },
          "shapedefaults": {
           "line": {
            "color": "#2a3f5f"
           }
          },
          "ternary": {
           "aaxis": {
            "gridcolor": "white",
            "linecolor": "white",
            "ticks": ""
           },
           "baxis": {
            "gridcolor": "white",
            "linecolor": "white",
            "ticks": ""
           },
           "bgcolor": "#E5ECF6",
           "caxis": {
            "gridcolor": "white",
            "linecolor": "white",
            "ticks": ""
           }
          },
          "title": {
           "x": 0.05
          },
          "xaxis": {
           "automargin": true,
           "gridcolor": "white",
           "linecolor": "white",
           "ticks": "",
           "title": {
            "standoff": 15
           },
           "zerolinecolor": "white",
           "zerolinewidth": 2
          },
          "yaxis": {
           "automargin": true,
           "gridcolor": "white",
           "linecolor": "white",
           "ticks": "",
           "title": {
            "standoff": 15
           },
           "zerolinecolor": "white",
           "zerolinewidth": 2
          }
         }
        },
        "title": {
         "text": "Comparison of Lexicon"
        },
        "xaxis": {
         "anchor": "y",
         "domain": [
          0,
          1
         ],
         "title": {
          "text": "Vader score"
         }
        },
        "yaxis": {
         "anchor": "x",
         "domain": [
          0,
          1
         ],
         "title": {
          "text": "Customized score"
         }
        }
       }
      }
     },
     "metadata": {}
    }
   ],
   "source": [
    "px.scatter(s_com_filter, x='vader', y='sent', text='index', size='freq',\n",
    "           labels={'vader': 'Vader score', 'sent': 'Customized score'}, \n",
    "           title='Comparison of Lexicon')"
   ]
  },
  {
   "cell_type": "code",
   "execution_count": 188,
   "metadata": {},
   "outputs": [
    {
     "output_type": "execute_result",
     "data": {
      "text/plain": [
       "      index      sent  freq\n",
       "0       for  0.029849   365\n",
       "1        to  0.182009   895\n",
       "2      high -1.415869    56\n",
       "3     china -0.722721    58\n",
       "4     while  0.004327    79\n",
       "..      ...       ...   ...\n",
       "80   public -0.329679    61\n",
       "81       do  0.206815    93\n",
       "82        a -0.044726   645\n",
       "83  include  0.006794    68\n",
       "84     make  0.016946    54\n",
       "\n",
       "[85 rows x 3 columns]"
      ],
      "text/html": "<div>\n<style scoped>\n    .dataframe tbody tr th:only-of-type {\n        vertical-align: middle;\n    }\n\n    .dataframe tbody tr th {\n        vertical-align: top;\n    }\n\n    .dataframe thead th {\n        text-align: right;\n    }\n</style>\n<table border=\"1\" class=\"dataframe\">\n  <thead>\n    <tr style=\"text-align: right;\">\n      <th></th>\n      <th>index</th>\n      <th>sent</th>\n      <th>freq</th>\n    </tr>\n  </thead>\n  <tbody>\n    <tr>\n      <th>0</th>\n      <td>for</td>\n      <td>0.029849</td>\n      <td>365</td>\n    </tr>\n    <tr>\n      <th>1</th>\n      <td>to</td>\n      <td>0.182009</td>\n      <td>895</td>\n    </tr>\n    <tr>\n      <th>2</th>\n      <td>high</td>\n      <td>-1.415869</td>\n      <td>56</td>\n    </tr>\n    <tr>\n      <th>3</th>\n      <td>china</td>\n      <td>-0.722721</td>\n      <td>58</td>\n    </tr>\n    <tr>\n      <th>4</th>\n      <td>while</td>\n      <td>0.004327</td>\n      <td>79</td>\n    </tr>\n    <tr>\n      <th>...</th>\n      <td>...</td>\n      <td>...</td>\n      <td>...</td>\n    </tr>\n    <tr>\n      <th>80</th>\n      <td>public</td>\n      <td>-0.329679</td>\n      <td>61</td>\n    </tr>\n    <tr>\n      <th>81</th>\n      <td>do</td>\n      <td>0.206815</td>\n      <td>93</td>\n    </tr>\n    <tr>\n      <th>82</th>\n      <td>a</td>\n      <td>-0.044726</td>\n      <td>645</td>\n    </tr>\n    <tr>\n      <th>83</th>\n      <td>include</td>\n      <td>0.006794</td>\n      <td>68</td>\n    </tr>\n    <tr>\n      <th>84</th>\n      <td>make</td>\n      <td>0.016946</td>\n      <td>54</td>\n    </tr>\n  </tbody>\n</table>\n<p>85 rows × 3 columns</p>\n</div>"
     },
     "metadata": {},
     "execution_count": 188
    }
   ],
   "source": [
    "# nltk.download('stopwords')\n",
    "# from nltk.corpus import stopwords\n",
    "\n",
    "# s_new = [~s_new.index.isin(stopwords.words('english'))]\n",
    "thres = 50\n",
    "s_new_filter = s_new[s_new['freq']>thres].copy().reset_index()\n",
    "s_new_filter"
   ]
  },
  {
   "cell_type": "code",
   "execution_count": 193,
   "metadata": {},
   "outputs": [
    {
     "output_type": "display_data",
     "data": {
      "application/vnd.plotly.v1+json": {
       "config": {
        "plotlyServerURL": "https://plot.ly"
       },
       "data": [
        {
         "hovertemplate": "freq=%{x}<br>sent=%{y}<br>index=%{text}<extra></extra>",
         "legendgroup": "",
         "marker": {
          "color": "#636efa",
          "symbol": "circle"
         },
         "mode": "markers+text",
         "name": "",
         "orientation": "v",
         "showlegend": false,
         "text": [
          "for",
          "to",
          "high",
          "china",
          "while",
          "more",
          "day",
          "have",
          "us",
          "accord",
          "business",
          "new",
          "also",
          "from",
          "out",
          "month",
          "as",
          "many",
          "say",
          "come",
          "million",
          "one",
          "after",
          "but",
          "will",
          "about",
          "over",
          "test",
          "virus",
          "work",
          "could",
          "week",
          "at",
          "government",
          "on",
          "would",
          "home",
          "early",
          "all",
          "this",
          "-pron-",
          "the",
          "which",
          "two",
          "state",
          "covid19",
          "and",
          "not",
          "some",
          "in",
          "so",
          "that",
          "people",
          "or",
          "coronavirus",
          "year",
          "an",
          "with",
          "take",
          "can",
          "up",
          "case",
          "there",
          "pandemic",
          "of",
          "if",
          "than",
          "company",
          "country",
          "go",
          "report",
          "be",
          "health",
          "by",
          "who",
          "other",
          "when",
          "time",
          "may",
          "last",
          "public",
          "do",
          "a",
          "include",
          "make"
         ],
         "type": "scatter",
         "x": [
          365,
          895,
          56,
          58,
          79,
          143,
          72,
          517,
          79,
          54,
          61,
          134,
          89,
          238,
          59,
          63,
          249,
          54,
          394,
          57,
          55,
          88,
          83,
          120,
          154,
          72,
          66,
          51,
          91,
          86,
          61,
          73,
          233,
          82,
          363,
          90,
          66,
          55,
          81,
          129,
          773,
          1251,
          109,
          58,
          111,
          120,
          780,
          172,
          52,
          717,
          56,
          386,
          136,
          97,
          170,
          81,
          126,
          260,
          58,
          71,
          77,
          147,
          72,
          99,
          803,
          53,
          118,
          72,
          85,
          63,
          88,
          849,
          122,
          194,
          126,
          88,
          55,
          62,
          60,
          57,
          61,
          93,
          645,
          68,
          54
         ],
         "xaxis": "x",
         "y": [
          0.029849280688324153,
          0.1820085891306571,
          -1.4158685009023673,
          -0.7227213203424219,
          0.0043274118932044026,
          -0.6093926350354191,
          -0.3778808340506923,
          -0.2981351707874792,
          -0.3172562122342577,
          -0.8768720001696804,
          0.4629023453153174,
          0.11560787006202089,
          -0.1473571754388603,
          0.007467131897872292,
          -0.46782907071363233,
          0.15274741701147798,
          -0.01015605392537533,
          -0.9168773347833792,
          0.10248558223058946,
          0.1710965556796742,
          -0.029574139782476916,
          0.07578637587534942,
          -0.2774103036870583,
          -0.337875499436993,
          0.4678284636513732,
          -0.4350392478906411,
          -0.9168773347833792,
          -0.47140689206151576,
          -0.4350392478906411,
          1.0000452773986814,
          -0.15473728273648257,
          0.24235957570116495,
          -0.4735055287184371,
          0.4167129628459425,
          -0.07769338812667526,
          0.19926743264637103,
          -1.2823371082778445,
          -0.07039613430273173,
          0.00027882336720441714,
          0.021719154605073676,
          0.18024055759167645,
          -0.05230239086003291,
          0.12805480442110628,
          -0.8562527129669446,
          -0.3972989199077941,
          -0.27469659781546163,
          0.13669202625818033,
          -0.5403997635484674,
          0.33815064034284026,
          -0.1456974240204958,
          0.10395725284204582,
          -0.04247754461838471,
          -0.18920428537436074,
          0.09558900317152919,
          -0.008954852579741157,
          0.06886593303077548,
          -0.4695254239618101,
          -0.11743549557381106,
          0.2581079326693039,
          0.4812514839835136,
          0.09558900317152919,
          -0.6714280259548717,
          -0.46035705587493103,
          -0.3562583700375268,
          -0.13215301247842626,
          0.30689809683873603,
          -0.3072058763807566,
          0.1935694115317328,
          -0.24088323344968376,
          0.1671361544635772,
          -1.0228259127927606,
          -0.08706123070015825,
          0.021719154605073676,
          0.0757863758753492,
          -0.46629179139474575,
          -0.06466545959374725,
          -0.23024483524462802,
          0.04453383237124475,
          -0.2188161394210053,
          0.21158791703441082,
          -0.3296787322328152,
          0.20681463828175373,
          -0.04472594480307901,
          0.006793504388397764,
          0.016945875852416137
         ],
         "yaxis": "y"
        }
       ],
       "layout": {
        "legend": {
         "tracegroupgap": 0
        },
        "margin": {
         "t": 60
        },
        "template": {
         "data": {
          "bar": [
           {
            "error_x": {
             "color": "#2a3f5f"
            },
            "error_y": {
             "color": "#2a3f5f"
            },
            "marker": {
             "line": {
              "color": "#E5ECF6",
              "width": 0.5
             }
            },
            "type": "bar"
           }
          ],
          "barpolar": [
           {
            "marker": {
             "line": {
              "color": "#E5ECF6",
              "width": 0.5
             }
            },
            "type": "barpolar"
           }
          ],
          "carpet": [
           {
            "aaxis": {
             "endlinecolor": "#2a3f5f",
             "gridcolor": "white",
             "linecolor": "white",
             "minorgridcolor": "white",
             "startlinecolor": "#2a3f5f"
            },
            "baxis": {
             "endlinecolor": "#2a3f5f",
             "gridcolor": "white",
             "linecolor": "white",
             "minorgridcolor": "white",
             "startlinecolor": "#2a3f5f"
            },
            "type": "carpet"
           }
          ],
          "choropleth": [
           {
            "colorbar": {
             "outlinewidth": 0,
             "ticks": ""
            },
            "type": "choropleth"
           }
          ],
          "contour": [
           {
            "colorbar": {
             "outlinewidth": 0,
             "ticks": ""
            },
            "colorscale": [
             [
              0,
              "#0d0887"
             ],
             [
              0.1111111111111111,
              "#46039f"
             ],
             [
              0.2222222222222222,
              "#7201a8"
             ],
             [
              0.3333333333333333,
              "#9c179e"
             ],
             [
              0.4444444444444444,
              "#bd3786"
             ],
             [
              0.5555555555555556,
              "#d8576b"
             ],
             [
              0.6666666666666666,
              "#ed7953"
             ],
             [
              0.7777777777777778,
              "#fb9f3a"
             ],
             [
              0.8888888888888888,
              "#fdca26"
             ],
             [
              1,
              "#f0f921"
             ]
            ],
            "type": "contour"
           }
          ],
          "contourcarpet": [
           {
            "colorbar": {
             "outlinewidth": 0,
             "ticks": ""
            },
            "type": "contourcarpet"
           }
          ],
          "heatmap": [
           {
            "colorbar": {
             "outlinewidth": 0,
             "ticks": ""
            },
            "colorscale": [
             [
              0,
              "#0d0887"
             ],
             [
              0.1111111111111111,
              "#46039f"
             ],
             [
              0.2222222222222222,
              "#7201a8"
             ],
             [
              0.3333333333333333,
              "#9c179e"
             ],
             [
              0.4444444444444444,
              "#bd3786"
             ],
             [
              0.5555555555555556,
              "#d8576b"
             ],
             [
              0.6666666666666666,
              "#ed7953"
             ],
             [
              0.7777777777777778,
              "#fb9f3a"
             ],
             [
              0.8888888888888888,
              "#fdca26"
             ],
             [
              1,
              "#f0f921"
             ]
            ],
            "type": "heatmap"
           }
          ],
          "heatmapgl": [
           {
            "colorbar": {
             "outlinewidth": 0,
             "ticks": ""
            },
            "colorscale": [
             [
              0,
              "#0d0887"
             ],
             [
              0.1111111111111111,
              "#46039f"
             ],
             [
              0.2222222222222222,
              "#7201a8"
             ],
             [
              0.3333333333333333,
              "#9c179e"
             ],
             [
              0.4444444444444444,
              "#bd3786"
             ],
             [
              0.5555555555555556,
              "#d8576b"
             ],
             [
              0.6666666666666666,
              "#ed7953"
             ],
             [
              0.7777777777777778,
              "#fb9f3a"
             ],
             [
              0.8888888888888888,
              "#fdca26"
             ],
             [
              1,
              "#f0f921"
             ]
            ],
            "type": "heatmapgl"
           }
          ],
          "histogram": [
           {
            "marker": {
             "colorbar": {
              "outlinewidth": 0,
              "ticks": ""
             }
            },
            "type": "histogram"
           }
          ],
          "histogram2d": [
           {
            "colorbar": {
             "outlinewidth": 0,
             "ticks": ""
            },
            "colorscale": [
             [
              0,
              "#0d0887"
             ],
             [
              0.1111111111111111,
              "#46039f"
             ],
             [
              0.2222222222222222,
              "#7201a8"
             ],
             [
              0.3333333333333333,
              "#9c179e"
             ],
             [
              0.4444444444444444,
              "#bd3786"
             ],
             [
              0.5555555555555556,
              "#d8576b"
             ],
             [
              0.6666666666666666,
              "#ed7953"
             ],
             [
              0.7777777777777778,
              "#fb9f3a"
             ],
             [
              0.8888888888888888,
              "#fdca26"
             ],
             [
              1,
              "#f0f921"
             ]
            ],
            "type": "histogram2d"
           }
          ],
          "histogram2dcontour": [
           {
            "colorbar": {
             "outlinewidth": 0,
             "ticks": ""
            },
            "colorscale": [
             [
              0,
              "#0d0887"
             ],
             [
              0.1111111111111111,
              "#46039f"
             ],
             [
              0.2222222222222222,
              "#7201a8"
             ],
             [
              0.3333333333333333,
              "#9c179e"
             ],
             [
              0.4444444444444444,
              "#bd3786"
             ],
             [
              0.5555555555555556,
              "#d8576b"
             ],
             [
              0.6666666666666666,
              "#ed7953"
             ],
             [
              0.7777777777777778,
              "#fb9f3a"
             ],
             [
              0.8888888888888888,
              "#fdca26"
             ],
             [
              1,
              "#f0f921"
             ]
            ],
            "type": "histogram2dcontour"
           }
          ],
          "mesh3d": [
           {
            "colorbar": {
             "outlinewidth": 0,
             "ticks": ""
            },
            "type": "mesh3d"
           }
          ],
          "parcoords": [
           {
            "line": {
             "colorbar": {
              "outlinewidth": 0,
              "ticks": ""
             }
            },
            "type": "parcoords"
           }
          ],
          "pie": [
           {
            "automargin": true,
            "type": "pie"
           }
          ],
          "scatter": [
           {
            "marker": {
             "colorbar": {
              "outlinewidth": 0,
              "ticks": ""
             }
            },
            "type": "scatter"
           }
          ],
          "scatter3d": [
           {
            "line": {
             "colorbar": {
              "outlinewidth": 0,
              "ticks": ""
             }
            },
            "marker": {
             "colorbar": {
              "outlinewidth": 0,
              "ticks": ""
             }
            },
            "type": "scatter3d"
           }
          ],
          "scattercarpet": [
           {
            "marker": {
             "colorbar": {
              "outlinewidth": 0,
              "ticks": ""
             }
            },
            "type": "scattercarpet"
           }
          ],
          "scattergeo": [
           {
            "marker": {
             "colorbar": {
              "outlinewidth": 0,
              "ticks": ""
             }
            },
            "type": "scattergeo"
           }
          ],
          "scattergl": [
           {
            "marker": {
             "colorbar": {
              "outlinewidth": 0,
              "ticks": ""
             }
            },
            "type": "scattergl"
           }
          ],
          "scattermapbox": [
           {
            "marker": {
             "colorbar": {
              "outlinewidth": 0,
              "ticks": ""
             }
            },
            "type": "scattermapbox"
           }
          ],
          "scatterpolar": [
           {
            "marker": {
             "colorbar": {
              "outlinewidth": 0,
              "ticks": ""
             }
            },
            "type": "scatterpolar"
           }
          ],
          "scatterpolargl": [
           {
            "marker": {
             "colorbar": {
              "outlinewidth": 0,
              "ticks": ""
             }
            },
            "type": "scatterpolargl"
           }
          ],
          "scatterternary": [
           {
            "marker": {
             "colorbar": {
              "outlinewidth": 0,
              "ticks": ""
             }
            },
            "type": "scatterternary"
           }
          ],
          "surface": [
           {
            "colorbar": {
             "outlinewidth": 0,
             "ticks": ""
            },
            "colorscale": [
             [
              0,
              "#0d0887"
             ],
             [
              0.1111111111111111,
              "#46039f"
             ],
             [
              0.2222222222222222,
              "#7201a8"
             ],
             [
              0.3333333333333333,
              "#9c179e"
             ],
             [
              0.4444444444444444,
              "#bd3786"
             ],
             [
              0.5555555555555556,
              "#d8576b"
             ],
             [
              0.6666666666666666,
              "#ed7953"
             ],
             [
              0.7777777777777778,
              "#fb9f3a"
             ],
             [
              0.8888888888888888,
              "#fdca26"
             ],
             [
              1,
              "#f0f921"
             ]
            ],
            "type": "surface"
           }
          ],
          "table": [
           {
            "cells": {
             "fill": {
              "color": "#EBF0F8"
             },
             "line": {
              "color": "white"
             }
            },
            "header": {
             "fill": {
              "color": "#C8D4E3"
             },
             "line": {
              "color": "white"
             }
            },
            "type": "table"
           }
          ]
         },
         "layout": {
          "annotationdefaults": {
           "arrowcolor": "#2a3f5f",
           "arrowhead": 0,
           "arrowwidth": 1
          },
          "autotypenumbers": "strict",
          "coloraxis": {
           "colorbar": {
            "outlinewidth": 0,
            "ticks": ""
           }
          },
          "colorscale": {
           "diverging": [
            [
             0,
             "#8e0152"
            ],
            [
             0.1,
             "#c51b7d"
            ],
            [
             0.2,
             "#de77ae"
            ],
            [
             0.3,
             "#f1b6da"
            ],
            [
             0.4,
             "#fde0ef"
            ],
            [
             0.5,
             "#f7f7f7"
            ],
            [
             0.6,
             "#e6f5d0"
            ],
            [
             0.7,
             "#b8e186"
            ],
            [
             0.8,
             "#7fbc41"
            ],
            [
             0.9,
             "#4d9221"
            ],
            [
             1,
             "#276419"
            ]
           ],
           "sequential": [
            [
             0,
             "#0d0887"
            ],
            [
             0.1111111111111111,
             "#46039f"
            ],
            [
             0.2222222222222222,
             "#7201a8"
            ],
            [
             0.3333333333333333,
             "#9c179e"
            ],
            [
             0.4444444444444444,
             "#bd3786"
            ],
            [
             0.5555555555555556,
             "#d8576b"
            ],
            [
             0.6666666666666666,
             "#ed7953"
            ],
            [
             0.7777777777777778,
             "#fb9f3a"
            ],
            [
             0.8888888888888888,
             "#fdca26"
            ],
            [
             1,
             "#f0f921"
            ]
           ],
           "sequentialminus": [
            [
             0,
             "#0d0887"
            ],
            [
             0.1111111111111111,
             "#46039f"
            ],
            [
             0.2222222222222222,
             "#7201a8"
            ],
            [
             0.3333333333333333,
             "#9c179e"
            ],
            [
             0.4444444444444444,
             "#bd3786"
            ],
            [
             0.5555555555555556,
             "#d8576b"
            ],
            [
             0.6666666666666666,
             "#ed7953"
            ],
            [
             0.7777777777777778,
             "#fb9f3a"
            ],
            [
             0.8888888888888888,
             "#fdca26"
            ],
            [
             1,
             "#f0f921"
            ]
           ]
          },
          "colorway": [
           "#636efa",
           "#EF553B",
           "#00cc96",
           "#ab63fa",
           "#FFA15A",
           "#19d3f3",
           "#FF6692",
           "#B6E880",
           "#FF97FF",
           "#FECB52"
          ],
          "font": {
           "color": "#2a3f5f"
          },
          "geo": {
           "bgcolor": "white",
           "lakecolor": "white",
           "landcolor": "#E5ECF6",
           "showlakes": true,
           "showland": true,
           "subunitcolor": "white"
          },
          "hoverlabel": {
           "align": "left"
          },
          "hovermode": "closest",
          "mapbox": {
           "style": "light"
          },
          "paper_bgcolor": "white",
          "plot_bgcolor": "#E5ECF6",
          "polar": {
           "angularaxis": {
            "gridcolor": "white",
            "linecolor": "white",
            "ticks": ""
           },
           "bgcolor": "#E5ECF6",
           "radialaxis": {
            "gridcolor": "white",
            "linecolor": "white",
            "ticks": ""
           }
          },
          "scene": {
           "xaxis": {
            "backgroundcolor": "#E5ECF6",
            "gridcolor": "white",
            "gridwidth": 2,
            "linecolor": "white",
            "showbackground": true,
            "ticks": "",
            "zerolinecolor": "white"
           },
           "yaxis": {
            "backgroundcolor": "#E5ECF6",
            "gridcolor": "white",
            "gridwidth": 2,
            "linecolor": "white",
            "showbackground": true,
            "ticks": "",
            "zerolinecolor": "white"
           },
           "zaxis": {
            "backgroundcolor": "#E5ECF6",
            "gridcolor": "white",
            "gridwidth": 2,
            "linecolor": "white",
            "showbackground": true,
            "ticks": "",
            "zerolinecolor": "white"
           }
          },
          "shapedefaults": {
           "line": {
            "color": "#2a3f5f"
           }
          },
          "ternary": {
           "aaxis": {
            "gridcolor": "white",
            "linecolor": "white",
            "ticks": ""
           },
           "baxis": {
            "gridcolor": "white",
            "linecolor": "white",
            "ticks": ""
           },
           "bgcolor": "#E5ECF6",
           "caxis": {
            "gridcolor": "white",
            "linecolor": "white",
            "ticks": ""
           }
          },
          "title": {
           "x": 0.05
          },
          "xaxis": {
           "automargin": true,
           "gridcolor": "white",
           "linecolor": "white",
           "ticks": "",
           "title": {
            "standoff": 15
           },
           "zerolinecolor": "white",
           "zerolinewidth": 2
          },
          "yaxis": {
           "automargin": true,
           "gridcolor": "white",
           "linecolor": "white",
           "ticks": "",
           "title": {
            "standoff": 15
           },
           "zerolinecolor": "white",
           "zerolinewidth": 2
          }
         }
        },
        "xaxis": {
         "anchor": "y",
         "domain": [
          0,
          1
         ],
         "title": {
          "text": "freq"
         }
        },
        "yaxis": {
         "anchor": "x",
         "domain": [
          0,
          1
         ],
         "title": {
          "text": "sent"
         }
        }
       }
      }
     },
     "metadata": {}
    }
   ],
   "source": [
    "px.scatter(s_new_filter, x='freq', y='sent', text='index')"
   ]
  },
  {
   "cell_type": "code",
   "execution_count": 219,
   "metadata": {},
   "outputs": [],
   "source": [
    "update_dict = {\n",
    "    # existing\n",
    "    \"crisis\": 0,\n",
    "    \"Crisis\": 0,\n",
    "    \"positive\": -1.5,\n",
    "    \"Positive\": -1.5,\n",
    "\n",
    "\n",
    "    \"death\": -1,\n",
    "    \"Death\": -1,\n",
    "    \"die\": -1.5,\n",
    "    \"Die\": -1.5,\n",
    "    \"bad\": -1,\n",
    "    \"Bad\": -1,\n",
    "    \"fear\": -1.5,\n",
    "    \"Fear\": -1.5,\n",
    "    \n",
    "    \"unemployment\": -0.5,\n",
    "    \"emergency\": 0,\n",
    "    \"fight\": 1,\n",
    "    \"stop\": 0.5,\n",
    "    \"loser\": -0.5,\n",
    "    \"restriction\": -0.5,\n",
    "    \"risk\": 0,\n",
    "    \"cut\": 0,\n",
    "    \"low\":0,\n",
    "    \"number\": -1,\n",
    "    \"care\": -0.5,\n",
    "    \"increase\": -0.5,\n",
    "    \"united\": -0.5,\n",
    "    \"security\": -1,\n",
    "\n",
    "    \"Unemployment\": -0.5,\n",
    "    \"Emergency\": 0,\n",
    "    \"Fight\": 1,\n",
    "    \"Stop\": 0.5,\n",
    "    \"Loser\": -0.5,\n",
    "    \"Restriction\": -0.5,\n",
    "    \"Risk\": 0,\n",
    "    \"Cut\": 0,\n",
    "    \"Low\":0,\n",
    "    \"Number\": -1,\n",
    "    \"Care\": -0.5,\n",
    "    \"Increase\": -0.5,\n",
    "    \"United\": -0.5,\n",
    "    \"Security\": -1,\n",
    "\n",
    "    \n",
    "\n",
    "\n",
    "    # new\n",
    "    \n",
    "    \"pandemic\": -0.5,\n",
    "    \"Pandemic\": -0.5,\n",
    "    \"virus\": -0.5,\n",
    "    \"Virus\": -0.5,\n",
    "    \"covid19\": -1,\n",
    "    \"Covid19\": -1,\n",
    "    \"high\": -1.5,\n",
    "    \"High\": -1.5,\n",
    "    \"home\": -1,\n",
    "    \"Home\": -1,\n",
    "    \"report\": -1,\n",
    "    \"Report\": -1,\n",
    "    \"China\": -0.5,\n",
    "    \"work\": 1,\n",
    "    \"Work\": 1,\n",
    "    \"government\": 1,\n",
    "    \"Government\": 1,\n",
    "    \"outbreak\": -2,\n",
    "    \"Outbreak\": -2,\n",
    "    \"lockdown\": -0.5,\n",
    "    \"Lockdown\": -0.5,\n",
    "    \"test\": -0.5,\n",
    "    \"Test\": -0.5,\n",
    "    \"business\": 0.5,\n",
    "    \"Business\": 0.5\n",
    "    \n",
    "}"
   ]
  },
  {
   "cell_type": "code",
   "execution_count": 220,
   "metadata": {},
   "outputs": [
    {
     "output_type": "execute_result",
     "data": {
      "text/plain": [
       "sent    -0.435039\n",
       "freq    91.000000\n",
       "Name: virus, dtype: float64"
      ]
     },
     "metadata": {},
     "execution_count": 220
    }
   ],
   "source": [
    "s_df.loc['virus']"
   ]
  },
  {
   "source": [
    "## Calculate Sentence Scores"
   ],
   "cell_type": "markdown",
   "metadata": {}
  },
  {
   "cell_type": "code",
   "execution_count": 221,
   "metadata": {},
   "outputs": [],
   "source": [
    "sid = SentimentIntensityAnalyzer()\n",
    "sid.lexicon.update(update_dict)"
   ]
  },
  {
   "cell_type": "code",
   "execution_count": 206,
   "metadata": {},
   "outputs": [],
   "source": [
    "sentence_scores = []\n",
    "labels = []\n",
    "for i in range(len(data)):\n",
    "    if bool(data[i]['Label']):\n",
    "        sentence = data[i]['Labeled Data']\n",
    "        sentence_scores.append(sid.polarity_scores(sentence)['compound'])\n",
    "        label = data[i]['Label']['classifications'][0]['answer'][0]['value']\n",
    "        if label == 'neutral':\n",
    "            labels.append(0)\n",
    "        elif label == 'negative':\n",
    "            labels.append(-1)\n",
    "        else:\n",
    "            labels.append(1)\n"
   ]
  },
  {
   "source": [
    "## Compute Accuracy Metrics"
   ],
   "cell_type": "markdown",
   "metadata": {}
  },
  {
   "cell_type": "code",
   "execution_count": 207,
   "metadata": {},
   "outputs": [],
   "source": [
    "import numpy as np\n",
    "from accuracy_metrics import *\n",
    "\n",
    "def find_opt_metrics(predictions, gold_labels, lower_bound=-1, upper_bound=1, step=0.05):\n",
    "    \n",
    "    # opt_lower = -0.75\n",
    "    # opt_upper = 0.75\n",
    "    max_f1 = 0 \n",
    "    opt_metrics = None\n",
    "    for lower in np.arange(lower_bound, upper_bound, step):\n",
    "        for upper in np.arange(upper_bound, lower, step*-1):\n",
    "            metrics = AccuracyMetrics(predictions, gold_labels, neutral_upper=upper, neutral_lower=lower)\n",
    "            if metrics.macro_f1 > max_f1:\n",
    "                # opt_lower = lower\n",
    "                # opt_upper = upper\n",
    "                max_f1 = metrics.macro_f1\n",
    "                opt_metrics = metrics\n",
    "    \n",
    "    return opt_metrics"
   ]
  },
  {
   "cell_type": "code",
   "execution_count": 208,
   "metadata": {},
   "outputs": [],
   "source": [
    "opt_metrics = find_opt_metrics(sentence_scores, labels)"
   ]
  },
  {
   "cell_type": "code",
   "execution_count": 209,
   "metadata": {},
   "outputs": [],
   "source": [
    "opt_neutral_lower = opt_metrics.neutral_upper\n",
    "opt_neutral_upper = opt_metrics.neutral_upper"
   ]
  },
  {
   "cell_type": "code",
   "execution_count": 210,
   "metadata": {},
   "outputs": [],
   "source": [
    "import csv\n",
    "def write_opt_acc_metrics(accuracy_metrics, path):\n",
    "\n",
    "    with open(path, mode='w') as csv_file:\n",
    "        accuracy_writer = csv.writer(csv_file, delimiter=',', quotechar='\"')\n",
    "        accuracy_writer.writerow(list(accuracy_metrics.result_dict().keys()) + ['neutral_lower', 'neutral_upper'])\n",
    "\n",
    "        this_met = accuracy_metrics\n",
    "        accuracy_writer.writerow(list(this_met.result_dict().values()) + [str(this_met.neutral_lower), str(this_met.neutral_upper)])"
   ]
  },
  {
   "cell_type": "code",
   "execution_count": 211,
   "metadata": {},
   "outputs": [],
   "source": [
    "write_opt_acc_metrics(opt_metrics, '../results/sentence_only_acc_metrics.csv')"
   ]
  },
  {
   "source": [
    "## Make predictions on new sentences"
   ],
   "cell_type": "markdown",
   "metadata": {}
  },
  {
   "cell_type": "code",
   "execution_count": 226,
   "metadata": {},
   "outputs": [
    {
     "output_type": "execute_result",
     "data": {
      "text/plain": [
       "<function TextIOWrapper.close()>"
      ]
     },
     "metadata": {},
     "execution_count": 226
    }
   ],
   "source": [
    "f = open('./new_unlabelled_sentences.json')\n",
    "new_sentences = json.load(f)\n",
    "f.close"
   ]
  },
  {
   "cell_type": "code",
   "execution_count": 231,
   "metadata": {},
   "outputs": [],
   "source": [
    "\n",
    "output = []\n",
    "\n",
    "for i in range(len(new_sentences)):\n",
    "    score = sid.polarity_scores(new_sentences[i])['compound']\n",
    "    if score < -0.05:\n",
    "        output.append({'text': new_sentences[i], 'score': score, 'label': -1})\n",
    "    elif score < 0.5:\n",
    "        output.append({'text': new_sentences[i], 'score': score, 'label': 0})\n",
    "    else:\n",
    "        output.append({'text': new_sentences[i], 'score': score, 'label': 1})"
   ]
  },
  {
   "cell_type": "code",
   "execution_count": 234,
   "metadata": {},
   "outputs": [],
   "source": [
    "with open(\"../results/new_sentence_scores.json\", 'w') as outfile:\n",
    "    json.dump(output, outfile)"
   ]
  },
  {
   "cell_type": "code",
   "execution_count": null,
   "metadata": {},
   "outputs": [],
   "source": []
  }
 ]
}