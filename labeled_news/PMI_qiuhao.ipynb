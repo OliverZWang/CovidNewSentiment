{
 "cells": [
  {
   "cell_type": "code",
   "execution_count": 1,
   "metadata": {},
   "outputs": [],
   "source": [
    "from tqdm import tqdm\n",
    "import math\n",
    "import pandas as pd\n",
    "import matplotlib.pyplot as plt\n",
    "import plotly.express as px"
   ]
  },
  {
   "cell_type": "code",
   "execution_count": 4,
   "metadata": {},
   "outputs": [],
   "source": [
    "import json\n",
    "\n",
    "f = open(\"./NLP2590/labeled_news/data.json\")\n",
    "data = json.load(f)\n",
    "f.close()"
   ]
  },
  {
   "cell_type": "code",
   "execution_count": 5,
   "metadata": {},
   "outputs": [],
   "source": [
    "import spacy\n",
    "sp = spacy.load('en_core_web_sm')"
   ]
  },
  {
   "cell_type": "code",
   "execution_count": 6,
   "metadata": {},
   "outputs": [],
   "source": [
    "paragraphs = []\n",
    "\n",
    "for news in data:\n",
    "    label = news['label']\n",
    "    body = news['body']\n",
    "    \n",
    "    paragraphs.append([body.strip(), label])\n",
    "    \n",
    "#     for p in body.split(\"\\n\"):\n",
    "#         if p.strip() == \"\":\n",
    "#             continue\n",
    "            \n",
    "#         paragraphs.append([p.strip(), label])"
   ]
  },
  {
   "cell_type": "code",
   "execution_count": 85,
   "metadata": {},
   "outputs": [
    {
     "data": {
      "text/plain": [
       "714"
      ]
     },
     "execution_count": 85,
     "metadata": {},
     "output_type": "execute_result"
    }
   ],
   "source": [
    "len(paragraphs)"
   ]
  },
  {
   "cell_type": "code",
   "execution_count": 8,
   "metadata": {
    "collapsed": true
   },
   "outputs": [
    {
     "data": {
      "text/plain": [
       "['Alaina Lattin was served an eviction notice last month at her home in Conroe, Texas.\\n\"It was a very loud banging,\" Lattin, 32, said. \"They just kept screaming, \\'Leasing office! Leasing office!\\'\" Now, the single mother is worried that she and her four children will become homeless.\\nLattin is one of millions of Americans facing eviction amid the coronavirus pandemic. Even as unemployment levels remain at historic highs and cases of the virus continue to surge, the federal eviction moratorium in the first stimulus package was allowed to expire at the end of last month.\\nPresident Donald Trump said the executive action he took over the weekend would help keep renters in their homes, but advocates say the move won\\'t actually do much .\\n\"It creates the impression that something was done when, in fact, nothing was done,\" said John Pollock , coordinator of the National Coalition for a Civil Right to Counsel.\\nMore from Personal Finance:\\nTrump wants stimulus checks to be more than $1,200\\nHow HEALS Act stimulus checks would be different\\nHow soon you can expect another stimulus check in the mail\\nMeanwhile, statewide bans on evictions have ended in more than 30 states.\\xa0By one estimate, some 40 million Americans could lose their homes during the public health crisis, four times the amount seen during the Great Recession.\\n\"The United States is facing the most severe housing crisis in history,\" said Emily Benfer, visiting professor of law at Wake Forest University.\\nEven though most relief measures have dried up by now, there might be rules in place to help keep you in your home.\\nThe CARES Act passed in March banned evictions\\xa0in\\xa0properties with federally backed mortgages and for tenants who receive government-assisted housing. That protection expired on July 24.\\nStill, landlords must give tenants who were protected by the CARES Act at least 30 days notice before they evict them, said Alexis Erkert ,\\xa0a lawyer at Southeast Louisiana Legal Services.\\nNormally, an eviction judgement in Louisiana can be as little as 24 hours. \"So it\\'s a really big deal for tenants here that their landlords have to give them 30 days notice,\" Erkert said.\\nGovernment-sponsored lenders Fannie Mae and Freddie Mac released tools recently that help renters search their property to learn if it qualifies for the eviction moratorium, and therefore the 30 days notice.\\xa0The Urban Institute estimates the provision covers nearly 30% of the country\\'s rental units.\\nMeanwhile, many courts have moved to remote hearings during the public health crisis. In some courts, both the landlord and tenant have to agree to a virtual hearing. If they don\\'t, the case won\\'t be scheduled until the hearings move back to the courtroom, Benfer said. This can be another way to buy yourself some time.\\nIn some states where the statewide moratorium on evictions has lapsed, some towns, cities and counties have established their own protections for renters. You can find out what policies apply to you in this database that Benfer continues to update. Your landlord might not know of them, or be ignoring them .\\nAt Justshelter.org, you can search for community resources for people at risk of eviction. Some states and cities have funds allocated to help people stay in their homes. Arizona earmarked $5 million for that purpose. Residents in Delaware can apply for up to $1,500 in rental assistance . Similar relief measures were made available to those in Montana , Ohio , Iowa and New York . If you\\'re accepted for the assistance, make sure to let your landlord know right away.\\nMany landlords are showing a willingness to work with tenants who ask for payment plans, experts say. Debi Stobi owns a 25-unit building in Lakewood, Colorado. So far, she said, she\\'s managed not to evict anyone during the pandemic.\\n\"We\\'d rather work something out than having nothing at all,\" Stobi said.\\xa0\"Landlords don\\'t want to evict tenants.\"\\nSome tenants are using their credit cards to cover their rent . Few landlords or property managers accept plastic, so you\\'d have to find a third-party processor, such as Plastiq , Paypal or RadPad .\\n\"Their pitch is that you could pay them with a credit card and then they would mail a check to your landlord or send an electronic funds deposit,\" said Ted Rossman,\\xa0an analyst at CreditCards.com.\\nHow you can save $1 million for retirement\\nHow much the most populous states pay mail carriers\\nCreepy ways your company can spy on you while you work from home\\nMajor companies suspend social media advertising over online hate speech\\nWomen and retirement planning\\nThis bookshop survived earthquakes and recessions. But not this\\nJim Cramer on Chesapeake Energy filing for bankruptcy\\nShould you save for retirement or pay down debt?\\nFord just unveiled its 2021 tech-savvy pickup — here\\'s what\\'s new\\nAmazon looking to get into the self-driving car business buys startup for $1B\\nEconomic outlook as more Americans file for unemployment\\n5 items you can sell for additional income\\n5 practical reasons to put purchases on credit\\nHow to prepare for the next recession\\nDisney World workers petition to delay reopening of theme park\\n500 Delta staff have tested positive for COVID-19 and 10 have died\\nBut this option should only be used in dire situations. The companies charge a fee (up to 2.85%, Rossman said), and then if you can\\'t pay the credit card balance off immediately, you\\'ll be dinged with interest fees. The average rate on a card is currently around 16%.\\nOther ways to come up with rent can include borrowing from family and friends or from your retirement plan , Rossman said.\\nIf an eviction hearing is looking inevitable, try to get a lawyer. One study in New Orleans found that more than 65% of tenants with no legal representation were evicted, compared with fewer than 15% of those who did have a lawyer.\\nYou can find low-cost or free legal help with an eviction in your state at Lawhelp.org .\\nSometimes the paperwork you receive with your hearing date will have the contact information for legal services in your area. If not, you should be able to find your agency online, Erkert said.\\xa0\"The court may also be able to give people contact information,\" she said.\\nNo matter what — and whether it\\'s by telephone, over video or in person — try to be present at your hearing, Erkert said.\\n\"A lot of tenants don\\'t show up, which means they will get a default judgment against them,\" she added. \"If they show up, many judges will at least give them extra time to move.\"\\nHave you applied for a rental assistance program where you live? How did it go? Please email me about your experience at annie.nova@nbcuni.com',\n",
       " -1]"
      ]
     },
     "execution_count": 8,
     "metadata": {},
     "output_type": "execute_result"
    }
   ],
   "source": [
    "paragraphs[0]"
   ]
  },
  {
   "cell_type": "code",
   "execution_count": 7,
   "metadata": {},
   "outputs": [],
   "source": [
    "import re\n",
    "\n",
    "punctuation = re.compile('[^\\w\\s]')\n",
    "space = re.compile('  +')"
   ]
  },
  {
   "cell_type": "code",
   "execution_count": 87,
   "metadata": {},
   "outputs": [
    {
     "data": {
      "text/plain": [
       "'Alaina Lattin was served an eviction notice last month at her home in Conroe Texas\\nIt was a very loud banging Lattin 32 said They just kept screaming Leasing office Leasing office Now the single mother is worried that she and her four children will become homeless\\nLattin is one of millions of Americans facing eviction amid the coronavirus pandemic Even as unemployment levels remain at historic highs and cases of the virus continue to surge the federal eviction moratorium in the first stimulus package was allowed to expire at the end of last month\\nPresident Donald Trump said the executive action he took over the weekend would help keep renters in their homes but advocates say the move wont actually do much \\nIt creates the impression that something was done when in fact nothing was done said John Pollock coordinator of the National Coalition for a Civil Right to Counsel\\nMore from Personal Finance\\nTrump wants stimulus checks to be more than 1200\\nHow HEALS Act stimulus checks would be different\\nHow soon you can expect another stimulus check in the mail\\nMeanwhile statewide bans on evictions have ended in more than 30 states\\xa0By one estimate some 40 million Americans could lose their homes during the public health crisis four times the amount seen during the Great Recession\\nThe United States is facing the most severe housing crisis in history said Emily Benfer visiting professor of law at Wake Forest University\\nEven though most relief measures have dried up by now there might be rules in place to help keep you in your home\\nThe CARES Act passed in March banned evictions\\xa0in\\xa0properties with federally backed mortgages and for tenants who receive governmentassisted housing That protection expired on July 24\\nStill landlords must give tenants who were protected by the CARES Act at least 30 days notice before they evict them said Alexis Erkert \\xa0a lawyer at Southeast Louisiana Legal Services\\nNormally an eviction judgement in Louisiana can be as little as 24 hours So its a really big deal for tenants here that their landlords have to give them 30 days notice Erkert said\\nGovernmentsponsored lenders Fannie Mae and Freddie Mac released tools recently that help renters search their property to learn if it qualifies for the eviction moratorium and therefore the 30 days notice\\xa0The Urban Institute estimates the provision covers nearly 30 of the countrys rental units\\nMeanwhile many courts have moved to remote hearings during the public health crisis In some courts both the landlord and tenant have to agree to a virtual hearing If they dont the case wont be scheduled until the hearings move back to the courtroom Benfer said This can be another way to buy yourself some time\\nIn some states where the statewide moratorium on evictions has lapsed some towns cities and counties have established their own protections for renters You can find out what policies apply to you in this database that Benfer continues to update Your landlord might not know of them or be ignoring them \\nAt Justshelterorg you can search for community resources for people at risk of eviction Some states and cities have funds allocated to help people stay in their homes Arizona earmarked 5 million for that purpose Residents in Delaware can apply for up to 1500 in rental assistance Similar relief measures were made available to those in Montana Ohio Iowa and New York If youre accepted for the assistance make sure to let your landlord know right away\\nMany landlords are showing a willingness to work with tenants who ask for payment plans experts say Debi Stobi owns a 25unit building in Lakewood Colorado So far she said shes managed not to evict anyone during the pandemic\\nWed rather work something out than having nothing at all Stobi said\\xa0Landlords dont want to evict tenants\\nSome tenants are using their credit cards to cover their rent Few landlords or property managers accept plastic so youd have to find a thirdparty processor such as Plastiq Paypal or RadPad \\nTheir pitch is that you could pay them with a credit card and then they would mail a check to your landlord or send an electronic funds deposit said Ted Rossman\\xa0an analyst at CreditCardscom\\nHow you can save 1 million for retirement\\nHow much the most populous states pay mail carriers\\nCreepy ways your company can spy on you while you work from home\\nMajor companies suspend social media advertising over online hate speech\\nWomen and retirement planning\\nThis bookshop survived earthquakes and recessions But not this\\nJim Cramer on Chesapeake Energy filing for bankruptcy\\nShould you save for retirement or pay down debt\\nFord just unveiled its 2021 techsavvy pickup heres whats new\\nAmazon looking to get into the selfdriving car business buys startup for 1B\\nEconomic outlook as more Americans file for unemployment\\n5 items you can sell for additional income\\n5 practical reasons to put purchases on credit\\nHow to prepare for the next recession\\nDisney World workers petition to delay reopening of theme park\\n500 Delta staff have tested positive for COVID19 and 10 have died\\nBut this option should only be used in dire situations The companies charge a fee up to 285 Rossman said and then if you cant pay the credit card balance off immediately youll be dinged with interest fees The average rate on a card is currently around 16\\nOther ways to come up with rent can include borrowing from family and friends or from your retirement plan Rossman said\\nIf an eviction hearing is looking inevitable try to get a lawyer One study in New Orleans found that more than 65 of tenants with no legal representation were evicted compared with fewer than 15 of those who did have a lawyer\\nYou can find lowcost or free legal help with an eviction in your state at Lawhelporg \\nSometimes the paperwork you receive with your hearing date will have the contact information for legal services in your area If not you should be able to find your agency online Erkert said\\xa0The court may also be able to give people contact information she said\\nNo matter what and whether its by telephone over video or in person try to be present at your hearing Erkert said\\nA lot of tenants dont show up which means they will get a default judgment against them she added If they show up many judges will at least give them extra time to move\\nHave you applied for a rental assistance program where you live How did it go Please email me about your experience at annienovanbcunicom'"
      ]
     },
     "execution_count": 87,
     "metadata": {},
     "output_type": "execute_result"
    }
   ],
   "source": [
    "p = space.sub(' ', punctuation.sub('', paragraphs[0][0]))\n",
    "p"
   ]
  },
  {
   "cell_type": "code",
   "execution_count": 88,
   "metadata": {},
   "outputs": [],
   "source": [
    "sentence = sp(p)"
   ]
  },
  {
   "cell_type": "code",
   "execution_count": 89,
   "metadata": {
    "scrolled": true
   },
   "outputs": [
    {
     "data": {
      "text/plain": [
       "Alaina Lattin was served an eviction notice last month at her home in Conroe Texas\n",
       "It was a very loud banging Lattin 32 said They just kept screaming Leasing office Leasing office Now the single mother is worried that she and her four children will become homeless\n",
       "Lattin is one of millions of Americans facing eviction amid the coronavirus pandemic Even as unemployment levels remain at historic highs and cases of the virus continue to surge the federal eviction moratorium in the first stimulus package was allowed to expire at the end of last month\n",
       "President Donald Trump said the executive action he took over the weekend would help keep renters in their homes but advocates say the move wont actually do much \n",
       "It creates the impression that something was done when in fact nothing was done said John Pollock coordinator of the National Coalition for a Civil Right to Counsel\n",
       "More from Personal Finance\n",
       "Trump wants stimulus checks to be more than 1200\n",
       "How HEALS Act stimulus checks would be different\n",
       "How soon you can expect another stimulus check in the mail\n",
       "Meanwhile statewide bans on evictions have ended in more than 30 states By one estimate some 40 million Americans could lose their homes during the public health crisis four times the amount seen during the Great Recession\n",
       "The United States is facing the most severe housing crisis in history said Emily Benfer visiting professor of law at Wake Forest University\n",
       "Even though most relief measures have dried up by now there might be rules in place to help keep you in your home\n",
       "The CARES Act passed in March banned evictions in properties with federally backed mortgages and for tenants who receive governmentassisted housing That protection expired on July 24\n",
       "Still landlords must give tenants who were protected by the CARES Act at least 30 days notice before they evict them said Alexis Erkert  a lawyer at Southeast Louisiana Legal Services\n",
       "Normally an eviction judgement in Louisiana can be as little as 24 hours So its a really big deal for tenants here that their landlords have to give them 30 days notice Erkert said\n",
       "Governmentsponsored lenders Fannie Mae and Freddie Mac released tools recently that help renters search their property to learn if it qualifies for the eviction moratorium and therefore the 30 days notice The Urban Institute estimates the provision covers nearly 30 of the countrys rental units\n",
       "Meanwhile many courts have moved to remote hearings during the public health crisis In some courts both the landlord and tenant have to agree to a virtual hearing If they dont the case wont be scheduled until the hearings move back to the courtroom Benfer said This can be another way to buy yourself some time\n",
       "In some states where the statewide moratorium on evictions has lapsed some towns cities and counties have established their own protections for renters You can find out what policies apply to you in this database that Benfer continues to update Your landlord might not know of them or be ignoring them \n",
       "At Justshelterorg you can search for community resources for people at risk of eviction Some states and cities have funds allocated to help people stay in their homes Arizona earmarked 5 million for that purpose Residents in Delaware can apply for up to 1500 in rental assistance Similar relief measures were made available to those in Montana Ohio Iowa and New York If youre accepted for the assistance make sure to let your landlord know right away\n",
       "Many landlords are showing a willingness to work with tenants who ask for payment plans experts say Debi Stobi owns a 25unit building in Lakewood Colorado So far she said shes managed not to evict anyone during the pandemic\n",
       "Wed rather work something out than having nothing at all Stobi said Landlords dont want to evict tenants\n",
       "Some tenants are using their credit cards to cover their rent Few landlords or property managers accept plastic so youd have to find a thirdparty processor such as Plastiq Paypal or RadPad \n",
       "Their pitch is that you could pay them with a credit card and then they would mail a check to your landlord or send an electronic funds deposit said Ted Rossman an analyst at CreditCardscom\n",
       "How you can save 1 million for retirement\n",
       "How much the most populous states pay mail carriers\n",
       "Creepy ways your company can spy on you while you work from home\n",
       "Major companies suspend social media advertising over online hate speech\n",
       "Women and retirement planning\n",
       "This bookshop survived earthquakes and recessions But not this\n",
       "Jim Cramer on Chesapeake Energy filing for bankruptcy\n",
       "Should you save for retirement or pay down debt\n",
       "Ford just unveiled its 2021 techsavvy pickup heres whats new\n",
       "Amazon looking to get into the selfdriving car business buys startup for 1B\n",
       "Economic outlook as more Americans file for unemployment\n",
       "5 items you can sell for additional income\n",
       "5 practical reasons to put purchases on credit\n",
       "How to prepare for the next recession\n",
       "Disney World workers petition to delay reopening of theme park\n",
       "500 Delta staff have tested positive for COVID19 and 10 have died\n",
       "But this option should only be used in dire situations The companies charge a fee up to 285 Rossman said and then if you cant pay the credit card balance off immediately youll be dinged with interest fees The average rate on a card is currently around 16\n",
       "Other ways to come up with rent can include borrowing from family and friends or from your retirement plan Rossman said\n",
       "If an eviction hearing is looking inevitable try to get a lawyer One study in New Orleans found that more than 65 of tenants with no legal representation were evicted compared with fewer than 15 of those who did have a lawyer\n",
       "You can find lowcost or free legal help with an eviction in your state at Lawhelporg \n",
       "Sometimes the paperwork you receive with your hearing date will have the contact information for legal services in your area If not you should be able to find your agency online Erkert said The court may also be able to give people contact information she said\n",
       "No matter what and whether its by telephone over video or in person try to be present at your hearing Erkert said\n",
       "A lot of tenants dont show up which means they will get a default judgment against them she added If they show up many judges will at least give them extra time to move\n",
       "Have you applied for a rental assistance program where you live How did it go Please email me about your experience at annienovanbcunicom"
      ]
     },
     "execution_count": 89,
     "metadata": {},
     "output_type": "execute_result"
    }
   ],
   "source": [
    "sentence"
   ]
  },
  {
   "cell_type": "code",
   "execution_count": 90,
   "metadata": {
    "collapsed": true
   },
   "outputs": [
    {
     "name": "stdout",
     "output_type": "stream",
     "text": [
      "Alaina Alaina\n",
      "Lattin Lattin\n",
      "was be\n",
      "served serve\n",
      "an an\n",
      "eviction eviction\n",
      "notice notice\n",
      "last last\n",
      "month month\n",
      "at at\n",
      "her -PRON-\n",
      "home home\n",
      "in in\n",
      "Conroe Conroe\n",
      "Texas Texas\n",
      "\n",
      " \n",
      "\n",
      "It -PRON-\n",
      "was be\n",
      "a a\n",
      "very very\n",
      "loud loud\n",
      "banging bang\n",
      "Lattin Lattin\n",
      "32 32\n",
      "said say\n",
      "They -PRON-\n",
      "just just\n",
      "kept keep\n",
      "screaming scream\n",
      "Leasing Leasing\n",
      "office office\n",
      "Leasing leasing\n",
      "office office\n",
      "Now now\n",
      "the the\n",
      "single single\n",
      "mother mother\n",
      "is be\n",
      "worried worried\n",
      "that that\n",
      "she -PRON-\n",
      "and and\n",
      "her -PRON-\n",
      "four four\n",
      "children child\n",
      "will will\n",
      "become become\n",
      "homeless homeless\n",
      "\n",
      " \n",
      "\n",
      "Lattin Lattin\n",
      "is be\n",
      "one one\n",
      "of of\n",
      "millions million\n",
      "of of\n",
      "Americans Americans\n",
      "facing face\n",
      "eviction eviction\n",
      "amid amid\n",
      "the the\n",
      "coronavirus coronavirus\n",
      "pandemic pandemic\n",
      "Even even\n",
      "as as\n",
      "unemployment unemployment\n",
      "levels level\n",
      "remain remain\n",
      "at at\n",
      "historic historic\n",
      "highs high\n",
      "and and\n",
      "cases case\n",
      "of of\n",
      "the the\n",
      "virus virus\n",
      "continue continue\n",
      "to to\n",
      "surge surge\n",
      "the the\n",
      "federal federal\n",
      "eviction eviction\n",
      "moratorium moratorium\n",
      "in in\n",
      "the the\n",
      "first first\n",
      "stimulus stimulus\n",
      "package package\n",
      "was be\n",
      "allowed allow\n",
      "to to\n",
      "expire expire\n",
      "at at\n",
      "the the\n",
      "end end\n",
      "of of\n",
      "last last\n",
      "month month\n",
      "\n",
      " \n",
      "\n",
      "President President\n",
      "Donald Donald\n",
      "Trump Trump\n",
      "said say\n",
      "the the\n",
      "executive executive\n",
      "action action\n",
      "he -PRON-\n",
      "took take\n",
      "over over\n",
      "the the\n",
      "weekend weekend\n",
      "would would\n",
      "help help\n",
      "keep keep\n",
      "renters renter\n",
      "in in\n",
      "their -PRON-\n",
      "homes home\n",
      "but but\n",
      "advocates advocate\n",
      "say say\n",
      "the the\n",
      "move move\n",
      "wo will\n",
      "nt not\n",
      "actually actually\n",
      "do do\n",
      "much much\n",
      "\n",
      " \n",
      "\n",
      "It -PRON-\n",
      "creates create\n",
      "the the\n",
      "impression impression\n",
      "that that\n",
      "something something\n",
      "was be\n",
      "done do\n",
      "when when\n",
      "in in\n",
      "fact fact\n",
      "nothing nothing\n",
      "was be\n",
      "done do\n",
      "said say\n",
      "John John\n",
      "Pollock Pollock\n",
      "coordinator coordinator\n",
      "of of\n",
      "the the\n",
      "National National\n",
      "Coalition Coalition\n",
      "for for\n",
      "a a\n",
      "Civil Civil\n",
      "Right right\n",
      "to to\n",
      "Counsel Counsel\n",
      "\n",
      " \n",
      "\n",
      "More More\n",
      "from from\n",
      "Personal Personal\n",
      "Finance Finance\n",
      "\n",
      " \n",
      "\n",
      "Trump Trump\n",
      "wants want\n",
      "stimulus stimulus\n",
      "checks check\n",
      "to to\n",
      "be be\n",
      "more more\n",
      "than than\n",
      "1200 1200\n",
      "\n",
      " \n",
      "\n",
      "How how\n",
      "HEALS HEALS\n",
      "Act Act\n",
      "stimulus stimulus\n",
      "checks check\n",
      "would would\n",
      "be be\n",
      "different different\n",
      "\n",
      " \n",
      "\n",
      "How how\n",
      "soon soon\n",
      "you -PRON-\n",
      "can can\n",
      "expect expect\n",
      "another another\n",
      "stimulus stimulus\n",
      "check check\n",
      "in in\n",
      "the the\n",
      "mail mail\n",
      "\n",
      " \n",
      "\n",
      "Meanwhile meanwhile\n",
      "statewide statewide\n",
      "bans ban\n",
      "on on\n",
      "evictions eviction\n",
      "have have\n",
      "ended end\n",
      "in in\n",
      "more more\n",
      "than than\n",
      "30 30\n",
      "states state\n",
      "    \n",
      "By by\n",
      "one one\n",
      "estimate estimate\n",
      "some some\n",
      "40 40\n",
      "million million\n",
      "Americans Americans\n",
      "could could\n",
      "lose lose\n",
      "their -PRON-\n",
      "homes home\n",
      "during during\n",
      "the the\n",
      "public public\n",
      "health health\n",
      "crisis crisis\n",
      "four four\n",
      "times time\n",
      "the the\n",
      "amount amount\n",
      "seen see\n",
      "during during\n",
      "the the\n",
      "Great great\n",
      "Recession recession\n",
      "\n",
      " \n",
      "\n",
      "The the\n",
      "United United\n",
      "States States\n",
      "is be\n",
      "facing face\n",
      "the the\n",
      "most most\n",
      "severe severe\n",
      "housing housing\n",
      "crisis crisis\n",
      "in in\n",
      "history history\n",
      "said say\n",
      "Emily Emily\n",
      "Benfer Benfer\n",
      "visiting visit\n",
      "professor professor\n",
      "of of\n",
      "law law\n",
      "at at\n",
      "Wake Wake\n",
      "Forest Forest\n",
      "University University\n",
      "\n",
      " \n",
      "\n",
      "Even even\n",
      "though though\n",
      "most most\n",
      "relief relief\n",
      "measures measure\n",
      "have have\n",
      "dried dry\n",
      "up up\n",
      "by by\n",
      "now now\n",
      "there there\n",
      "might may\n",
      "be be\n",
      "rules rule\n",
      "in in\n",
      "place place\n",
      "to to\n",
      "help help\n",
      "keep keep\n",
      "you -PRON-\n",
      "in in\n",
      "your -PRON-\n",
      "home home\n",
      "\n",
      " \n",
      "\n",
      "The the\n",
      "CARES CARES\n",
      "Act Act\n",
      "passed pass\n",
      "in in\n",
      "March March\n",
      "banned ban\n",
      "evictions eviction\n",
      "    \n",
      "in in\n",
      "    \n",
      "properties property\n",
      "with with\n",
      "federally federally\n",
      "backed back\n",
      "mortgages mortgage\n",
      "and and\n",
      "for for\n",
      "tenants tenant\n",
      "who who\n",
      "receive receive\n",
      "governmentassisted governmentassisted\n",
      "housing housing\n",
      "That that\n",
      "protection protection\n",
      "expired expire\n",
      "on on\n",
      "July July\n",
      "24 24\n",
      "\n",
      " \n",
      "\n",
      "Still still\n",
      "landlords landlord\n",
      "must must\n",
      "give give\n",
      "tenants tenant\n",
      "who who\n",
      "were be\n",
      "protected protect\n",
      "by by\n",
      "the the\n",
      "CARES CARES\n",
      "Act Act\n",
      "at at\n",
      "least least\n",
      "30 30\n",
      "days day\n",
      "notice notice\n",
      "before before\n",
      "they -PRON-\n",
      "evict evict\n",
      "them -PRON-\n",
      "said say\n",
      "Alexis Alexis\n",
      "Erkert Erkert\n",
      "    \n",
      "a a\n",
      "lawyer lawyer\n",
      "at at\n",
      "Southeast Southeast\n",
      "Louisiana Louisiana\n",
      "Legal Legal\n",
      "Services Services\n",
      "\n",
      " \n",
      "\n",
      "Normally normally\n",
      "an an\n",
      "eviction eviction\n",
      "judgement judgement\n",
      "in in\n",
      "Louisiana Louisiana\n",
      "can can\n",
      "be be\n",
      "as as\n",
      "little little\n",
      "as as\n",
      "24 24\n",
      "hours hour\n",
      "So so\n",
      "its -PRON-\n",
      "a a\n",
      "really really\n",
      "big big\n",
      "deal deal\n",
      "for for\n",
      "tenants tenant\n",
      "here here\n",
      "that that\n",
      "their -PRON-\n",
      "landlords landlord\n",
      "have have\n",
      "to to\n",
      "give give\n",
      "them -PRON-\n",
      "30 30\n",
      "days day\n",
      "notice notice\n",
      "Erkert Erkert\n",
      "said say\n",
      "\n",
      " \n",
      "\n",
      "Governmentsponsored governmentsponsore\n",
      "lenders lender\n",
      "Fannie Fannie\n",
      "Mae Mae\n",
      "and and\n",
      "Freddie Freddie\n",
      "Mac Mac\n",
      "released release\n",
      "tools tool\n",
      "recently recently\n",
      "that that\n",
      "help help\n",
      "renters renter\n",
      "search search\n",
      "their -PRON-\n",
      "property property\n",
      "to to\n",
      "learn learn\n",
      "if if\n",
      "it -PRON-\n",
      "qualifies qualify\n",
      "for for\n",
      "the the\n",
      "eviction eviction\n",
      "moratorium moratorium\n",
      "and and\n",
      "therefore therefore\n",
      "the the\n",
      "30 30\n",
      "days day\n",
      "notice notice\n",
      "    \n",
      "The the\n",
      "Urban Urban\n",
      "Institute Institute\n",
      "estimates estimate\n",
      "the the\n",
      "provision provision\n",
      "covers cover\n",
      "nearly nearly\n",
      "30 30\n",
      "of of\n",
      "the the\n",
      "countrys countrys\n",
      "rental rental\n",
      "units unit\n",
      "\n",
      " \n",
      "\n",
      "Meanwhile meanwhile\n",
      "many many\n",
      "courts court\n",
      "have have\n",
      "moved move\n",
      "to to\n",
      "remote remote\n",
      "hearings hearing\n",
      "during during\n",
      "the the\n",
      "public public\n",
      "health health\n",
      "crisis crisis\n",
      "In in\n",
      "some some\n",
      "courts court\n",
      "both both\n",
      "the the\n",
      "landlord landlord\n",
      "and and\n",
      "tenant tenant\n",
      "have have\n",
      "to to\n",
      "agree agree\n",
      "to to\n",
      "a a\n",
      "virtual virtual\n",
      "hearing hearing\n",
      "If if\n",
      "they -PRON-\n",
      "do do\n",
      "nt not\n",
      "the the\n",
      "case case\n",
      "wo will\n",
      "nt not\n",
      "be be\n",
      "scheduled schedule\n",
      "until until\n",
      "the the\n",
      "hearings hearing\n",
      "move move\n",
      "back back\n",
      "to to\n",
      "the the\n",
      "courtroom courtroom\n",
      "Benfer Benfer\n",
      "said say\n",
      "This this\n",
      "can can\n",
      "be be\n",
      "another another\n",
      "way way\n",
      "to to\n",
      "buy buy\n",
      "yourself -PRON-\n",
      "some some\n",
      "time time\n",
      "\n",
      " \n",
      "\n",
      "In in\n",
      "some some\n",
      "states state\n",
      "where where\n",
      "the the\n",
      "statewide statewide\n",
      "moratorium moratorium\n",
      "on on\n",
      "evictions eviction\n",
      "has have\n",
      "lapsed lapse\n",
      "some some\n",
      "towns town\n",
      "cities city\n",
      "and and\n",
      "counties county\n",
      "have have\n",
      "established establish\n",
      "their -PRON-\n",
      "own own\n",
      "protections protection\n",
      "for for\n",
      "renters renter\n",
      "You -PRON-\n",
      "can can\n",
      "find find\n",
      "out out\n",
      "what what\n",
      "policies policy\n",
      "apply apply\n",
      "to to\n",
      "you -PRON-\n",
      "in in\n",
      "this this\n",
      "database database\n",
      "that that\n",
      "Benfer Benfer\n",
      "continues continue\n",
      "to to\n",
      "update update\n",
      "Your -PRON-\n",
      "landlord landlord\n",
      "might may\n",
      "not not\n",
      "know know\n",
      "of of\n",
      "them -PRON-\n",
      "or or\n",
      "be be\n",
      "ignoring ignore\n",
      "them -PRON-\n",
      "\n",
      " \n",
      "\n",
      "At at\n",
      "Justshelterorg Justshelterorg\n",
      "you -PRON-\n",
      "can can\n",
      "search search\n",
      "for for\n",
      "community community\n",
      "resources resource\n",
      "for for\n",
      "people people\n",
      "at at\n",
      "risk risk\n",
      "of of\n",
      "eviction eviction\n",
      "Some some\n",
      "states state\n",
      "and and\n",
      "cities city\n",
      "have have\n",
      "funds fund\n",
      "allocated allocate\n",
      "to to\n",
      "help help\n",
      "people people\n",
      "stay stay\n",
      "in in\n",
      "their -PRON-\n",
      "homes home\n",
      "Arizona Arizona\n",
      "earmarked earmark\n",
      "5 5\n",
      "million million\n",
      "for for\n",
      "that that\n",
      "purpose purpose\n",
      "Residents resident\n",
      "in in\n",
      "Delaware Delaware\n",
      "can can\n",
      "apply apply\n",
      "for for\n",
      "up up\n",
      "to to\n",
      "1500 1500\n",
      "in in\n",
      "rental rental\n",
      "assistance assistance\n",
      "Similar similar\n",
      "relief relief\n",
      "measures measure\n",
      "were be\n",
      "made make\n",
      "available available\n",
      "to to\n",
      "those those\n",
      "in in\n",
      "Montana Montana\n",
      "Ohio Ohio\n",
      "Iowa Iowa\n",
      "and and\n",
      "New New\n",
      "York York\n",
      "If if\n",
      "you -PRON-\n",
      "re be\n",
      "accepted accept\n",
      "for for\n",
      "the the\n",
      "assistance assistance\n",
      "make make\n",
      "sure sure\n",
      "to to\n",
      "let let\n",
      "your -PRON-\n",
      "landlord landlord\n",
      "know know\n",
      "right right\n",
      "away away\n",
      "\n",
      " \n",
      "\n",
      "Many many\n",
      "landlords landlord\n",
      "are be\n",
      "showing show\n",
      "a a\n",
      "willingness willingness\n",
      "to to\n",
      "work work\n",
      "with with\n",
      "tenants tenant\n",
      "who who\n",
      "ask ask\n",
      "for for\n",
      "payment payment\n",
      "plans plan\n",
      "experts expert\n",
      "say say\n",
      "Debi Debi\n",
      "Stobi Stobi\n",
      "owns own\n",
      "a a\n",
      "25unit 25unit\n",
      "building building\n",
      "in in\n",
      "Lakewood Lakewood\n",
      "Colorado Colorado\n",
      "So so\n",
      "far far\n",
      "she -PRON-\n",
      "said say\n",
      "she -PRON-\n",
      "s s\n",
      "managed manage\n",
      "not not\n",
      "to to\n",
      "evict evict\n",
      "anyone anyone\n",
      "during during\n",
      "the the\n",
      "pandemic pandemic\n",
      "\n",
      " \n",
      "\n",
      "We -PRON-\n",
      "d would\n",
      "rather rather\n",
      "work work\n",
      "something something\n",
      "out out\n",
      "than than\n",
      "having have\n",
      "nothing nothing\n",
      "at at\n",
      "all all\n",
      "Stobi Stobi\n",
      "said say\n",
      "    \n",
      "Landlords landlord\n",
      "do do\n",
      "nt not\n",
      "want want\n",
      "to to\n",
      "evict evict\n",
      "tenants tenant\n",
      "\n",
      " \n",
      "\n",
      "Some some\n",
      "tenants tenant\n",
      "are be\n",
      "using use\n",
      "their -PRON-\n",
      "credit credit\n",
      "cards card\n",
      "to to\n",
      "cover cover\n",
      "their -PRON-\n",
      "rent rent\n",
      "Few few\n",
      "landlords landlord\n",
      "or or\n",
      "property property\n",
      "managers manager\n",
      "accept accept\n",
      "plastic plastic\n",
      "so so\n",
      "you -PRON-\n",
      "d would\n",
      "have have\n",
      "to to\n",
      "find find\n",
      "a a\n",
      "thirdparty thirdparty\n",
      "processor processor\n",
      "such such\n",
      "as as\n",
      "Plastiq Plastiq\n",
      "Paypal Paypal\n",
      "or or\n",
      "RadPad RadPad\n",
      "\n",
      " \n",
      "\n",
      "Their -PRON-\n",
      "pitch pitch\n",
      "is be\n",
      "that that\n",
      "you -PRON-\n",
      "could could\n",
      "pay pay\n",
      "them -PRON-\n",
      "with with\n",
      "a a\n",
      "credit credit\n",
      "card card\n",
      "and and\n",
      "then then\n",
      "they -PRON-\n",
      "would would\n",
      "mail mail\n",
      "a a\n",
      "check check\n",
      "to to\n",
      "your -PRON-\n",
      "landlord landlord\n",
      "or or\n",
      "send send\n",
      "an an\n",
      "electronic electronic\n",
      "funds fund\n",
      "deposit deposit\n",
      "said say\n",
      "Ted Ted\n",
      "Rossman Rossman\n",
      "    \n",
      "an an\n",
      "analyst analyst\n",
      "at at\n",
      "CreditCardscom CreditCardscom\n",
      "\n",
      " \n",
      "\n",
      "How how\n",
      "you -PRON-\n",
      "can can\n",
      "save save\n",
      "1 1\n",
      "million million\n",
      "for for\n",
      "retirement retirement\n",
      "\n",
      " \n",
      "\n",
      "How how\n",
      "much much\n",
      "the the\n",
      "most most\n",
      "populous populous\n",
      "states state\n",
      "pay pay\n",
      "mail mail\n",
      "carriers carrier\n",
      "\n",
      " \n",
      "\n",
      "Creepy Creepy\n",
      "ways way\n",
      "your -PRON-\n",
      "company company\n",
      "can can\n",
      "spy spy\n",
      "on on\n",
      "you -PRON-\n",
      "while while\n",
      "you -PRON-\n",
      "work work\n",
      "from from\n",
      "home home\n",
      "\n",
      " \n",
      "\n",
      "Major major\n",
      "companies company\n",
      "suspend suspend\n",
      "social social\n",
      "media medium\n",
      "advertising advertising\n",
      "over over\n",
      "online online\n",
      "hate hate\n",
      "speech speech\n",
      "\n",
      " \n",
      "\n",
      "Women Women\n",
      "and and\n",
      "retirement retirement\n",
      "planning planning\n",
      "\n",
      " \n",
      "\n",
      "This this\n",
      "bookshop bookshop\n",
      "survived survive\n",
      "earthquakes earthquake\n",
      "and and\n",
      "recessions recession\n",
      "But but\n",
      "not not\n",
      "this this\n",
      "\n",
      " \n",
      "\n",
      "Jim Jim\n",
      "Cramer Cramer\n",
      "on on\n",
      "Chesapeake Chesapeake\n",
      "Energy Energy\n",
      "filing filing\n",
      "for for\n",
      "bankruptcy bankruptcy\n",
      "\n",
      " \n",
      "\n",
      "Should Should\n",
      "you -PRON-\n",
      "save save\n",
      "for for\n",
      "retirement retirement\n",
      "or or\n",
      "pay pay\n",
      "down down\n",
      "debt debt\n",
      "\n",
      " \n",
      "\n",
      "Ford Ford\n",
      "just just\n",
      "unveiled unveil\n",
      "its -PRON-\n",
      "2021 2021\n",
      "techsavvy techsavvy\n",
      "pickup pickup\n",
      "heres here\n",
      "what what\n",
      "s s\n",
      "new new\n",
      "\n",
      " \n",
      "\n",
      "Amazon Amazon\n",
      "looking look\n",
      "to to\n",
      "get get\n",
      "into into\n",
      "the the\n",
      "selfdriving selfdrive\n",
      "car car\n",
      "business business\n",
      "buys buy\n",
      "startup startup\n",
      "for for\n",
      "1B 1B\n",
      "\n",
      " \n",
      "\n",
      "Economic economic\n",
      "outlook outlook\n",
      "as as\n",
      "more more\n",
      "Americans Americans\n",
      "file file\n",
      "for for\n",
      "unemployment unemployment\n",
      "\n",
      " \n",
      "\n",
      "5 5\n",
      "items item\n",
      "you -PRON-\n",
      "can can\n",
      "sell sell\n",
      "for for\n",
      "additional additional\n",
      "income income\n",
      "\n",
      " \n",
      "\n",
      "5 5\n",
      "practical practical\n",
      "reasons reason\n",
      "to to\n",
      "put put\n",
      "purchases purchase\n",
      "on on\n",
      "credit credit\n",
      "\n",
      " \n",
      "\n",
      "How how\n",
      "to to\n",
      "prepare prepare\n",
      "for for\n",
      "the the\n",
      "next next\n",
      "recession recession\n",
      "\n",
      " \n",
      "\n",
      "Disney Disney\n",
      "World World\n",
      "workers worker\n",
      "petition petition\n",
      "to to\n",
      "delay delay\n",
      "reopening reopen\n",
      "of of\n",
      "theme theme\n",
      "park park\n",
      "\n",
      " \n",
      "\n",
      "500 500\n",
      "Delta Delta\n",
      "staff staff\n",
      "have have\n",
      "tested test\n",
      "positive positive\n",
      "for for\n",
      "COVID19 covid19\n",
      "and and\n",
      "10 10\n",
      "have have\n",
      "died die\n",
      "\n",
      " \n",
      "\n",
      "But but\n",
      "this this\n",
      "option option\n",
      "should should\n",
      "only only\n",
      "be be\n",
      "used use\n",
      "in in\n",
      "dire dire\n",
      "situations situation\n",
      "The the\n",
      "companies company\n",
      "charge charge\n",
      "a a\n",
      "fee fee\n",
      "up up\n",
      "to to\n",
      "285 285\n",
      "Rossman Rossman\n",
      "said say\n",
      "and and\n",
      "then then\n",
      "if if\n",
      "you -PRON-\n",
      "ca can\n",
      "nt not\n",
      "pay pay\n",
      "the the\n",
      "credit credit\n",
      "card card\n",
      "balance balance\n",
      "off off\n",
      "immediately immediately\n",
      "you -PRON-\n",
      "ll will\n",
      "be be\n",
      "dinged dinge\n",
      "with with\n",
      "interest interest\n",
      "fees fee\n",
      "The the\n",
      "average average\n",
      "rate rate\n",
      "on on\n",
      "a a\n",
      "card card\n",
      "is be\n",
      "currently currently\n",
      "around around\n",
      "16 16\n",
      "\n",
      " \n",
      "\n",
      "Other other\n",
      "ways way\n",
      "to to\n",
      "come come\n",
      "up up\n",
      "with with\n",
      "rent rent\n",
      "can can\n",
      "include include\n",
      "borrowing borrow\n",
      "from from\n",
      "family family\n",
      "and and\n",
      "friends friend\n",
      "or or\n",
      "from from\n",
      "your -PRON-\n",
      "retirement retirement\n",
      "plan plan\n",
      "Rossman Rossman\n",
      "said say\n",
      "\n",
      " \n",
      "\n",
      "If if\n",
      "an an\n",
      "eviction eviction\n",
      "hearing hearing\n",
      "is be\n",
      "looking look\n",
      "inevitable inevitable\n",
      "try try\n",
      "to to\n",
      "get get\n",
      "a a\n",
      "lawyer lawyer\n",
      "One one\n",
      "study study\n",
      "in in\n",
      "New New\n",
      "Orleans Orleans\n",
      "found find\n",
      "that that\n",
      "more more\n",
      "than than\n",
      "65 65\n",
      "of of\n",
      "tenants tenant\n",
      "with with\n",
      "no no\n",
      "legal legal\n",
      "representation representation\n",
      "were be\n",
      "evicted evict\n",
      "compared compare\n",
      "with with\n",
      "fewer few\n",
      "than than\n",
      "15 15\n",
      "of of\n",
      "those those\n",
      "who who\n",
      "did do\n",
      "have have\n",
      "a a\n",
      "lawyer lawyer\n",
      "\n",
      " \n",
      "\n",
      "You -PRON-\n",
      "can can\n",
      "find find\n",
      "lowcost lowcost\n",
      "or or\n",
      "free free\n",
      "legal legal\n",
      "help help\n",
      "with with\n",
      "an an\n",
      "eviction eviction\n",
      "in in\n",
      "your -PRON-\n",
      "state state\n",
      "at at\n",
      "Lawhelporg Lawhelporg\n",
      "\n",
      " \n",
      "\n",
      "Sometimes sometimes\n",
      "the the\n",
      "paperwork paperwork\n",
      "you -PRON-\n",
      "receive receive\n",
      "with with\n",
      "your -PRON-\n",
      "hearing hearing\n",
      "date date\n",
      "will will\n",
      "have have\n",
      "the the\n",
      "contact contact\n",
      "information information\n",
      "for for\n",
      "legal legal\n",
      "services service\n",
      "in in\n",
      "your -PRON-\n",
      "area area\n",
      "If if\n",
      "not not\n",
      "you -PRON-\n",
      "should should\n",
      "be be\n",
      "able able\n",
      "to to\n",
      "find find\n",
      "your -PRON-\n",
      "agency agency\n",
      "online online\n",
      "Erkert Erkert\n",
      "said say\n",
      "    \n",
      "The the\n",
      "court court\n",
      "may may\n",
      "also also\n",
      "be be\n",
      "able able\n",
      "to to\n",
      "give give\n",
      "people people\n",
      "contact contact\n",
      "information information\n",
      "she -PRON-\n",
      "said say\n",
      "\n",
      " \n",
      "\n",
      "No no\n",
      "matter matter\n",
      "what what\n",
      "and and\n",
      "whether whether\n",
      "its -PRON-\n",
      "by by\n",
      "telephone telephone\n",
      "over over\n",
      "video video\n",
      "or or\n",
      "in in\n",
      "person person\n",
      "try try\n",
      "to to\n",
      "be be\n",
      "present present\n",
      "at at\n",
      "your -PRON-\n",
      "hearing hearing\n",
      "Erkert Erkert\n",
      "said say\n",
      "\n",
      " \n",
      "\n",
      "A a\n",
      "lot lot\n",
      "of of\n",
      "tenants tenant\n",
      "do do\n",
      "nt not\n",
      "show show\n",
      "up up\n",
      "which which\n",
      "means mean\n",
      "they -PRON-\n",
      "will will\n",
      "get get\n",
      "a a\n",
      "default default\n",
      "judgment judgment\n",
      "against against\n",
      "them -PRON-\n",
      "she -PRON-\n",
      "added add\n",
      "If if\n",
      "they -PRON-\n",
      "show show\n",
      "up up\n",
      "many many\n",
      "judges judge\n",
      "will will\n",
      "at at\n",
      "least least\n",
      "give give\n",
      "them -PRON-\n",
      "extra extra\n",
      "time time\n",
      "to to\n",
      "move move\n",
      "\n",
      " \n",
      "\n",
      "Have have\n",
      "you -PRON-\n",
      "applied apply\n",
      "for for\n",
      "a a\n",
      "rental rental\n",
      "assistance assistance\n",
      "program program\n",
      "where where\n",
      "you -PRON-\n",
      "live live\n",
      "How how\n",
      "did do\n",
      "it -PRON-\n",
      "go go\n",
      "Please please\n",
      "email email\n",
      "me -PRON-\n",
      "about about\n",
      "your -PRON-\n",
      "experience experience\n",
      "at at\n",
      "annienovanbcunicom annienovanbcunicom\n"
     ]
    }
   ],
   "source": [
    "for word in sentence:\n",
    "    print(word.text,  word.lemma_)"
   ]
  },
  {
   "cell_type": "code",
   "execution_count": 8,
   "metadata": {},
   "outputs": [
    {
     "name": "stderr",
     "output_type": "stream",
     "text": [
      "100%|██████████| 714/714 [00:51<00:00, 13.76it/s]\n"
     ]
    },
    {
     "data": {
      "text/plain": [
       "['alaina lattin be serve an eviction notice last month at -pron- home in conroe texas \\n -pron- be a very loud bang lattin 32 say -pron- just keep scream leasing office leasing office now the single mother be worried that -pron- and -pron- four child will become homeless \\n lattin be one of million of americans face eviction amid the coronavirus pandemic even as unemployment level remain at historic high and case of the virus continue to surge the federal eviction moratorium in the first stimulus package be allow to expire at the end of last month \\n president donald trump say the executive action -pron- take over the weekend would help keep renter in -pron- home but advocate say the move will not actually do much \\n -pron- create the impression that something be do when in fact nothing be do say john pollock coordinator of the national coalition for a civil right to counsel \\n more from personal finance \\n trump want stimulus check to be more than 1200 \\n how heals act stimulus check would be different \\n how soon -pron- can expect another stimulus check in the mail \\n meanwhile statewide ban on eviction have end in more than 30 state    by one estimate some 40 million americans could lose -pron- home during the public health crisis four time the amount see during the great recession \\n the united states be face the most severe housing crisis in history say emily benfer visit professor of law at wake forest university \\n even though most relief measure have dry up by now there may be rule in place to help keep -pron- in -pron- home \\n the cares act pass in march ban eviction    in    property with federally back mortgage and for tenant who receive governmentassisted housing that protection expire on july 24 \\n still landlord must give tenant who be protect by the cares act at least 30 day notice before -pron- evict -pron- say alexis erkert    a lawyer at southeast louisiana legal services \\n normally an eviction judgement in louisiana can be as little as 24 hour so -pron- a really big deal for tenant here that -pron- landlord have to give -pron- 30 day notice erkert say \\n governmentsponsore lender fannie mae and freddie mac release tool recently that help renter search -pron- property to learn if -pron- qualify for the eviction moratorium and therefore the 30 day notice    the urban institute estimate the provision cover nearly 30 of the countrys rental unit \\n meanwhile many court have move to remote hearing during the public health crisis in some court both the landlord and tenant have to agree to a virtual hearing if -pron- do not the case will not be schedule until the hearing move back to the courtroom benfer say this can be another way to buy -pron- some time \\n in some state where the statewide moratorium on eviction have lapse some town city and county have establish -pron- own protection for renter -pron- can find out what policy apply to -pron- in this database that benfer continue to update -pron- landlord may not know of -pron- or be ignore -pron- \\n at justshelterorg -pron- can search for community resource for people at risk of eviction some state and city have fund allocate to help people stay in -pron- home arizona earmark 5 million for that purpose resident in delaware can apply for up to 1500 in rental assistance similar relief measure be make available to those in montana ohio iowa and new york if -pron- be accept for the assistance make sure to let -pron- landlord know right away \\n many landlord be show a willingness to work with tenant who ask for payment plan expert say debi stobi own a 25unit building in lakewood colorado so far -pron- say -pron- s manage not to evict anyone during the pandemic \\n -pron- would rather work something out than have nothing at all stobi say    landlord do not want to evict tenant \\n some tenant be use -pron- credit card to cover -pron- rent few landlord or property manager accept plastic so -pron- would have to find a thirdparty processor such as plastiq paypal or radpad \\n -pron- pitch be that -pron- could pay -pron- with a credit card and then -pron- would mail a check to -pron- landlord or send an electronic fund deposit say ted rossman    an analyst at creditcardscom \\n how -pron- can save 1 million for retirement \\n how much the most populous state pay mail carrier \\n creepy way -pron- company can spy on -pron- while -pron- work from home \\n major company suspend social medium advertising over online hate speech \\n women and retirement planning \\n this bookshop survive earthquake and recession but not this \\n jim cramer on chesapeake energy filing for bankruptcy \\n should -pron- save for retirement or pay down debt \\n ford just unveil -pron- 2021 techsavvy pickup here what s new \\n amazon look to get into the selfdrive car business buy startup for 1b \\n economic outlook as more americans file for unemployment \\n 5 item -pron- can sell for additional income \\n 5 practical reason to put purchase on credit \\n how to prepare for the next recession \\n disney world worker petition to delay reopen of theme park \\n 500 delta staff have test positive for covid19 and 10 have die \\n but this option should only be use in dire situation the company charge a fee up to 285 rossman say and then if -pron- can not pay the credit card balance off immediately -pron- will be dinge with interest fee the average rate on a card be currently around 16 \\n other way to come up with rent can include borrow from family and friend or from -pron- retirement plan rossman say \\n if an eviction hearing be look inevitable try to get a lawyer one study in new orleans find that more than 65 of tenant with no legal representation be evict compare with few than 15 of those who do have a lawyer \\n -pron- can find lowcost or free legal help with an eviction in -pron- state at lawhelporg \\n sometimes the paperwork -pron- receive with -pron- hearing date will have the contact information for legal service in -pron- area if not -pron- should be able to find -pron- agency online erkert say    the court may also be able to give people contact information -pron- say \\n no matter what and whether -pron- by telephone over video or in person try to be present at -pron- hearing erkert say \\n a lot of tenant do not show up which mean -pron- will get a default judgment against -pron- -pron- add if -pron- show up many judge will at least give -pron- extra time to move \\n have -pron- apply for a rental assistance program where -pron- live how do -pron- go please email -pron- about -pron- experience at annienovanbcunicom',\n",
       " -1]"
      ]
     },
     "execution_count": 8,
     "metadata": {},
     "output_type": "execute_result"
    }
   ],
   "source": [
    "paragraphs_lemmaed = []\n",
    "\n",
    "for par in tqdm(paragraphs):\n",
    "    p = space.sub(' ', punctuation.sub('', par[0]))\n",
    "    s = sp(p)\n",
    "    \n",
    "    words = []\n",
    "    \n",
    "    for w in s:\n",
    "        words.append(w.lemma_.lower())\n",
    "        \n",
    "    paragraphs_lemmaed.append([\" \".join(words), par[1]])\n",
    "    \n",
    "paragraphs_lemmaed[0]"
   ]
  },
  {
   "cell_type": "code",
   "execution_count": 9,
   "metadata": {},
   "outputs": [
    {
     "name": "stderr",
     "output_type": "stream",
     "text": [
      "100%|██████████| 714/714 [00:00<00:00, 6002.53it/s]\n"
     ]
    },
    {
     "data": {
      "text/plain": [
       "24181"
      ]
     },
     "execution_count": 9,
     "metadata": {},
     "output_type": "execute_result"
    }
   ],
   "source": [
    "words = set()\n",
    "\n",
    "for par in tqdm(paragraphs_lemmaed):\n",
    "    for w in par[0].split():\n",
    "        words.add(w)\n",
    "\n",
    "words = list(words)\n",
    "        \n",
    "len(words)"
   ]
  },
  {
   "cell_type": "code",
   "execution_count": 99,
   "metadata": {},
   "outputs": [],
   "source": [
    "# word_paragraph_count = {}\n",
    "\n",
    "# for word in tqdm(words):\n",
    "#     word_paragraph_count[word] = 0\n",
    "#     for par in paragraphs_lemmaed:\n",
    "#         if word in par[0].split():\n",
    "#             word_paragraph_count[word] += 1"
   ]
  },
  {
   "cell_type": "code",
   "execution_count": 10,
   "metadata": {},
   "outputs": [
    {
     "name": "stderr",
     "output_type": "stream",
     "text": [
      "100%|██████████| 714/714 [00:00<00:00, 737618.98it/s]\n"
     ]
    },
    {
     "data": {
      "text/plain": [
       "{-1: 374, 0: 159, 1: 181}"
      ]
     },
     "execution_count": 10,
     "metadata": {},
     "output_type": "execute_result"
    }
   ],
   "source": [
    "class_paragraph_count = {-1: 0, 0: 0, 1: 0}\n",
    "\n",
    "for par in tqdm(paragraphs_lemmaed):\n",
    "    class_paragraph_count[par[1]] += 1\n",
    "    \n",
    "class_paragraph_count"
   ]
  },
  {
   "cell_type": "code",
   "execution_count": 25,
   "metadata": {},
   "outputs": [
    {
     "name": "stderr",
     "output_type": "stream",
     "text": [
      "100%|██████████| 24181/24181 [13:09<00:00, 30.61it/s]\n"
     ]
    }
   ],
   "source": [
    "word_class_paragraph_count = {}\n",
    "\n",
    "for word in tqdm(words):\n",
    "    word_class_paragraph_count[word] = {-1: 0, 0: 0, 1: 0}\n",
    "    for par in paragraphs_lemmaed:\n",
    "        if word in par[0].split():\n",
    "            word_class_paragraph_count[word][par[1]] += 1"
   ]
  },
  {
   "cell_type": "code",
   "execution_count": 26,
   "metadata": {},
   "outputs": [
    {
     "data": {
      "text/plain": [
       "[('firstofitskind', {-1: 0, 0: 0, 1: 1}),\n",
       " ('churches', {-1: 1, 0: 0, 1: 0}),\n",
       " ('chilean', {-1: 1, 0: 0, 1: 0}),\n",
       " ('immediate', {-1: 15, 0: 8, 1: 8}),\n",
       " ('responsible', {-1: 16, 0: 8, 1: 5}),\n",
       " ('olaf', {-1: 1, 0: 0, 1: 0}),\n",
       " ('cosme', {-1: 1, 0: 0, 1: 0}),\n",
       " ('revoke', {-1: 2, 0: 2, 1: 0}),\n",
       " ('descend', {-1: 2, 0: 0, 1: 0}),\n",
       " ('nigro', {-1: 1, 0: 0, 1: 0})]"
      ]
     },
     "execution_count": 26,
     "metadata": {},
     "output_type": "execute_result"
    }
   ],
   "source": [
    "list(word_class_paragraph_count.items())[:10]"
   ]
  },
  {
   "cell_type": "code",
   "execution_count": 27,
   "metadata": {},
   "outputs": [],
   "source": [
    "word_paragraph_count = {}\n",
    "for k, v in word_class_paragraph_count.items():\n",
    "    word_paragraph_count[k] = sum(v.values())"
   ]
  },
  {
   "cell_type": "code",
   "execution_count": 28,
   "metadata": {
    "scrolled": true
   },
   "outputs": [
    {
     "data": {
      "text/plain": [
       "714"
      ]
     },
     "execution_count": 28,
     "metadata": {},
     "output_type": "execute_result"
    }
   ],
   "source": [
    "total = len(paragraphs_lemmaed)\n",
    "total"
   ]
  },
  {
   "cell_type": "code",
   "execution_count": 29,
   "metadata": {},
   "outputs": [
    {
     "name": "stderr",
     "output_type": "stream",
     "text": [
      "100%|██████████| 24181/24181 [00:00<00:00, 434700.00it/s]\n"
     ]
    }
   ],
   "source": [
    "pmi = {}\n",
    "\n",
    "# p(w|c)\n",
    "for word in tqdm(words):\n",
    "    pmi[word] = {}\n",
    "    \n",
    "    if word_class_paragraph_count[word][-1] != 0:\n",
    "        pmi[word][-1] = math.log(\n",
    "            (word_class_paragraph_count[word][-1] / total) / \n",
    "            (class_paragraph_count[-1] / total))\n",
    "    else:\n",
    "        pmi[word][-1] = math.log(\n",
    "            (1 / total) / \n",
    "            (class_paragraph_count[-1] / total))\n",
    "        \n",
    "    if word_class_paragraph_count[word][1] != 0:\n",
    "        pmi[word][1] = math.log(\n",
    "            (word_class_paragraph_count[word][1] / total) / \n",
    "            (class_paragraph_count[1] / total))\n",
    "    else:\n",
    "        pmi[word][1] = math.log(\n",
    "            (1 / total) / \n",
    "            (class_paragraph_count[1] / total))\n",
    "        \n",
    "\n",
    "# # p(c|w)\n",
    "# for word in tqdm(words):\n",
    "#     pmi[word] = {}\n",
    "    \n",
    "#     if word_class_paragraph_count[word][-1] != 0:\n",
    "#         pmi[word][-1] = math.log(\n",
    "#             (word_class_paragraph_count[word][-1] / total))\n",
    "#     else:\n",
    "#         pmi[word][-1] = math.log(\n",
    "#             (1 / total))\n",
    "        \n",
    "#     if word_class_paragraph_count[word][1] != 0:\n",
    "#         pmi[word][1] = math.log(\n",
    "#             (word_class_paragraph_count[word][1] / total))\n",
    "#     else:\n",
    "#         pmi[word][1] = math.log(\n",
    "#             (1 / total))"
   ]
  },
  {
   "cell_type": "code",
   "execution_count": 30,
   "metadata": {},
   "outputs": [],
   "source": [
    "S = {}\n",
    "\n",
    "for word, values in pmi.items():\n",
    "    S[word] = values[1] - values[-1]"
   ]
  },
  {
   "cell_type": "code",
   "execution_count": 31,
   "metadata": {},
   "outputs": [],
   "source": [
    "s_df = pd.DataFrame.from_dict(S, orient='index')\n",
    "s_df.columns = ['sent']"
   ]
  },
  {
   "cell_type": "code",
   "execution_count": 32,
   "metadata": {},
   "outputs": [],
   "source": [
    "freq = pd.DataFrame.from_dict(word_paragraph_count, orient='index')\n",
    "freq.columns = ['freq']"
   ]
  },
  {
   "cell_type": "code",
   "execution_count": 33,
   "metadata": {
    "scrolled": true
   },
   "outputs": [],
   "source": [
    "s_df = s_df.join(freq)"
   ]
  },
  {
   "cell_type": "code",
   "execution_count": 34,
   "metadata": {
    "scrolled": true
   },
   "outputs": [
    {
     "data": {
      "text/html": [
       "<div>\n",
       "<style scoped>\n",
       "    .dataframe tbody tr th:only-of-type {\n",
       "        vertical-align: middle;\n",
       "    }\n",
       "\n",
       "    .dataframe tbody tr th {\n",
       "        vertical-align: top;\n",
       "    }\n",
       "\n",
       "    .dataframe thead th {\n",
       "        text-align: right;\n",
       "    }\n",
       "</style>\n",
       "<table border=\"1\" class=\"dataframe\">\n",
       "  <thead>\n",
       "    <tr style=\"text-align: right;\">\n",
       "      <th></th>\n",
       "      <th>sent</th>\n",
       "      <th>freq</th>\n",
       "    </tr>\n",
       "  </thead>\n",
       "  <tbody>\n",
       "    <tr>\n",
       "      <th>prnewswire</th>\n",
       "      <td>3.616131</td>\n",
       "      <td>24</td>\n",
       "    </tr>\n",
       "    <tr>\n",
       "      <th>multimedia</th>\n",
       "      <td>3.433809</td>\n",
       "      <td>20</td>\n",
       "    </tr>\n",
       "    <tr>\n",
       "      <th>proud</th>\n",
       "      <td>2.805200</td>\n",
       "      <td>10</td>\n",
       "    </tr>\n",
       "    <tr>\n",
       "      <th>innovative</th>\n",
       "      <td>2.805200</td>\n",
       "      <td>11</td>\n",
       "    </tr>\n",
       "    <tr>\n",
       "      <th>fun</th>\n",
       "      <td>2.671669</td>\n",
       "      <td>9</td>\n",
       "    </tr>\n",
       "    <tr>\n",
       "      <th>interesting</th>\n",
       "      <td>2.671669</td>\n",
       "      <td>9</td>\n",
       "    </tr>\n",
       "    <tr>\n",
       "      <th>integrate</th>\n",
       "      <td>2.671669</td>\n",
       "      <td>8</td>\n",
       "    </tr>\n",
       "    <tr>\n",
       "      <th>download</th>\n",
       "      <td>2.622879</td>\n",
       "      <td>33</td>\n",
       "    </tr>\n",
       "    <tr>\n",
       "      <th>plasma</th>\n",
       "      <td>2.517518</td>\n",
       "      <td>8</td>\n",
       "    </tr>\n",
       "    <tr>\n",
       "      <th>smooth</th>\n",
       "      <td>2.517518</td>\n",
       "      <td>7</td>\n",
       "    </tr>\n",
       "    <tr>\n",
       "      <th>acquisition</th>\n",
       "      <td>2.517518</td>\n",
       "      <td>11</td>\n",
       "    </tr>\n",
       "    <tr>\n",
       "      <th>cloud</th>\n",
       "      <td>2.517518</td>\n",
       "      <td>8</td>\n",
       "    </tr>\n",
       "    <tr>\n",
       "      <th>incredibly</th>\n",
       "      <td>2.517518</td>\n",
       "      <td>11</td>\n",
       "    </tr>\n",
       "    <tr>\n",
       "      <th>navigate</th>\n",
       "      <td>2.517518</td>\n",
       "      <td>9</td>\n",
       "    </tr>\n",
       "    <tr>\n",
       "      <th>materially</th>\n",
       "      <td>2.517518</td>\n",
       "      <td>11</td>\n",
       "    </tr>\n",
       "    <tr>\n",
       "      <th>transformation</th>\n",
       "      <td>2.335197</td>\n",
       "      <td>6</td>\n",
       "    </tr>\n",
       "    <tr>\n",
       "      <th>affordable</th>\n",
       "      <td>2.335197</td>\n",
       "      <td>9</td>\n",
       "    </tr>\n",
       "    <tr>\n",
       "      <th>tony</th>\n",
       "      <td>2.335197</td>\n",
       "      <td>9</td>\n",
       "    </tr>\n",
       "    <tr>\n",
       "      <th>tune</th>\n",
       "      <td>2.335197</td>\n",
       "      <td>6</td>\n",
       "    </tr>\n",
       "    <tr>\n",
       "      <th>critically</th>\n",
       "      <td>2.335197</td>\n",
       "      <td>7</td>\n",
       "    </tr>\n",
       "    <tr>\n",
       "      <th>reward</th>\n",
       "      <td>2.335197</td>\n",
       "      <td>9</td>\n",
       "    </tr>\n",
       "    <tr>\n",
       "      <th>forwardlooking</th>\n",
       "      <td>2.335197</td>\n",
       "      <td>9</td>\n",
       "    </tr>\n",
       "    <tr>\n",
       "      <th>downside</th>\n",
       "      <td>2.335197</td>\n",
       "      <td>5</td>\n",
       "    </tr>\n",
       "    <tr>\n",
       "      <th>ebola</th>\n",
       "      <td>2.335197</td>\n",
       "      <td>8</td>\n",
       "    </tr>\n",
       "    <tr>\n",
       "      <th>software</th>\n",
       "      <td>2.335197</td>\n",
       "      <td>8</td>\n",
       "    </tr>\n",
       "    <tr>\n",
       "      <th>rigorous</th>\n",
       "      <td>2.335197</td>\n",
       "      <td>7</td>\n",
       "    </tr>\n",
       "    <tr>\n",
       "      <th>reputation</th>\n",
       "      <td>2.335197</td>\n",
       "      <td>7</td>\n",
       "    </tr>\n",
       "    <tr>\n",
       "      <th>apr</th>\n",
       "      <td>2.335197</td>\n",
       "      <td>5</td>\n",
       "    </tr>\n",
       "    <tr>\n",
       "      <th>discovery</th>\n",
       "      <td>2.335197</td>\n",
       "      <td>7</td>\n",
       "    </tr>\n",
       "    <tr>\n",
       "      <th>recognise</th>\n",
       "      <td>2.335197</td>\n",
       "      <td>7</td>\n",
       "    </tr>\n",
       "    <tr>\n",
       "      <th>...</th>\n",
       "      <td>...</td>\n",
       "      <td>...</td>\n",
       "    </tr>\n",
       "    <tr>\n",
       "      <th>cough</th>\n",
       "      <td>-1.759148</td>\n",
       "      <td>17</td>\n",
       "    </tr>\n",
       "    <tr>\n",
       "      <th>iran</th>\n",
       "      <td>-1.799970</td>\n",
       "      <td>35</td>\n",
       "    </tr>\n",
       "    <tr>\n",
       "      <th>newspaper</th>\n",
       "      <td>-1.839191</td>\n",
       "      <td>20</td>\n",
       "    </tr>\n",
       "    <tr>\n",
       "      <th>hubei</th>\n",
       "      <td>-1.839191</td>\n",
       "      <td>19</td>\n",
       "    </tr>\n",
       "    <tr>\n",
       "      <th>exceed</th>\n",
       "      <td>-1.839191</td>\n",
       "      <td>17</td>\n",
       "    </tr>\n",
       "    <tr>\n",
       "      <th>danger</th>\n",
       "      <td>-1.839191</td>\n",
       "      <td>18</td>\n",
       "    </tr>\n",
       "    <tr>\n",
       "      <th>slide</th>\n",
       "      <td>-1.839191</td>\n",
       "      <td>19</td>\n",
       "    </tr>\n",
       "    <tr>\n",
       "      <th>cnn</th>\n",
       "      <td>-1.839191</td>\n",
       "      <td>20</td>\n",
       "    </tr>\n",
       "    <tr>\n",
       "      <th>severely</th>\n",
       "      <td>-1.839191</td>\n",
       "      <td>19</td>\n",
       "    </tr>\n",
       "    <tr>\n",
       "      <th>resurgence</th>\n",
       "      <td>-1.839191</td>\n",
       "      <td>15</td>\n",
       "    </tr>\n",
       "    <tr>\n",
       "      <th>attorney</th>\n",
       "      <td>-1.839191</td>\n",
       "      <td>17</td>\n",
       "    </tr>\n",
       "    <tr>\n",
       "      <th>hearing</th>\n",
       "      <td>-1.839191</td>\n",
       "      <td>17</td>\n",
       "    </tr>\n",
       "    <tr>\n",
       "      <th>sea</th>\n",
       "      <td>-1.839191</td>\n",
       "      <td>16</td>\n",
       "    </tr>\n",
       "    <tr>\n",
       "      <th>aware</th>\n",
       "      <td>-1.913299</td>\n",
       "      <td>17</td>\n",
       "    </tr>\n",
       "    <tr>\n",
       "      <th>protester</th>\n",
       "      <td>-1.913299</td>\n",
       "      <td>16</td>\n",
       "    </tr>\n",
       "    <tr>\n",
       "      <th>20000</th>\n",
       "      <td>-1.913299</td>\n",
       "      <td>20</td>\n",
       "    </tr>\n",
       "    <tr>\n",
       "      <th>protest</th>\n",
       "      <td>-1.913299</td>\n",
       "      <td>46</td>\n",
       "    </tr>\n",
       "    <tr>\n",
       "      <th>lee</th>\n",
       "      <td>-1.913299</td>\n",
       "      <td>22</td>\n",
       "    </tr>\n",
       "    <tr>\n",
       "      <th>refuse</th>\n",
       "      <td>-1.948390</td>\n",
       "      <td>36</td>\n",
       "    </tr>\n",
       "    <tr>\n",
       "      <th>200000</th>\n",
       "      <td>-1.982291</td>\n",
       "      <td>17</td>\n",
       "    </tr>\n",
       "    <tr>\n",
       "      <th>pence</th>\n",
       "      <td>-1.982291</td>\n",
       "      <td>22</td>\n",
       "    </tr>\n",
       "    <tr>\n",
       "      <th>constitution</th>\n",
       "      <td>-2.046830</td>\n",
       "      <td>22</td>\n",
       "    </tr>\n",
       "    <tr>\n",
       "      <th>tally</th>\n",
       "      <td>-2.046830</td>\n",
       "      <td>42</td>\n",
       "    </tr>\n",
       "    <tr>\n",
       "      <th>philippines</th>\n",
       "      <td>-2.046830</td>\n",
       "      <td>22</td>\n",
       "    </tr>\n",
       "    <tr>\n",
       "      <th>hopkins</th>\n",
       "      <td>-2.046830</td>\n",
       "      <td>21</td>\n",
       "    </tr>\n",
       "    <tr>\n",
       "      <th>criminal</th>\n",
       "      <td>-2.046830</td>\n",
       "      <td>18</td>\n",
       "    </tr>\n",
       "    <tr>\n",
       "      <th>victim</th>\n",
       "      <td>-2.107455</td>\n",
       "      <td>19</td>\n",
       "    </tr>\n",
       "    <tr>\n",
       "      <th>port</th>\n",
       "      <td>-2.164613</td>\n",
       "      <td>22</td>\n",
       "    </tr>\n",
       "    <tr>\n",
       "      <th>dangerous</th>\n",
       "      <td>-2.218680</td>\n",
       "      <td>26</td>\n",
       "    </tr>\n",
       "    <tr>\n",
       "      <th>justice</th>\n",
       "      <td>-2.318764</td>\n",
       "      <td>27</td>\n",
       "    </tr>\n",
       "  </tbody>\n",
       "</table>\n",
       "<p>24181 rows × 2 columns</p>\n",
       "</div>"
      ],
      "text/plain": [
       "                sent  freq\n",
       "prnewswire  3.616131    24\n",
       "multimedia  3.433809    20\n",
       "proud       2.805200    10\n",
       "innovative  2.805200    11\n",
       "fun         2.671669     9\n",
       "...              ...   ...\n",
       "criminal   -2.046830    18\n",
       "victim     -2.107455    19\n",
       "port       -2.164613    22\n",
       "dangerous  -2.218680    26\n",
       "justice    -2.318764    27\n",
       "\n",
       "[24181 rows x 2 columns]"
      ]
     },
     "execution_count": 34,
     "metadata": {},
     "output_type": "execute_result"
    }
   ],
   "source": [
    "s_df.sort_values('sent', ascending=False)"
   ]
  },
  {
   "cell_type": "code",
   "execution_count": 35,
   "metadata": {},
   "outputs": [
    {
     "data": {
      "text/plain": [
       "sent    -0.487264\n",
       "freq    66.000000\n",
       "Name: negative, dtype: float64"
      ]
     },
     "execution_count": 35,
     "metadata": {},
     "output_type": "execute_result"
    }
   ],
   "source": [
    "s_df.loc['negative']"
   ]
  },
  {
   "cell_type": "code",
   "execution_count": 25,
   "metadata": {},
   "outputs": [],
   "source": [
    "# f = open(\"pmi.json\", \"w\")\n",
    "# json.dump(S, f)\n",
    "# f.close()"
   ]
  },
  {
   "cell_type": "markdown",
   "metadata": {},
   "source": [
    "# Plotting"
   ]
  },
  {
   "cell_type": "code",
   "execution_count": 21,
   "metadata": {},
   "outputs": [],
   "source": [
    "vader_lexicon_file = './data/vader_lexicon.txt'"
   ]
  },
  {
   "cell_type": "code",
   "execution_count": 22,
   "metadata": {},
   "outputs": [],
   "source": [
    "vader_lexicon = {}\n",
    "with open(vader_lexicon_file, 'r') as f:\n",
    "    for line in f.readlines():\n",
    "        line = line.strip()\n",
    "        vader_lexicon[line.split('\\t')[0]] = float(line.split('\\t')[1])"
   ]
  },
  {
   "cell_type": "code",
   "execution_count": 23,
   "metadata": {},
   "outputs": [],
   "source": [
    "vader_words = list(vader_lexicon.keys())"
   ]
  },
  {
   "cell_type": "code",
   "execution_count": 36,
   "metadata": {},
   "outputs": [],
   "source": [
    "s_new = s_df[~s_df.index.isin(vader_words)].copy()\n",
    "s_com = s_df[s_df.index.isin(vader_words)].copy()"
   ]
  },
  {
   "cell_type": "markdown",
   "metadata": {},
   "source": [
    "### Common word modification"
   ]
  },
  {
   "cell_type": "code",
   "execution_count": 37,
   "metadata": {
    "scrolled": true
   },
   "outputs": [],
   "source": [
    "s_com['vader'] = s_com.apply(lambda x: vader_lexicon.get(x.name), axis=1)"
   ]
  },
  {
   "cell_type": "code",
   "execution_count": 38,
   "metadata": {
    "scrolled": true
   },
   "outputs": [
    {
     "name": "stdout",
     "output_type": "stream",
     "text": [
      "<class 'pandas.core.frame.DataFrame'>\n",
      "Index: 1522 entries, responsible to intelligent\n",
      "Data columns (total 3 columns):\n",
      "sent     1522 non-null float64\n",
      "freq     1522 non-null int64\n",
      "vader    1522 non-null float64\n",
      "dtypes: float64(2), int64(1)\n",
      "memory usage: 47.6+ KB\n"
     ]
    }
   ],
   "source": [
    "s_com.info()"
   ]
  },
  {
   "cell_type": "code",
   "execution_count": 39,
   "metadata": {
    "scrolled": true
   },
   "outputs": [],
   "source": [
    "s_com_filter = s_com[s_com['freq']>100].copy().reset_index()"
   ]
  },
  {
   "cell_type": "code",
   "execution_count": 45,
   "metadata": {
    "scrolled": false
   },
   "outputs": [
    {
     "data": {
      "application/vnd.plotly.v1+json": {
       "config": {
        "plotlyServerURL": "https://plot.ly"
       },
       "data": [
        {
         "hovertemplate": "Vader score=%{x}<br>Customized score=%{y}<br>freq=%{marker.size}<br>index=%{text}<extra></extra>",
         "legendgroup": "",
         "marker": {
          "color": "#636efa",
          "size": [
           168,
           245,
           184,
           307,
           107,
           136,
           106,
           267,
           241,
           185,
           150,
           177,
           144,
           123,
           161,
           102,
           127,
           244,
           271,
           140,
           111,
           114,
           189,
           112,
           214,
           123,
           129,
           167,
           119,
           146,
           158,
           141,
           104,
           156,
           122
          ],
          "sizemode": "area",
          "sizeref": 0.7675,
          "symbol": "circle"
         },
         "mode": "markers+text",
         "name": "",
         "orientation": "v",
         "showlegend": false,
         "text": [
          "low",
          "help",
          "increase",
          "no",
          "drop",
          "authority",
          "strong",
          "number",
          "trust",
          "support",
          "positive",
          "united",
          "share",
          "pay",
          "risk",
          "bad",
          "restriction",
          "like",
          "well",
          "demand",
          "hope",
          "great",
          "good",
          "fear",
          "death",
          "emergency",
          "die",
          "want",
          "care",
          "top",
          "crisis",
          "leave",
          "lose",
          "allow",
          "cut"
         ],
         "type": "scatter",
         "x": [
          -1.1,
          1.7,
          1.3,
          -1.2,
          -1.1,
          0.3,
          2.3,
          0.3,
          2.3,
          1.7,
          2.6,
          1.8,
          1.2,
          -0.4,
          -1.1,
          -2.5,
          -1.1,
          1.5,
          1.1,
          -0.5,
          1.9,
          3.1,
          1.9,
          -2.2,
          -2.9,
          -1.6,
          -2.9,
          0.3,
          2.2,
          0.8,
          -3.1,
          -0.2,
          -1.7,
          0.9,
          -1.1
         ],
         "xaxis": "x",
         "y": [
          -0.0904485071684662,
          0.5316027517077488,
          0.06307079307346952,
          -0.29835099522148234,
          -0.3872422599715035,
          -0.6046551365767281,
          0.6567658946617547,
          -0.3063637812505705,
          -0.07950571253194538,
          0.2967631606303476,
          -0.4816563823682025,
          -0.28104597326628067,
          0.5232345020372322,
          0.07641420824715373,
          -0.25507048686302003,
          -0.5041895245804904,
          -0.2727700639624209,
          0.2317402606990968,
          0.32431780834026747,
          0.145940270895764,
          0.22676760002971852,
          -0.01781926803813083,
          0.4725628697680946,
          -0.5270042023466619,
          -0.7989379178303033,
          0.03261158558876098,
          -0.8947289824719791,
          0.3331970628764498,
          -0.00017823723422982773,
          -0.20970188183316885,
          0.05614208299895518,
          -0.34875597094034294,
          -0.44922650130397734,
          0.08525531907418271,
          -0.33363280936612205
         ],
         "yaxis": "y"
        }
       ],
       "layout": {
        "legend": {
         "itemsizing": "constant",
         "tracegroupgap": 0
        },
        "template": {
         "data": {
          "bar": [
           {
            "error_x": {
             "color": "#2a3f5f"
            },
            "error_y": {
             "color": "#2a3f5f"
            },
            "marker": {
             "line": {
              "color": "#E5ECF6",
              "width": 0.5
             }
            },
            "type": "bar"
           }
          ],
          "barpolar": [
           {
            "marker": {
             "line": {
              "color": "#E5ECF6",
              "width": 0.5
             }
            },
            "type": "barpolar"
           }
          ],
          "carpet": [
           {
            "aaxis": {
             "endlinecolor": "#2a3f5f",
             "gridcolor": "white",
             "linecolor": "white",
             "minorgridcolor": "white",
             "startlinecolor": "#2a3f5f"
            },
            "baxis": {
             "endlinecolor": "#2a3f5f",
             "gridcolor": "white",
             "linecolor": "white",
             "minorgridcolor": "white",
             "startlinecolor": "#2a3f5f"
            },
            "type": "carpet"
           }
          ],
          "choropleth": [
           {
            "colorbar": {
             "outlinewidth": 0,
             "ticks": ""
            },
            "type": "choropleth"
           }
          ],
          "contour": [
           {
            "colorbar": {
             "outlinewidth": 0,
             "ticks": ""
            },
            "colorscale": [
             [
              0,
              "#0d0887"
             ],
             [
              0.1111111111111111,
              "#46039f"
             ],
             [
              0.2222222222222222,
              "#7201a8"
             ],
             [
              0.3333333333333333,
              "#9c179e"
             ],
             [
              0.4444444444444444,
              "#bd3786"
             ],
             [
              0.5555555555555556,
              "#d8576b"
             ],
             [
              0.6666666666666666,
              "#ed7953"
             ],
             [
              0.7777777777777778,
              "#fb9f3a"
             ],
             [
              0.8888888888888888,
              "#fdca26"
             ],
             [
              1,
              "#f0f921"
             ]
            ],
            "type": "contour"
           }
          ],
          "contourcarpet": [
           {
            "colorbar": {
             "outlinewidth": 0,
             "ticks": ""
            },
            "type": "contourcarpet"
           }
          ],
          "heatmap": [
           {
            "colorbar": {
             "outlinewidth": 0,
             "ticks": ""
            },
            "colorscale": [
             [
              0,
              "#0d0887"
             ],
             [
              0.1111111111111111,
              "#46039f"
             ],
             [
              0.2222222222222222,
              "#7201a8"
             ],
             [
              0.3333333333333333,
              "#9c179e"
             ],
             [
              0.4444444444444444,
              "#bd3786"
             ],
             [
              0.5555555555555556,
              "#d8576b"
             ],
             [
              0.6666666666666666,
              "#ed7953"
             ],
             [
              0.7777777777777778,
              "#fb9f3a"
             ],
             [
              0.8888888888888888,
              "#fdca26"
             ],
             [
              1,
              "#f0f921"
             ]
            ],
            "type": "heatmap"
           }
          ],
          "heatmapgl": [
           {
            "colorbar": {
             "outlinewidth": 0,
             "ticks": ""
            },
            "colorscale": [
             [
              0,
              "#0d0887"
             ],
             [
              0.1111111111111111,
              "#46039f"
             ],
             [
              0.2222222222222222,
              "#7201a8"
             ],
             [
              0.3333333333333333,
              "#9c179e"
             ],
             [
              0.4444444444444444,
              "#bd3786"
             ],
             [
              0.5555555555555556,
              "#d8576b"
             ],
             [
              0.6666666666666666,
              "#ed7953"
             ],
             [
              0.7777777777777778,
              "#fb9f3a"
             ],
             [
              0.8888888888888888,
              "#fdca26"
             ],
             [
              1,
              "#f0f921"
             ]
            ],
            "type": "heatmapgl"
           }
          ],
          "histogram": [
           {
            "marker": {
             "colorbar": {
              "outlinewidth": 0,
              "ticks": ""
             }
            },
            "type": "histogram"
           }
          ],
          "histogram2d": [
           {
            "colorbar": {
             "outlinewidth": 0,
             "ticks": ""
            },
            "colorscale": [
             [
              0,
              "#0d0887"
             ],
             [
              0.1111111111111111,
              "#46039f"
             ],
             [
              0.2222222222222222,
              "#7201a8"
             ],
             [
              0.3333333333333333,
              "#9c179e"
             ],
             [
              0.4444444444444444,
              "#bd3786"
             ],
             [
              0.5555555555555556,
              "#d8576b"
             ],
             [
              0.6666666666666666,
              "#ed7953"
             ],
             [
              0.7777777777777778,
              "#fb9f3a"
             ],
             [
              0.8888888888888888,
              "#fdca26"
             ],
             [
              1,
              "#f0f921"
             ]
            ],
            "type": "histogram2d"
           }
          ],
          "histogram2dcontour": [
           {
            "colorbar": {
             "outlinewidth": 0,
             "ticks": ""
            },
            "colorscale": [
             [
              0,
              "#0d0887"
             ],
             [
              0.1111111111111111,
              "#46039f"
             ],
             [
              0.2222222222222222,
              "#7201a8"
             ],
             [
              0.3333333333333333,
              "#9c179e"
             ],
             [
              0.4444444444444444,
              "#bd3786"
             ],
             [
              0.5555555555555556,
              "#d8576b"
             ],
             [
              0.6666666666666666,
              "#ed7953"
             ],
             [
              0.7777777777777778,
              "#fb9f3a"
             ],
             [
              0.8888888888888888,
              "#fdca26"
             ],
             [
              1,
              "#f0f921"
             ]
            ],
            "type": "histogram2dcontour"
           }
          ],
          "mesh3d": [
           {
            "colorbar": {
             "outlinewidth": 0,
             "ticks": ""
            },
            "type": "mesh3d"
           }
          ],
          "parcoords": [
           {
            "line": {
             "colorbar": {
              "outlinewidth": 0,
              "ticks": ""
             }
            },
            "type": "parcoords"
           }
          ],
          "pie": [
           {
            "automargin": true,
            "type": "pie"
           }
          ],
          "scatter": [
           {
            "marker": {
             "colorbar": {
              "outlinewidth": 0,
              "ticks": ""
             }
            },
            "type": "scatter"
           }
          ],
          "scatter3d": [
           {
            "line": {
             "colorbar": {
              "outlinewidth": 0,
              "ticks": ""
             }
            },
            "marker": {
             "colorbar": {
              "outlinewidth": 0,
              "ticks": ""
             }
            },
            "type": "scatter3d"
           }
          ],
          "scattercarpet": [
           {
            "marker": {
             "colorbar": {
              "outlinewidth": 0,
              "ticks": ""
             }
            },
            "type": "scattercarpet"
           }
          ],
          "scattergeo": [
           {
            "marker": {
             "colorbar": {
              "outlinewidth": 0,
              "ticks": ""
             }
            },
            "type": "scattergeo"
           }
          ],
          "scattergl": [
           {
            "marker": {
             "colorbar": {
              "outlinewidth": 0,
              "ticks": ""
             }
            },
            "type": "scattergl"
           }
          ],
          "scattermapbox": [
           {
            "marker": {
             "colorbar": {
              "outlinewidth": 0,
              "ticks": ""
             }
            },
            "type": "scattermapbox"
           }
          ],
          "scatterpolar": [
           {
            "marker": {
             "colorbar": {
              "outlinewidth": 0,
              "ticks": ""
             }
            },
            "type": "scatterpolar"
           }
          ],
          "scatterpolargl": [
           {
            "marker": {
             "colorbar": {
              "outlinewidth": 0,
              "ticks": ""
             }
            },
            "type": "scatterpolargl"
           }
          ],
          "scatterternary": [
           {
            "marker": {
             "colorbar": {
              "outlinewidth": 0,
              "ticks": ""
             }
            },
            "type": "scatterternary"
           }
          ],
          "surface": [
           {
            "colorbar": {
             "outlinewidth": 0,
             "ticks": ""
            },
            "colorscale": [
             [
              0,
              "#0d0887"
             ],
             [
              0.1111111111111111,
              "#46039f"
             ],
             [
              0.2222222222222222,
              "#7201a8"
             ],
             [
              0.3333333333333333,
              "#9c179e"
             ],
             [
              0.4444444444444444,
              "#bd3786"
             ],
             [
              0.5555555555555556,
              "#d8576b"
             ],
             [
              0.6666666666666666,
              "#ed7953"
             ],
             [
              0.7777777777777778,
              "#fb9f3a"
             ],
             [
              0.8888888888888888,
              "#fdca26"
             ],
             [
              1,
              "#f0f921"
             ]
            ],
            "type": "surface"
           }
          ],
          "table": [
           {
            "cells": {
             "fill": {
              "color": "#EBF0F8"
             },
             "line": {
              "color": "white"
             }
            },
            "header": {
             "fill": {
              "color": "#C8D4E3"
             },
             "line": {
              "color": "white"
             }
            },
            "type": "table"
           }
          ]
         },
         "layout": {
          "annotationdefaults": {
           "arrowcolor": "#2a3f5f",
           "arrowhead": 0,
           "arrowwidth": 1
          },
          "coloraxis": {
           "colorbar": {
            "outlinewidth": 0,
            "ticks": ""
           }
          },
          "colorscale": {
           "diverging": [
            [
             0,
             "#8e0152"
            ],
            [
             0.1,
             "#c51b7d"
            ],
            [
             0.2,
             "#de77ae"
            ],
            [
             0.3,
             "#f1b6da"
            ],
            [
             0.4,
             "#fde0ef"
            ],
            [
             0.5,
             "#f7f7f7"
            ],
            [
             0.6,
             "#e6f5d0"
            ],
            [
             0.7,
             "#b8e186"
            ],
            [
             0.8,
             "#7fbc41"
            ],
            [
             0.9,
             "#4d9221"
            ],
            [
             1,
             "#276419"
            ]
           ],
           "sequential": [
            [
             0,
             "#0d0887"
            ],
            [
             0.1111111111111111,
             "#46039f"
            ],
            [
             0.2222222222222222,
             "#7201a8"
            ],
            [
             0.3333333333333333,
             "#9c179e"
            ],
            [
             0.4444444444444444,
             "#bd3786"
            ],
            [
             0.5555555555555556,
             "#d8576b"
            ],
            [
             0.6666666666666666,
             "#ed7953"
            ],
            [
             0.7777777777777778,
             "#fb9f3a"
            ],
            [
             0.8888888888888888,
             "#fdca26"
            ],
            [
             1,
             "#f0f921"
            ]
           ],
           "sequentialminus": [
            [
             0,
             "#0d0887"
            ],
            [
             0.1111111111111111,
             "#46039f"
            ],
            [
             0.2222222222222222,
             "#7201a8"
            ],
            [
             0.3333333333333333,
             "#9c179e"
            ],
            [
             0.4444444444444444,
             "#bd3786"
            ],
            [
             0.5555555555555556,
             "#d8576b"
            ],
            [
             0.6666666666666666,
             "#ed7953"
            ],
            [
             0.7777777777777778,
             "#fb9f3a"
            ],
            [
             0.8888888888888888,
             "#fdca26"
            ],
            [
             1,
             "#f0f921"
            ]
           ]
          },
          "colorway": [
           "#636efa",
           "#EF553B",
           "#00cc96",
           "#ab63fa",
           "#FFA15A",
           "#19d3f3",
           "#FF6692",
           "#B6E880",
           "#FF97FF",
           "#FECB52"
          ],
          "font": {
           "color": "#2a3f5f"
          },
          "geo": {
           "bgcolor": "white",
           "lakecolor": "white",
           "landcolor": "#E5ECF6",
           "showlakes": true,
           "showland": true,
           "subunitcolor": "white"
          },
          "hoverlabel": {
           "align": "left"
          },
          "hovermode": "closest",
          "mapbox": {
           "style": "light"
          },
          "paper_bgcolor": "white",
          "plot_bgcolor": "#E5ECF6",
          "polar": {
           "angularaxis": {
            "gridcolor": "white",
            "linecolor": "white",
            "ticks": ""
           },
           "bgcolor": "#E5ECF6",
           "radialaxis": {
            "gridcolor": "white",
            "linecolor": "white",
            "ticks": ""
           }
          },
          "scene": {
           "xaxis": {
            "backgroundcolor": "#E5ECF6",
            "gridcolor": "white",
            "gridwidth": 2,
            "linecolor": "white",
            "showbackground": true,
            "ticks": "",
            "zerolinecolor": "white"
           },
           "yaxis": {
            "backgroundcolor": "#E5ECF6",
            "gridcolor": "white",
            "gridwidth": 2,
            "linecolor": "white",
            "showbackground": true,
            "ticks": "",
            "zerolinecolor": "white"
           },
           "zaxis": {
            "backgroundcolor": "#E5ECF6",
            "gridcolor": "white",
            "gridwidth": 2,
            "linecolor": "white",
            "showbackground": true,
            "ticks": "",
            "zerolinecolor": "white"
           }
          },
          "shapedefaults": {
           "line": {
            "color": "#2a3f5f"
           }
          },
          "ternary": {
           "aaxis": {
            "gridcolor": "white",
            "linecolor": "white",
            "ticks": ""
           },
           "baxis": {
            "gridcolor": "white",
            "linecolor": "white",
            "ticks": ""
           },
           "bgcolor": "#E5ECF6",
           "caxis": {
            "gridcolor": "white",
            "linecolor": "white",
            "ticks": ""
           }
          },
          "title": {
           "x": 0.05
          },
          "xaxis": {
           "automargin": true,
           "gridcolor": "white",
           "linecolor": "white",
           "ticks": "",
           "title": {
            "standoff": 15
           },
           "zerolinecolor": "white",
           "zerolinewidth": 2
          },
          "yaxis": {
           "automargin": true,
           "gridcolor": "white",
           "linecolor": "white",
           "ticks": "",
           "title": {
            "standoff": 15
           },
           "zerolinecolor": "white",
           "zerolinewidth": 2
          }
         }
        },
        "title": {
         "text": "Comparison of Lexicon"
        },
        "xaxis": {
         "anchor": "y",
         "domain": [
          0,
          1
         ],
         "title": {
          "text": "Vader score"
         }
        },
        "yaxis": {
         "anchor": "x",
         "domain": [
          0,
          1
         ],
         "title": {
          "text": "Customized score"
         }
        }
       }
      },
      "text/html": [
       "<div>\n",
       "        \n",
       "        \n",
       "            <div id=\"e330a1ab-fb1b-41a2-aaed-170d05869b6a\" class=\"plotly-graph-div\" style=\"height:525px; width:100%;\"></div>\n",
       "            <script type=\"text/javascript\">\n",
       "                require([\"plotly\"], function(Plotly) {\n",
       "                    window.PLOTLYENV=window.PLOTLYENV || {};\n",
       "                    \n",
       "                if (document.getElementById(\"e330a1ab-fb1b-41a2-aaed-170d05869b6a\")) {\n",
       "                    Plotly.newPlot(\n",
       "                        'e330a1ab-fb1b-41a2-aaed-170d05869b6a',\n",
       "                        [{\"hovertemplate\": \"Vader score=%{x}<br>Customized score=%{y}<br>freq=%{marker.size}<br>index=%{text}<extra></extra>\", \"legendgroup\": \"\", \"marker\": {\"color\": \"#636efa\", \"size\": [168, 245, 184, 307, 107, 136, 106, 267, 241, 185, 150, 177, 144, 123, 161, 102, 127, 244, 271, 140, 111, 114, 189, 112, 214, 123, 129, 167, 119, 146, 158, 141, 104, 156, 122], \"sizemode\": \"area\", \"sizeref\": 0.7675, \"symbol\": \"circle\"}, \"mode\": \"markers+text\", \"name\": \"\", \"orientation\": \"v\", \"showlegend\": false, \"text\": [\"low\", \"help\", \"increase\", \"no\", \"drop\", \"authority\", \"strong\", \"number\", \"trust\", \"support\", \"positive\", \"united\", \"share\", \"pay\", \"risk\", \"bad\", \"restriction\", \"like\", \"well\", \"demand\", \"hope\", \"great\", \"good\", \"fear\", \"death\", \"emergency\", \"die\", \"want\", \"care\", \"top\", \"crisis\", \"leave\", \"lose\", \"allow\", \"cut\"], \"type\": \"scatter\", \"x\": [-1.1, 1.7, 1.3, -1.2, -1.1, 0.3, 2.3, 0.3, 2.3, 1.7, 2.6, 1.8, 1.2, -0.4, -1.1, -2.5, -1.1, 1.5, 1.1, -0.5, 1.9, 3.1, 1.9, -2.2, -2.9, -1.6, -2.9, 0.3, 2.2, 0.8, -3.1, -0.2, -1.7, 0.9, -1.1], \"xaxis\": \"x\", \"y\": [-0.0904485071684662, 0.5316027517077488, 0.06307079307346952, -0.29835099522148234, -0.3872422599715035, -0.6046551365767281, 0.6567658946617547, -0.3063637812505705, -0.07950571253194538, 0.2967631606303476, -0.4816563823682025, -0.28104597326628067, 0.5232345020372322, 0.07641420824715373, -0.25507048686302003, -0.5041895245804904, -0.2727700639624209, 0.2317402606990968, 0.32431780834026747, 0.145940270895764, 0.22676760002971852, -0.01781926803813083, 0.4725628697680946, -0.5270042023466619, -0.7989379178303033, 0.03261158558876098, -0.8947289824719791, 0.3331970628764498, -0.00017823723422982773, -0.20970188183316885, 0.05614208299895518, -0.34875597094034294, -0.44922650130397734, 0.08525531907418271, -0.33363280936612205], \"yaxis\": \"y\"}],\n",
       "                        {\"legend\": {\"itemsizing\": \"constant\", \"tracegroupgap\": 0}, \"template\": {\"data\": {\"bar\": [{\"error_x\": {\"color\": \"#2a3f5f\"}, \"error_y\": {\"color\": \"#2a3f5f\"}, \"marker\": {\"line\": {\"color\": \"#E5ECF6\", \"width\": 0.5}}, \"type\": \"bar\"}], \"barpolar\": [{\"marker\": {\"line\": {\"color\": \"#E5ECF6\", \"width\": 0.5}}, \"type\": \"barpolar\"}], \"carpet\": [{\"aaxis\": {\"endlinecolor\": \"#2a3f5f\", \"gridcolor\": \"white\", \"linecolor\": \"white\", \"minorgridcolor\": \"white\", \"startlinecolor\": \"#2a3f5f\"}, \"baxis\": {\"endlinecolor\": \"#2a3f5f\", \"gridcolor\": \"white\", \"linecolor\": \"white\", \"minorgridcolor\": \"white\", \"startlinecolor\": \"#2a3f5f\"}, \"type\": \"carpet\"}], \"choropleth\": [{\"colorbar\": {\"outlinewidth\": 0, \"ticks\": \"\"}, \"type\": \"choropleth\"}], \"contour\": [{\"colorbar\": {\"outlinewidth\": 0, \"ticks\": \"\"}, \"colorscale\": [[0.0, \"#0d0887\"], [0.1111111111111111, \"#46039f\"], [0.2222222222222222, \"#7201a8\"], [0.3333333333333333, \"#9c179e\"], [0.4444444444444444, \"#bd3786\"], [0.5555555555555556, \"#d8576b\"], [0.6666666666666666, \"#ed7953\"], [0.7777777777777778, \"#fb9f3a\"], [0.8888888888888888, \"#fdca26\"], [1.0, \"#f0f921\"]], \"type\": \"contour\"}], \"contourcarpet\": [{\"colorbar\": {\"outlinewidth\": 0, \"ticks\": \"\"}, \"type\": \"contourcarpet\"}], \"heatmap\": [{\"colorbar\": {\"outlinewidth\": 0, \"ticks\": \"\"}, \"colorscale\": [[0.0, \"#0d0887\"], [0.1111111111111111, \"#46039f\"], [0.2222222222222222, \"#7201a8\"], [0.3333333333333333, \"#9c179e\"], [0.4444444444444444, \"#bd3786\"], [0.5555555555555556, \"#d8576b\"], [0.6666666666666666, \"#ed7953\"], [0.7777777777777778, \"#fb9f3a\"], [0.8888888888888888, \"#fdca26\"], [1.0, \"#f0f921\"]], \"type\": \"heatmap\"}], \"heatmapgl\": [{\"colorbar\": {\"outlinewidth\": 0, \"ticks\": \"\"}, \"colorscale\": [[0.0, \"#0d0887\"], [0.1111111111111111, \"#46039f\"], [0.2222222222222222, \"#7201a8\"], [0.3333333333333333, \"#9c179e\"], [0.4444444444444444, \"#bd3786\"], [0.5555555555555556, \"#d8576b\"], [0.6666666666666666, \"#ed7953\"], [0.7777777777777778, \"#fb9f3a\"], [0.8888888888888888, \"#fdca26\"], [1.0, \"#f0f921\"]], \"type\": \"heatmapgl\"}], \"histogram\": [{\"marker\": {\"colorbar\": {\"outlinewidth\": 0, \"ticks\": \"\"}}, \"type\": \"histogram\"}], \"histogram2d\": [{\"colorbar\": {\"outlinewidth\": 0, \"ticks\": \"\"}, \"colorscale\": [[0.0, \"#0d0887\"], [0.1111111111111111, \"#46039f\"], [0.2222222222222222, \"#7201a8\"], [0.3333333333333333, \"#9c179e\"], [0.4444444444444444, \"#bd3786\"], [0.5555555555555556, \"#d8576b\"], [0.6666666666666666, \"#ed7953\"], [0.7777777777777778, \"#fb9f3a\"], [0.8888888888888888, \"#fdca26\"], [1.0, \"#f0f921\"]], \"type\": \"histogram2d\"}], \"histogram2dcontour\": [{\"colorbar\": {\"outlinewidth\": 0, \"ticks\": \"\"}, \"colorscale\": [[0.0, \"#0d0887\"], [0.1111111111111111, \"#46039f\"], [0.2222222222222222, \"#7201a8\"], [0.3333333333333333, \"#9c179e\"], [0.4444444444444444, \"#bd3786\"], [0.5555555555555556, \"#d8576b\"], [0.6666666666666666, \"#ed7953\"], [0.7777777777777778, \"#fb9f3a\"], [0.8888888888888888, \"#fdca26\"], [1.0, \"#f0f921\"]], \"type\": \"histogram2dcontour\"}], \"mesh3d\": [{\"colorbar\": {\"outlinewidth\": 0, \"ticks\": \"\"}, \"type\": \"mesh3d\"}], \"parcoords\": [{\"line\": {\"colorbar\": {\"outlinewidth\": 0, \"ticks\": \"\"}}, \"type\": \"parcoords\"}], \"pie\": [{\"automargin\": true, \"type\": \"pie\"}], \"scatter\": [{\"marker\": {\"colorbar\": {\"outlinewidth\": 0, \"ticks\": \"\"}}, \"type\": \"scatter\"}], \"scatter3d\": [{\"line\": {\"colorbar\": {\"outlinewidth\": 0, \"ticks\": \"\"}}, \"marker\": {\"colorbar\": {\"outlinewidth\": 0, \"ticks\": \"\"}}, \"type\": \"scatter3d\"}], \"scattercarpet\": [{\"marker\": {\"colorbar\": {\"outlinewidth\": 0, \"ticks\": \"\"}}, \"type\": \"scattercarpet\"}], \"scattergeo\": [{\"marker\": {\"colorbar\": {\"outlinewidth\": 0, \"ticks\": \"\"}}, \"type\": \"scattergeo\"}], \"scattergl\": [{\"marker\": {\"colorbar\": {\"outlinewidth\": 0, \"ticks\": \"\"}}, \"type\": \"scattergl\"}], \"scattermapbox\": [{\"marker\": {\"colorbar\": {\"outlinewidth\": 0, \"ticks\": \"\"}}, \"type\": \"scattermapbox\"}], \"scatterpolar\": [{\"marker\": {\"colorbar\": {\"outlinewidth\": 0, \"ticks\": \"\"}}, \"type\": \"scatterpolar\"}], \"scatterpolargl\": [{\"marker\": {\"colorbar\": {\"outlinewidth\": 0, \"ticks\": \"\"}}, \"type\": \"scatterpolargl\"}], \"scatterternary\": [{\"marker\": {\"colorbar\": {\"outlinewidth\": 0, \"ticks\": \"\"}}, \"type\": \"scatterternary\"}], \"surface\": [{\"colorbar\": {\"outlinewidth\": 0, \"ticks\": \"\"}, \"colorscale\": [[0.0, \"#0d0887\"], [0.1111111111111111, \"#46039f\"], [0.2222222222222222, \"#7201a8\"], [0.3333333333333333, \"#9c179e\"], [0.4444444444444444, \"#bd3786\"], [0.5555555555555556, \"#d8576b\"], [0.6666666666666666, \"#ed7953\"], [0.7777777777777778, \"#fb9f3a\"], [0.8888888888888888, \"#fdca26\"], [1.0, \"#f0f921\"]], \"type\": \"surface\"}], \"table\": [{\"cells\": {\"fill\": {\"color\": \"#EBF0F8\"}, \"line\": {\"color\": \"white\"}}, \"header\": {\"fill\": {\"color\": \"#C8D4E3\"}, \"line\": {\"color\": \"white\"}}, \"type\": \"table\"}]}, \"layout\": {\"annotationdefaults\": {\"arrowcolor\": \"#2a3f5f\", \"arrowhead\": 0, \"arrowwidth\": 1}, \"coloraxis\": {\"colorbar\": {\"outlinewidth\": 0, \"ticks\": \"\"}}, \"colorscale\": {\"diverging\": [[0, \"#8e0152\"], [0.1, \"#c51b7d\"], [0.2, \"#de77ae\"], [0.3, \"#f1b6da\"], [0.4, \"#fde0ef\"], [0.5, \"#f7f7f7\"], [0.6, \"#e6f5d0\"], [0.7, \"#b8e186\"], [0.8, \"#7fbc41\"], [0.9, \"#4d9221\"], [1, \"#276419\"]], \"sequential\": [[0.0, \"#0d0887\"], [0.1111111111111111, \"#46039f\"], [0.2222222222222222, \"#7201a8\"], [0.3333333333333333, \"#9c179e\"], [0.4444444444444444, \"#bd3786\"], [0.5555555555555556, \"#d8576b\"], [0.6666666666666666, \"#ed7953\"], [0.7777777777777778, \"#fb9f3a\"], [0.8888888888888888, \"#fdca26\"], [1.0, \"#f0f921\"]], \"sequentialminus\": [[0.0, \"#0d0887\"], [0.1111111111111111, \"#46039f\"], [0.2222222222222222, \"#7201a8\"], [0.3333333333333333, \"#9c179e\"], [0.4444444444444444, \"#bd3786\"], [0.5555555555555556, \"#d8576b\"], [0.6666666666666666, \"#ed7953\"], [0.7777777777777778, \"#fb9f3a\"], [0.8888888888888888, \"#fdca26\"], [1.0, \"#f0f921\"]]}, \"colorway\": [\"#636efa\", \"#EF553B\", \"#00cc96\", \"#ab63fa\", \"#FFA15A\", \"#19d3f3\", \"#FF6692\", \"#B6E880\", \"#FF97FF\", \"#FECB52\"], \"font\": {\"color\": \"#2a3f5f\"}, \"geo\": {\"bgcolor\": \"white\", \"lakecolor\": \"white\", \"landcolor\": \"#E5ECF6\", \"showlakes\": true, \"showland\": true, \"subunitcolor\": \"white\"}, \"hoverlabel\": {\"align\": \"left\"}, \"hovermode\": \"closest\", \"mapbox\": {\"style\": \"light\"}, \"paper_bgcolor\": \"white\", \"plot_bgcolor\": \"#E5ECF6\", \"polar\": {\"angularaxis\": {\"gridcolor\": \"white\", \"linecolor\": \"white\", \"ticks\": \"\"}, \"bgcolor\": \"#E5ECF6\", \"radialaxis\": {\"gridcolor\": \"white\", \"linecolor\": \"white\", \"ticks\": \"\"}}, \"scene\": {\"xaxis\": {\"backgroundcolor\": \"#E5ECF6\", \"gridcolor\": \"white\", \"gridwidth\": 2, \"linecolor\": \"white\", \"showbackground\": true, \"ticks\": \"\", \"zerolinecolor\": \"white\"}, \"yaxis\": {\"backgroundcolor\": \"#E5ECF6\", \"gridcolor\": \"white\", \"gridwidth\": 2, \"linecolor\": \"white\", \"showbackground\": true, \"ticks\": \"\", \"zerolinecolor\": \"white\"}, \"zaxis\": {\"backgroundcolor\": \"#E5ECF6\", \"gridcolor\": \"white\", \"gridwidth\": 2, \"linecolor\": \"white\", \"showbackground\": true, \"ticks\": \"\", \"zerolinecolor\": \"white\"}}, \"shapedefaults\": {\"line\": {\"color\": \"#2a3f5f\"}}, \"ternary\": {\"aaxis\": {\"gridcolor\": \"white\", \"linecolor\": \"white\", \"ticks\": \"\"}, \"baxis\": {\"gridcolor\": \"white\", \"linecolor\": \"white\", \"ticks\": \"\"}, \"bgcolor\": \"#E5ECF6\", \"caxis\": {\"gridcolor\": \"white\", \"linecolor\": \"white\", \"ticks\": \"\"}}, \"title\": {\"x\": 0.05}, \"xaxis\": {\"automargin\": true, \"gridcolor\": \"white\", \"linecolor\": \"white\", \"ticks\": \"\", \"title\": {\"standoff\": 15}, \"zerolinecolor\": \"white\", \"zerolinewidth\": 2}, \"yaxis\": {\"automargin\": true, \"gridcolor\": \"white\", \"linecolor\": \"white\", \"ticks\": \"\", \"title\": {\"standoff\": 15}, \"zerolinecolor\": \"white\", \"zerolinewidth\": 2}}}, \"title\": {\"text\": \"Comparison of Lexicon\"}, \"xaxis\": {\"anchor\": \"y\", \"domain\": [0.0, 1.0], \"title\": {\"text\": \"Vader score\"}}, \"yaxis\": {\"anchor\": \"x\", \"domain\": [0.0, 1.0], \"title\": {\"text\": \"Customized score\"}}},\n",
       "                        {\"responsive\": true}\n",
       "                    ).then(function(){\n",
       "                            \n",
       "var gd = document.getElementById('e330a1ab-fb1b-41a2-aaed-170d05869b6a');\n",
       "var x = new MutationObserver(function (mutations, observer) {{\n",
       "        var display = window.getComputedStyle(gd).display;\n",
       "        if (!display || display === 'none') {{\n",
       "            console.log([gd, 'removed!']);\n",
       "            Plotly.purge(gd);\n",
       "            observer.disconnect();\n",
       "        }}\n",
       "}});\n",
       "\n",
       "// Listen for the removal of the full notebook cells\n",
       "var notebookContainer = gd.closest('#notebook-container');\n",
       "if (notebookContainer) {{\n",
       "    x.observe(notebookContainer, {childList: true});\n",
       "}}\n",
       "\n",
       "// Listen for the clearing of the current output cell\n",
       "var outputEl = gd.closest('.output');\n",
       "if (outputEl) {{\n",
       "    x.observe(outputEl, {childList: true});\n",
       "}}\n",
       "\n",
       "                        })\n",
       "                };\n",
       "                });\n",
       "            </script>\n",
       "        </div>"
      ]
     },
     "metadata": {},
     "output_type": "display_data"
    }
   ],
   "source": [
    "px.scatter(s_com_filter, x='vader', y='sent', text='index', size='freq',\n",
    "           labels={'vader': 'Vader score', 'sent': 'Customized score'}, \n",
    "           title='Comparison of Lexicon')"
   ]
  },
  {
   "cell_type": "markdown",
   "metadata": {},
   "source": [
    "### New word add-in"
   ]
  },
  {
   "cell_type": "code",
   "execution_count": 41,
   "metadata": {},
   "outputs": [
    {
     "data": {
      "text/plain": [
       "sent     -0.466785\n",
       "freq    232.000000\n",
       "Name: outbreak, dtype: float64"
      ]
     },
     "execution_count": 41,
     "metadata": {},
     "output_type": "execute_result"
    }
   ],
   "source": [
    "s_new.loc['outbreak']"
   ]
  },
  {
   "cell_type": "code",
   "execution_count": 42,
   "metadata": {
    "scrolled": true
   },
   "outputs": [],
   "source": [
    "thres = 150\n",
    "s_new_filter = s_new[s_new['freq']>thres].copy().reset_index()"
   ]
  },
  {
   "cell_type": "code",
   "execution_count": 43,
   "metadata": {
    "scrolled": true
   },
   "outputs": [
    {
     "data": {
      "text/html": [
       "<div>\n",
       "<style scoped>\n",
       "    .dataframe tbody tr th:only-of-type {\n",
       "        vertical-align: middle;\n",
       "    }\n",
       "\n",
       "    .dataframe tbody tr th {\n",
       "        vertical-align: top;\n",
       "    }\n",
       "\n",
       "    .dataframe thead th {\n",
       "        text-align: right;\n",
       "    }\n",
       "</style>\n",
       "<table border=\"1\" class=\"dataframe\">\n",
       "  <thead>\n",
       "    <tr style=\"text-align: right;\">\n",
       "      <th></th>\n",
       "      <th>index</th>\n",
       "      <th>sent</th>\n",
       "      <th>freq</th>\n",
       "    </tr>\n",
       "  </thead>\n",
       "  <tbody>\n",
       "    <tr>\n",
       "      <th>0</th>\n",
       "      <td>standards</td>\n",
       "      <td>-0.082901</td>\n",
       "      <td>192</td>\n",
       "    </tr>\n",
       "    <tr>\n",
       "      <th>1</th>\n",
       "      <td>editing</td>\n",
       "      <td>-0.105010</td>\n",
       "      <td>239</td>\n",
       "    </tr>\n",
       "    <tr>\n",
       "      <th>2</th>\n",
       "      <td>could</td>\n",
       "      <td>-0.083727</td>\n",
       "      <td>325</td>\n",
       "    </tr>\n",
       "    <tr>\n",
       "      <th>3</th>\n",
       "      <td>company</td>\n",
       "      <td>0.310815</td>\n",
       "      <td>219</td>\n",
       "    </tr>\n",
       "    <tr>\n",
       "      <th>4</th>\n",
       "      <td>be</td>\n",
       "      <td>0.002348</td>\n",
       "      <td>702</td>\n",
       "    </tr>\n",
       "    <tr>\n",
       "      <th>5</th>\n",
       "      <td>covid19</td>\n",
       "      <td>0.037478</td>\n",
       "      <td>394</td>\n",
       "    </tr>\n",
       "    <tr>\n",
       "      <th>6</th>\n",
       "      <td>down</td>\n",
       "      <td>-0.271757</td>\n",
       "      <td>243</td>\n",
       "    </tr>\n",
       "    <tr>\n",
       "      <th>7</th>\n",
       "      <td>even</td>\n",
       "      <td>-0.246702</td>\n",
       "      <td>214</td>\n",
       "    </tr>\n",
       "    <tr>\n",
       "      <th>8</th>\n",
       "      <td>thomson</td>\n",
       "      <td>-0.102121</td>\n",
       "      <td>206</td>\n",
       "    </tr>\n",
       "    <tr>\n",
       "      <th>9</th>\n",
       "      <td>virus</td>\n",
       "      <td>-0.379243</td>\n",
       "      <td>257</td>\n",
       "    </tr>\n",
       "    <tr>\n",
       "      <th>10</th>\n",
       "      <td>do</td>\n",
       "      <td>-0.086250</td>\n",
       "      <td>427</td>\n",
       "    </tr>\n",
       "    <tr>\n",
       "      <th>11</th>\n",
       "      <td>million</td>\n",
       "      <td>-0.100920</td>\n",
       "      <td>262</td>\n",
       "    </tr>\n",
       "    <tr>\n",
       "      <th>12</th>\n",
       "      <td>out</td>\n",
       "      <td>-0.185112</td>\n",
       "      <td>340</td>\n",
       "    </tr>\n",
       "    <tr>\n",
       "      <th>13</th>\n",
       "      <td>for</td>\n",
       "      <td>0.009489</td>\n",
       "      <td>670</td>\n",
       "    </tr>\n",
       "    <tr>\n",
       "      <th>14</th>\n",
       "      <td>up</td>\n",
       "      <td>0.027470</td>\n",
       "      <td>380</td>\n",
       "    </tr>\n",
       "    <tr>\n",
       "      <th>15</th>\n",
       "      <td>see</td>\n",
       "      <td>-0.003756</td>\n",
       "      <td>308</td>\n",
       "    </tr>\n",
       "    <tr>\n",
       "      <th>16</th>\n",
       "      <td>continue</td>\n",
       "      <td>-0.194605</td>\n",
       "      <td>221</td>\n",
       "    </tr>\n",
       "    <tr>\n",
       "      <th>17</th>\n",
       "      <td>provide</td>\n",
       "      <td>0.362091</td>\n",
       "      <td>191</td>\n",
       "    </tr>\n",
       "    <tr>\n",
       "      <th>18</th>\n",
       "      <td>staff</td>\n",
       "      <td>-0.211366</td>\n",
       "      <td>169</td>\n",
       "    </tr>\n",
       "    <tr>\n",
       "      <th>19</th>\n",
       "      <td>tell</td>\n",
       "      <td>-0.095222</td>\n",
       "      <td>270</td>\n",
       "    </tr>\n",
       "    <tr>\n",
       "      <th>20</th>\n",
       "      <td>about</td>\n",
       "      <td>0.086414</td>\n",
       "      <td>400</td>\n",
       "    </tr>\n",
       "    <tr>\n",
       "      <th>21</th>\n",
       "      <td>measure</td>\n",
       "      <td>-0.231540</td>\n",
       "      <td>196</td>\n",
       "    </tr>\n",
       "    <tr>\n",
       "      <th>22</th>\n",
       "      <td>remain</td>\n",
       "      <td>-0.290615</td>\n",
       "      <td>186</td>\n",
       "    </tr>\n",
       "    <tr>\n",
       "      <th>23</th>\n",
       "      <td>all</td>\n",
       "      <td>-0.100262</td>\n",
       "      <td>413</td>\n",
       "    </tr>\n",
       "    <tr>\n",
       "      <th>24</th>\n",
       "      <td>which</td>\n",
       "      <td>-0.084152</td>\n",
       "      <td>451</td>\n",
       "    </tr>\n",
       "    <tr>\n",
       "      <th>25</th>\n",
       "      <td>city</td>\n",
       "      <td>-0.324063</td>\n",
       "      <td>173</td>\n",
       "    </tr>\n",
       "    <tr>\n",
       "      <th>26</th>\n",
       "      <td>put</td>\n",
       "      <td>0.174928</td>\n",
       "      <td>171</td>\n",
       "    </tr>\n",
       "    <tr>\n",
       "      <th>27</th>\n",
       "      <td>back</td>\n",
       "      <td>-0.146729</td>\n",
       "      <td>242</td>\n",
       "    </tr>\n",
       "    <tr>\n",
       "      <th>28</th>\n",
       "      <td>2</td>\n",
       "      <td>-0.031104</td>\n",
       "      <td>151</td>\n",
       "    </tr>\n",
       "    <tr>\n",
       "      <th>29</th>\n",
       "      <td>datum</td>\n",
       "      <td>-0.293604</td>\n",
       "      <td>154</td>\n",
       "    </tr>\n",
       "    <tr>\n",
       "      <th>...</th>\n",
       "      <td>...</td>\n",
       "      <td>...</td>\n",
       "      <td>...</td>\n",
       "    </tr>\n",
       "    <tr>\n",
       "      <th>188</th>\n",
       "      <td>than</td>\n",
       "      <td>-0.218703</td>\n",
       "      <td>434</td>\n",
       "    </tr>\n",
       "    <tr>\n",
       "      <th>189</th>\n",
       "      <td>include</td>\n",
       "      <td>0.117769</td>\n",
       "      <td>362</td>\n",
       "    </tr>\n",
       "    <tr>\n",
       "      <th>190</th>\n",
       "      <td>first</td>\n",
       "      <td>0.090431</td>\n",
       "      <td>316</td>\n",
       "    </tr>\n",
       "    <tr>\n",
       "      <th>191</th>\n",
       "      <td>test</td>\n",
       "      <td>-0.589918</td>\n",
       "      <td>199</td>\n",
       "    </tr>\n",
       "    <tr>\n",
       "      <th>192</th>\n",
       "      <td>end</td>\n",
       "      <td>0.182143</td>\n",
       "      <td>189</td>\n",
       "    </tr>\n",
       "    <tr>\n",
       "      <th>193</th>\n",
       "      <td>change</td>\n",
       "      <td>0.320294</td>\n",
       "      <td>155</td>\n",
       "    </tr>\n",
       "    <tr>\n",
       "      <th>194</th>\n",
       "      <td>principles</td>\n",
       "      <td>-0.104590</td>\n",
       "      <td>203</td>\n",
       "    </tr>\n",
       "    <tr>\n",
       "      <th>195</th>\n",
       "      <td>people</td>\n",
       "      <td>-0.216849</td>\n",
       "      <td>410</td>\n",
       "    </tr>\n",
       "    <tr>\n",
       "      <th>196</th>\n",
       "      <td>through</td>\n",
       "      <td>0.304033</td>\n",
       "      <td>200</td>\n",
       "    </tr>\n",
       "    <tr>\n",
       "      <th>197</th>\n",
       "      <td>accord</td>\n",
       "      <td>-0.433478</td>\n",
       "      <td>260</td>\n",
       "    </tr>\n",
       "    <tr>\n",
       "      <th>198</th>\n",
       "      <td>state</td>\n",
       "      <td>-0.318492</td>\n",
       "      <td>320</td>\n",
       "    </tr>\n",
       "    <tr>\n",
       "      <th>199</th>\n",
       "      <td>part</td>\n",
       "      <td>0.144403</td>\n",
       "      <td>186</td>\n",
       "    </tr>\n",
       "    <tr>\n",
       "      <th>200</th>\n",
       "      <td>most</td>\n",
       "      <td>-0.233656</td>\n",
       "      <td>274</td>\n",
       "    </tr>\n",
       "    <tr>\n",
       "      <th>201</th>\n",
       "      <td>very</td>\n",
       "      <td>-0.072749</td>\n",
       "      <td>187</td>\n",
       "    </tr>\n",
       "    <tr>\n",
       "      <th>202</th>\n",
       "      <td>add</td>\n",
       "      <td>-0.028013</td>\n",
       "      <td>251</td>\n",
       "    </tr>\n",
       "    <tr>\n",
       "      <th>203</th>\n",
       "      <td>at</td>\n",
       "      <td>0.013318</td>\n",
       "      <td>605</td>\n",
       "    </tr>\n",
       "    <tr>\n",
       "      <th>204</th>\n",
       "      <td>here</td>\n",
       "      <td>-0.038006</td>\n",
       "      <td>174</td>\n",
       "    </tr>\n",
       "    <tr>\n",
       "      <th>205</th>\n",
       "      <td>country</td>\n",
       "      <td>-0.229753</td>\n",
       "      <td>321</td>\n",
       "    </tr>\n",
       "    <tr>\n",
       "      <th>206</th>\n",
       "      <td>2020</td>\n",
       "      <td>0.403471</td>\n",
       "      <td>224</td>\n",
       "    </tr>\n",
       "    <tr>\n",
       "      <th>207</th>\n",
       "      <td>until</td>\n",
       "      <td>-0.640333</td>\n",
       "      <td>154</td>\n",
       "    </tr>\n",
       "    <tr>\n",
       "      <th>208</th>\n",
       "      <td>an</td>\n",
       "      <td>-0.027557</td>\n",
       "      <td>521</td>\n",
       "    </tr>\n",
       "    <tr>\n",
       "      <th>209</th>\n",
       "      <td>large</td>\n",
       "      <td>-0.428423</td>\n",
       "      <td>190</td>\n",
       "    </tr>\n",
       "    <tr>\n",
       "      <th>210</th>\n",
       "      <td>order</td>\n",
       "      <td>-0.295892</td>\n",
       "      <td>170</td>\n",
       "    </tr>\n",
       "    <tr>\n",
       "      <th>211</th>\n",
       "      <td>also</td>\n",
       "      <td>0.032612</td>\n",
       "      <td>449</td>\n",
       "    </tr>\n",
       "    <tr>\n",
       "      <th>212</th>\n",
       "      <td>one</td>\n",
       "      <td>-0.068032</td>\n",
       "      <td>366</td>\n",
       "    </tr>\n",
       "    <tr>\n",
       "      <th>213</th>\n",
       "      <td>economic</td>\n",
       "      <td>0.180248</td>\n",
       "      <td>167</td>\n",
       "    </tr>\n",
       "    <tr>\n",
       "      <th>214</th>\n",
       "      <td>such</td>\n",
       "      <td>0.176399</td>\n",
       "      <td>204</td>\n",
       "    </tr>\n",
       "    <tr>\n",
       "      <th>215</th>\n",
       "      <td>1</td>\n",
       "      <td>0.071832</td>\n",
       "      <td>197</td>\n",
       "    </tr>\n",
       "    <tr>\n",
       "      <th>216</th>\n",
       "      <td>when</td>\n",
       "      <td>0.082004</td>\n",
       "      <td>313</td>\n",
       "    </tr>\n",
       "    <tr>\n",
       "      <th>217</th>\n",
       "      <td>more</td>\n",
       "      <td>-0.014756</td>\n",
       "      <td>521</td>\n",
       "    </tr>\n",
       "  </tbody>\n",
       "</table>\n",
       "<p>218 rows × 3 columns</p>\n",
       "</div>"
      ],
      "text/plain": [
       "         index      sent  freq\n",
       "0    standards -0.082901   192\n",
       "1      editing -0.105010   239\n",
       "2        could -0.083727   325\n",
       "3      company  0.310815   219\n",
       "4           be  0.002348   702\n",
       "..         ...       ...   ...\n",
       "213   economic  0.180248   167\n",
       "214       such  0.176399   204\n",
       "215          1  0.071832   197\n",
       "216       when  0.082004   313\n",
       "217       more -0.014756   521\n",
       "\n",
       "[218 rows x 3 columns]"
      ]
     },
     "execution_count": 43,
     "metadata": {},
     "output_type": "execute_result"
    }
   ],
   "source": [
    "s_new_filter"
   ]
  },
  {
   "cell_type": "code",
   "execution_count": 46,
   "metadata": {},
   "outputs": [
    {
     "data": {
      "application/vnd.plotly.v1+json": {
       "config": {
        "plotlyServerURL": "https://plot.ly"
       },
       "data": [
        {
         "hovertemplate": "freq=%{x}<br>sent=%{y}<br>index=%{text}<extra></extra>",
         "legendgroup": "",
         "marker": {
          "color": "#636efa",
          "symbol": "circle"
         },
         "mode": "markers+text",
         "name": "",
         "orientation": "v",
         "showlegend": false,
         "text": [
          "standards",
          "editing",
          "could",
          "company",
          "be",
          "covid19",
          "down",
          "even",
          "thomson",
          "virus",
          "do",
          "million",
          "out",
          "for",
          "up",
          "see",
          "continue",
          "provide",
          "staff",
          "tell",
          "about",
          "measure",
          "remain",
          "all",
          "which",
          "city",
          "put",
          "back",
          "2",
          "datum",
          "report",
          "news",
          "another",
          "read",
          "service",
          "any",
          "and",
          "both",
          "where",
          "start",
          "far",
          "high",
          "case",
          "under",
          "look",
          "reuters",
          "close",
          "only",
          "monday",
          "into",
          "announce",
          "economy",
          "big",
          "go",
          "get",
          "thursday",
          "keep",
          "across",
          "march",
          "over",
          "official",
          "return",
          "find",
          "way",
          "work",
          "hit",
          "while",
          "home",
          "tuesday",
          "begin",
          "can",
          "to",
          "just",
          "s",
          "between",
          "time",
          "what",
          "likely",
          "spread",
          "follow",
          "group",
          "from",
          "total",
          "call",
          "president",
          "who",
          "should",
          "us",
          "however",
          "face",
          "the",
          "may",
          "late",
          "many",
          "show",
          "friday",
          "move",
          "day",
          "market",
          "states",
          "ask",
          "say",
          "lead",
          "know",
          "will",
          "public",
          "week",
          "some",
          "with",
          "still",
          "need",
          "but",
          "rise",
          "would",
          "if",
          "travel",
          "national",
          "government",
          "have",
          "china",
          "that",
          "plan",
          "so",
          "rate",
          "due",
          "chief",
          "these",
          "3",
          "not",
          "by",
          "point",
          "10",
          "april",
          "there",
          "last",
          "this",
          "make",
          "month",
          "since",
          "how",
          "business",
          "during",
          "much",
          "social",
          "take",
          "-pron-",
          "early",
          "coronavirus",
          "off",
          "confirm",
          "because",
          "a",
          "of",
          "those",
          "around",
          "after",
          "now",
          "on",
          "place",
          "outbreak",
          "global",
          "two",
          "other",
          "year",
          "new",
          "min",
          "give",
          "world",
          "use",
          "bring",
          "or",
          "expect",
          "infection",
          "in",
          "fall",
          "against",
          "come",
          "as",
          "next",
          "pandemic",
          "right",
          "three",
          "record",
          "before",
          "second",
          "control",
          "disease",
          "health",
          "than",
          "include",
          "first",
          "test",
          "end",
          "change",
          "principles",
          "people",
          "through",
          "accord",
          "state",
          "part",
          "most",
          "very",
          "add",
          "at",
          "here",
          "country",
          "2020",
          "until",
          "an",
          "large",
          "order",
          "also",
          "one",
          "economic",
          "such",
          "1",
          "when",
          "more"
         ],
         "type": "scatter",
         "x": [
          192,
          239,
          325,
          219,
          702,
          394,
          243,
          214,
          206,
          257,
          427,
          262,
          340,
          670,
          380,
          308,
          221,
          191,
          169,
          270,
          400,
          196,
          186,
          413,
          451,
          173,
          171,
          242,
          151,
          154,
          429,
          221,
          165,
          298,
          168,
          215,
          704,
          166,
          249,
          201,
          157,
          258,
          332,
          204,
          179,
          262,
          221,
          247,
          152,
          267,
          192,
          188,
          183,
          314,
          297,
          157,
          192,
          191,
          205,
          355,
          234,
          167,
          164,
          169,
          311,
          154,
          336,
          224,
          155,
          172,
          353,
          710,
          225,
          199,
          171,
          326,
          273,
          163,
          252,
          207,
          170,
          613,
          164,
          211,
          205,
          412,
          183,
          278,
          151,
          171,
          714,
          353,
          210,
          276,
          243,
          154,
          186,
          339,
          169,
          157,
          155,
          629,
          171,
          218,
          501,
          241,
          360,
          347,
          636,
          228,
          263,
          496,
          184,
          368,
          311,
          162,
          170,
          292,
          680,
          170,
          638,
          228,
          295,
          169,
          217,
          154,
          201,
          165,
          537,
          641,
          164,
          157,
          151,
          359,
          322,
          549,
          346,
          312,
          295,
          240,
          238,
          264,
          180,
          162,
          366,
          707,
          181,
          594,
          170,
          165,
          247,
          703,
          706,
          261,
          215,
          405,
          308,
          690,
          193,
          232,
          184,
          294,
          419,
          355,
          465,
          204,
          230,
          254,
          228,
          156,
          408,
          195,
          173,
          706,
          181,
          160,
          324,
          619,
          167,
          437,
          173,
          195,
          158,
          236,
          164,
          160,
          164,
          342,
          434,
          362,
          316,
          199,
          189,
          155,
          203,
          410,
          200,
          260,
          320,
          186,
          274,
          187,
          251,
          605,
          174,
          321,
          224,
          154,
          521,
          190,
          170,
          449,
          366,
          167,
          204,
          197,
          313,
          521
         ],
         "xaxis": "x",
         "y": [
          -0.08290130153308328,
          -0.10500979228728691,
          -0.08372740649538879,
          0.31081491408599815,
          0.0023479279489339658,
          0.037477775239933786,
          -0.2717574056480345,
          -0.24670223719250317,
          -0.10212100838139548,
          -0.37924332061817434,
          -0.0862496172879681,
          -0.10091980703576153,
          -0.1851118982561094,
          0.009489168167906736,
          0.027470186088342174,
          -0.003756058582113808,
          -0.19460529111308444,
          0.3620907867190033,
          -0.21136605262829078,
          -0.09522178592112407,
          0.0864142915817373,
          -0.23153998945282583,
          -0.2906154242824315,
          -0.10026169579121236,
          -0.0841515621668768,
          -0.3240633583499717,
          0.17492780776901662,
          -0.14672934306705598,
          -0.031104228797346645,
          -0.2936041508652629,
          -0.4188386357612268,
          -0.15663041404976763,
          -0.17418282772391902,
          -0.11142778463417669,
          0.2531543552029132,
          -0.28786030968601084,
          0.013353768984346495,
          -0.0650268839751551,
          -0.0889955465060257,
          -0.05919596366436175,
          -0.5935248846882242,
          -0.03056731603277052,
          -0.6982759229540314,
          -0.16288043439493882,
          0.43807669369692537,
          -0.10846701267114456,
          -0.14459487053842301,
          -0.11163802325578565,
          -0.39347280972213894,
          -0.018308504838495887,
          0.04246388203177265,
          -0.1949665627933146,
          -0.10230773231060963,
          -0.07209936850026977,
          0.06518775602337379,
          -0.09414012005038264,
          -0.220090767966993,
          -0.030567316032770853,
          -0.18179828575669443,
          -0.12153909423849729,
          -0.6747202299631408,
          -0.3122289007029684,
          -0.13646474445517298,
          0.43337080265951267,
          0.3337166783726825,
          -0.33284818790570414,
          -0.020813581084819566,
          -0.1079703650324284,
          -0.5427525593148008,
          -0.2616278874091791,
          0.1992157264873058,
          -0.00017823723422995697,
          0.13439427989870323,
          0.11428961660302805,
          -0.3122289007029684,
          0.0447329461211059,
          -0.20377719247546933,
          -0.49191288253539156,
          -0.45132513796089846,
          -0.09368213973553119,
          -0.026577285801569595,
          0.026262357910102202,
          -0.48464492850752006,
          -0.20706126767665944,
          -0.08290130153308328,
          -0.10943607206725392,
          0.07807395966551822,
          -0.2797630994533914,
          0.03261158558876076,
          -0.39347280972213894,
          0,
          -0.1746165104195494,
          -0.4528962301929398,
          -0.10650121687395686,
          -0.4373920436569747,
          -0.5633718465175366,
          -0.141741801556017,
          -0.19053196572544884,
          0.30227515253786374,
          -0.3524446508881962,
          -0.38468798016640626,
          -0.05333084421196366,
          -0.13169146570251544,
          -0.1776838232475999,
          0.03643568202716435,
          -0.25747144840055813,
          -0.3638036869994855,
          -0.049305536879125755,
          0.023451216190096824,
          -0.2099500515825503,
          0.1454070797341055,
          -0.1438448517527956,
          -0.23153998945282583,
          -0.17130060379756096,
          -0.12561241962613312,
          -0.1406601356852757,
          -0.39347280972213894,
          -0.0761216145477045,
          -0.021765185289310825,
          -0.39120266118760005,
          0.005378435130402204,
          0.1989328010362743,
          -0.04002759805121059,
          -0.12153909423849729,
          -0.11878806086660743,
          0.13025005515267685,
          0.11108320103025626,
          0.3070484312905213,
          -0.09553423710316905,
          0.011746447124799317,
          0.008514034009700522,
          -0.17418282772391902,
          -0.0883410248289016,
          -0.2822939454736765,
          -0.39938027685283195,
          -0.013090567892094507,
          0.04391114084269432,
          -0.023477881062282546,
          -0.3224226688925115,
          0.01521984287689171,
          0.22366682235147028,
          0.09416947858819413,
          0.06576379290566114,
          0.03261158558876098,
          -0.07575645113302065,
          0.018893949359961852,
          -0.08517145006762261,
          -0.13081273102382646,
          -0.0904485071684662,
          -0.9262387607041904,
          -0.023179774039654655,
          0.00778272393489113,
          0.010632678869985826,
          -0.07274893006906524,
          -0.22975267887873008,
          -0.30805352929248786,
          -0.13337355188550004,
          -0.012339802273505347,
          0.14440299157687764,
          -0.466785342353607,
          0.03261158558876076,
          -0.24525686541469516,
          0.07145141890502504,
          0.010632678869985757,
          0.056517106442315446,
          -0.11310022559263277,
          0.2670122914276052,
          -0.006303830660912224,
          0.42109835716250743,
          -0.0051287423940860055,
          -0.039018070550493666,
          0.10671955774248265,
          -0.38233226647394725,
          0.0052126114006463805,
          -0.4373920436569747,
          -0.05126989839194107,
          -0.07658770637623091,
          0.03572200800315341,
          0.10322915280271427,
          0.19748622877899497,
          -0.066918009758272,
          -0.25507048686302003,
          -0.30386065103245197,
          -0.14813640675776307,
          -0.3728535225194034,
          -0.5371565738106798,
          -0.5174347513305109,
          -0.3573493359834381,
          -0.21870284269214518,
          0.11776939392906782,
          0.09043115647758726,
          -0.5899180277572309,
          0.18214331955972463,
          0.3202936580405418,
          -0.10458953592472398,
          -0.2168492740428224,
          0.30403313716876146,
          -0.4334781443358384,
          -0.31849231330051586,
          0.14440299157687764,
          -0.23365639235920355,
          -0.07274893006906558,
          -0.028013036227673593,
          0.01331838265408214,
          -0.03800598162519253,
          -0.22975267887873008,
          0.40347116451944987,
          -0.6403328876536647,
          -0.027556935877691868,
          -0.42842337367421424,
          -0.2958924813832753,
          0.032611585588760816,
          -0.06803194019092662,
          0.18024758439482547,
          0.17639947838047254,
          0.07183229874204211,
          0.08200434091833753,
          -0.01475610323412807
         ],
         "yaxis": "y"
        }
       ],
       "layout": {
        "legend": {
         "tracegroupgap": 0
        },
        "margin": {
         "t": 60
        },
        "template": {
         "data": {
          "bar": [
           {
            "error_x": {
             "color": "#2a3f5f"
            },
            "error_y": {
             "color": "#2a3f5f"
            },
            "marker": {
             "line": {
              "color": "#E5ECF6",
              "width": 0.5
             }
            },
            "type": "bar"
           }
          ],
          "barpolar": [
           {
            "marker": {
             "line": {
              "color": "#E5ECF6",
              "width": 0.5
             }
            },
            "type": "barpolar"
           }
          ],
          "carpet": [
           {
            "aaxis": {
             "endlinecolor": "#2a3f5f",
             "gridcolor": "white",
             "linecolor": "white",
             "minorgridcolor": "white",
             "startlinecolor": "#2a3f5f"
            },
            "baxis": {
             "endlinecolor": "#2a3f5f",
             "gridcolor": "white",
             "linecolor": "white",
             "minorgridcolor": "white",
             "startlinecolor": "#2a3f5f"
            },
            "type": "carpet"
           }
          ],
          "choropleth": [
           {
            "colorbar": {
             "outlinewidth": 0,
             "ticks": ""
            },
            "type": "choropleth"
           }
          ],
          "contour": [
           {
            "colorbar": {
             "outlinewidth": 0,
             "ticks": ""
            },
            "colorscale": [
             [
              0,
              "#0d0887"
             ],
             [
              0.1111111111111111,
              "#46039f"
             ],
             [
              0.2222222222222222,
              "#7201a8"
             ],
             [
              0.3333333333333333,
              "#9c179e"
             ],
             [
              0.4444444444444444,
              "#bd3786"
             ],
             [
              0.5555555555555556,
              "#d8576b"
             ],
             [
              0.6666666666666666,
              "#ed7953"
             ],
             [
              0.7777777777777778,
              "#fb9f3a"
             ],
             [
              0.8888888888888888,
              "#fdca26"
             ],
             [
              1,
              "#f0f921"
             ]
            ],
            "type": "contour"
           }
          ],
          "contourcarpet": [
           {
            "colorbar": {
             "outlinewidth": 0,
             "ticks": ""
            },
            "type": "contourcarpet"
           }
          ],
          "heatmap": [
           {
            "colorbar": {
             "outlinewidth": 0,
             "ticks": ""
            },
            "colorscale": [
             [
              0,
              "#0d0887"
             ],
             [
              0.1111111111111111,
              "#46039f"
             ],
             [
              0.2222222222222222,
              "#7201a8"
             ],
             [
              0.3333333333333333,
              "#9c179e"
             ],
             [
              0.4444444444444444,
              "#bd3786"
             ],
             [
              0.5555555555555556,
              "#d8576b"
             ],
             [
              0.6666666666666666,
              "#ed7953"
             ],
             [
              0.7777777777777778,
              "#fb9f3a"
             ],
             [
              0.8888888888888888,
              "#fdca26"
             ],
             [
              1,
              "#f0f921"
             ]
            ],
            "type": "heatmap"
           }
          ],
          "heatmapgl": [
           {
            "colorbar": {
             "outlinewidth": 0,
             "ticks": ""
            },
            "colorscale": [
             [
              0,
              "#0d0887"
             ],
             [
              0.1111111111111111,
              "#46039f"
             ],
             [
              0.2222222222222222,
              "#7201a8"
             ],
             [
              0.3333333333333333,
              "#9c179e"
             ],
             [
              0.4444444444444444,
              "#bd3786"
             ],
             [
              0.5555555555555556,
              "#d8576b"
             ],
             [
              0.6666666666666666,
              "#ed7953"
             ],
             [
              0.7777777777777778,
              "#fb9f3a"
             ],
             [
              0.8888888888888888,
              "#fdca26"
             ],
             [
              1,
              "#f0f921"
             ]
            ],
            "type": "heatmapgl"
           }
          ],
          "histogram": [
           {
            "marker": {
             "colorbar": {
              "outlinewidth": 0,
              "ticks": ""
             }
            },
            "type": "histogram"
           }
          ],
          "histogram2d": [
           {
            "colorbar": {
             "outlinewidth": 0,
             "ticks": ""
            },
            "colorscale": [
             [
              0,
              "#0d0887"
             ],
             [
              0.1111111111111111,
              "#46039f"
             ],
             [
              0.2222222222222222,
              "#7201a8"
             ],
             [
              0.3333333333333333,
              "#9c179e"
             ],
             [
              0.4444444444444444,
              "#bd3786"
             ],
             [
              0.5555555555555556,
              "#d8576b"
             ],
             [
              0.6666666666666666,
              "#ed7953"
             ],
             [
              0.7777777777777778,
              "#fb9f3a"
             ],
             [
              0.8888888888888888,
              "#fdca26"
             ],
             [
              1,
              "#f0f921"
             ]
            ],
            "type": "histogram2d"
           }
          ],
          "histogram2dcontour": [
           {
            "colorbar": {
             "outlinewidth": 0,
             "ticks": ""
            },
            "colorscale": [
             [
              0,
              "#0d0887"
             ],
             [
              0.1111111111111111,
              "#46039f"
             ],
             [
              0.2222222222222222,
              "#7201a8"
             ],
             [
              0.3333333333333333,
              "#9c179e"
             ],
             [
              0.4444444444444444,
              "#bd3786"
             ],
             [
              0.5555555555555556,
              "#d8576b"
             ],
             [
              0.6666666666666666,
              "#ed7953"
             ],
             [
              0.7777777777777778,
              "#fb9f3a"
             ],
             [
              0.8888888888888888,
              "#fdca26"
             ],
             [
              1,
              "#f0f921"
             ]
            ],
            "type": "histogram2dcontour"
           }
          ],
          "mesh3d": [
           {
            "colorbar": {
             "outlinewidth": 0,
             "ticks": ""
            },
            "type": "mesh3d"
           }
          ],
          "parcoords": [
           {
            "line": {
             "colorbar": {
              "outlinewidth": 0,
              "ticks": ""
             }
            },
            "type": "parcoords"
           }
          ],
          "pie": [
           {
            "automargin": true,
            "type": "pie"
           }
          ],
          "scatter": [
           {
            "marker": {
             "colorbar": {
              "outlinewidth": 0,
              "ticks": ""
             }
            },
            "type": "scatter"
           }
          ],
          "scatter3d": [
           {
            "line": {
             "colorbar": {
              "outlinewidth": 0,
              "ticks": ""
             }
            },
            "marker": {
             "colorbar": {
              "outlinewidth": 0,
              "ticks": ""
             }
            },
            "type": "scatter3d"
           }
          ],
          "scattercarpet": [
           {
            "marker": {
             "colorbar": {
              "outlinewidth": 0,
              "ticks": ""
             }
            },
            "type": "scattercarpet"
           }
          ],
          "scattergeo": [
           {
            "marker": {
             "colorbar": {
              "outlinewidth": 0,
              "ticks": ""
             }
            },
            "type": "scattergeo"
           }
          ],
          "scattergl": [
           {
            "marker": {
             "colorbar": {
              "outlinewidth": 0,
              "ticks": ""
             }
            },
            "type": "scattergl"
           }
          ],
          "scattermapbox": [
           {
            "marker": {
             "colorbar": {
              "outlinewidth": 0,
              "ticks": ""
             }
            },
            "type": "scattermapbox"
           }
          ],
          "scatterpolar": [
           {
            "marker": {
             "colorbar": {
              "outlinewidth": 0,
              "ticks": ""
             }
            },
            "type": "scatterpolar"
           }
          ],
          "scatterpolargl": [
           {
            "marker": {
             "colorbar": {
              "outlinewidth": 0,
              "ticks": ""
             }
            },
            "type": "scatterpolargl"
           }
          ],
          "scatterternary": [
           {
            "marker": {
             "colorbar": {
              "outlinewidth": 0,
              "ticks": ""
             }
            },
            "type": "scatterternary"
           }
          ],
          "surface": [
           {
            "colorbar": {
             "outlinewidth": 0,
             "ticks": ""
            },
            "colorscale": [
             [
              0,
              "#0d0887"
             ],
             [
              0.1111111111111111,
              "#46039f"
             ],
             [
              0.2222222222222222,
              "#7201a8"
             ],
             [
              0.3333333333333333,
              "#9c179e"
             ],
             [
              0.4444444444444444,
              "#bd3786"
             ],
             [
              0.5555555555555556,
              "#d8576b"
             ],
             [
              0.6666666666666666,
              "#ed7953"
             ],
             [
              0.7777777777777778,
              "#fb9f3a"
             ],
             [
              0.8888888888888888,
              "#fdca26"
             ],
             [
              1,
              "#f0f921"
             ]
            ],
            "type": "surface"
           }
          ],
          "table": [
           {
            "cells": {
             "fill": {
              "color": "#EBF0F8"
             },
             "line": {
              "color": "white"
             }
            },
            "header": {
             "fill": {
              "color": "#C8D4E3"
             },
             "line": {
              "color": "white"
             }
            },
            "type": "table"
           }
          ]
         },
         "layout": {
          "annotationdefaults": {
           "arrowcolor": "#2a3f5f",
           "arrowhead": 0,
           "arrowwidth": 1
          },
          "coloraxis": {
           "colorbar": {
            "outlinewidth": 0,
            "ticks": ""
           }
          },
          "colorscale": {
           "diverging": [
            [
             0,
             "#8e0152"
            ],
            [
             0.1,
             "#c51b7d"
            ],
            [
             0.2,
             "#de77ae"
            ],
            [
             0.3,
             "#f1b6da"
            ],
            [
             0.4,
             "#fde0ef"
            ],
            [
             0.5,
             "#f7f7f7"
            ],
            [
             0.6,
             "#e6f5d0"
            ],
            [
             0.7,
             "#b8e186"
            ],
            [
             0.8,
             "#7fbc41"
            ],
            [
             0.9,
             "#4d9221"
            ],
            [
             1,
             "#276419"
            ]
           ],
           "sequential": [
            [
             0,
             "#0d0887"
            ],
            [
             0.1111111111111111,
             "#46039f"
            ],
            [
             0.2222222222222222,
             "#7201a8"
            ],
            [
             0.3333333333333333,
             "#9c179e"
            ],
            [
             0.4444444444444444,
             "#bd3786"
            ],
            [
             0.5555555555555556,
             "#d8576b"
            ],
            [
             0.6666666666666666,
             "#ed7953"
            ],
            [
             0.7777777777777778,
             "#fb9f3a"
            ],
            [
             0.8888888888888888,
             "#fdca26"
            ],
            [
             1,
             "#f0f921"
            ]
           ],
           "sequentialminus": [
            [
             0,
             "#0d0887"
            ],
            [
             0.1111111111111111,
             "#46039f"
            ],
            [
             0.2222222222222222,
             "#7201a8"
            ],
            [
             0.3333333333333333,
             "#9c179e"
            ],
            [
             0.4444444444444444,
             "#bd3786"
            ],
            [
             0.5555555555555556,
             "#d8576b"
            ],
            [
             0.6666666666666666,
             "#ed7953"
            ],
            [
             0.7777777777777778,
             "#fb9f3a"
            ],
            [
             0.8888888888888888,
             "#fdca26"
            ],
            [
             1,
             "#f0f921"
            ]
           ]
          },
          "colorway": [
           "#636efa",
           "#EF553B",
           "#00cc96",
           "#ab63fa",
           "#FFA15A",
           "#19d3f3",
           "#FF6692",
           "#B6E880",
           "#FF97FF",
           "#FECB52"
          ],
          "font": {
           "color": "#2a3f5f"
          },
          "geo": {
           "bgcolor": "white",
           "lakecolor": "white",
           "landcolor": "#E5ECF6",
           "showlakes": true,
           "showland": true,
           "subunitcolor": "white"
          },
          "hoverlabel": {
           "align": "left"
          },
          "hovermode": "closest",
          "mapbox": {
           "style": "light"
          },
          "paper_bgcolor": "white",
          "plot_bgcolor": "#E5ECF6",
          "polar": {
           "angularaxis": {
            "gridcolor": "white",
            "linecolor": "white",
            "ticks": ""
           },
           "bgcolor": "#E5ECF6",
           "radialaxis": {
            "gridcolor": "white",
            "linecolor": "white",
            "ticks": ""
           }
          },
          "scene": {
           "xaxis": {
            "backgroundcolor": "#E5ECF6",
            "gridcolor": "white",
            "gridwidth": 2,
            "linecolor": "white",
            "showbackground": true,
            "ticks": "",
            "zerolinecolor": "white"
           },
           "yaxis": {
            "backgroundcolor": "#E5ECF6",
            "gridcolor": "white",
            "gridwidth": 2,
            "linecolor": "white",
            "showbackground": true,
            "ticks": "",
            "zerolinecolor": "white"
           },
           "zaxis": {
            "backgroundcolor": "#E5ECF6",
            "gridcolor": "white",
            "gridwidth": 2,
            "linecolor": "white",
            "showbackground": true,
            "ticks": "",
            "zerolinecolor": "white"
           }
          },
          "shapedefaults": {
           "line": {
            "color": "#2a3f5f"
           }
          },
          "ternary": {
           "aaxis": {
            "gridcolor": "white",
            "linecolor": "white",
            "ticks": ""
           },
           "baxis": {
            "gridcolor": "white",
            "linecolor": "white",
            "ticks": ""
           },
           "bgcolor": "#E5ECF6",
           "caxis": {
            "gridcolor": "white",
            "linecolor": "white",
            "ticks": ""
           }
          },
          "title": {
           "x": 0.05
          },
          "xaxis": {
           "automargin": true,
           "gridcolor": "white",
           "linecolor": "white",
           "ticks": "",
           "title": {
            "standoff": 15
           },
           "zerolinecolor": "white",
           "zerolinewidth": 2
          },
          "yaxis": {
           "automargin": true,
           "gridcolor": "white",
           "linecolor": "white",
           "ticks": "",
           "title": {
            "standoff": 15
           },
           "zerolinecolor": "white",
           "zerolinewidth": 2
          }
         }
        },
        "xaxis": {
         "anchor": "y",
         "domain": [
          0,
          1
         ],
         "title": {
          "text": "freq"
         }
        },
        "yaxis": {
         "anchor": "x",
         "domain": [
          0,
          1
         ],
         "title": {
          "text": "sent"
         }
        }
       }
      },
      "text/html": [
       "<div>\n",
       "        \n",
       "        \n",
       "            <div id=\"cc6b37eb-e52e-46b3-b482-8465a336c9ff\" class=\"plotly-graph-div\" style=\"height:525px; width:100%;\"></div>\n",
       "            <script type=\"text/javascript\">\n",
       "                require([\"plotly\"], function(Plotly) {\n",
       "                    window.PLOTLYENV=window.PLOTLYENV || {};\n",
       "                    \n",
       "                if (document.getElementById(\"cc6b37eb-e52e-46b3-b482-8465a336c9ff\")) {\n",
       "                    Plotly.newPlot(\n",
       "                        'cc6b37eb-e52e-46b3-b482-8465a336c9ff',\n",
       "                        [{\"hovertemplate\": \"freq=%{x}<br>sent=%{y}<br>index=%{text}<extra></extra>\", \"legendgroup\": \"\", \"marker\": {\"color\": \"#636efa\", \"symbol\": \"circle\"}, \"mode\": \"markers+text\", \"name\": \"\", \"orientation\": \"v\", \"showlegend\": false, \"text\": [\"standards\", \"editing\", \"could\", \"company\", \"be\", \"covid19\", \"down\", \"even\", \"thomson\", \"virus\", \"do\", \"million\", \"out\", \"for\", \"up\", \"see\", \"continue\", \"provide\", \"staff\", \"tell\", \"about\", \"measure\", \"remain\", \"all\", \"which\", \"city\", \"put\", \"back\", \"2\", \"datum\", \"report\", \"news\", \"another\", \"read\", \"service\", \"any\", \"and\", \"both\", \"where\", \"start\", \"far\", \"high\", \"case\", \"under\", \"look\", \"reuters\", \"close\", \"only\", \"monday\", \"into\", \"announce\", \"economy\", \"big\", \"go\", \"get\", \"thursday\", \"keep\", \"across\", \"march\", \"over\", \"official\", \"return\", \"find\", \"way\", \"work\", \"hit\", \"while\", \"home\", \"tuesday\", \"begin\", \"can\", \"to\", \"just\", \"s\", \"between\", \"time\", \"what\", \"likely\", \"spread\", \"follow\", \"group\", \"from\", \"total\", \"call\", \"president\", \"who\", \"should\", \"us\", \"however\", \"face\", \"the\", \"may\", \"late\", \"many\", \"show\", \"friday\", \"move\", \"day\", \"market\", \"states\", \"ask\", \"say\", \"lead\", \"know\", \"will\", \"public\", \"week\", \"some\", \"with\", \"still\", \"need\", \"but\", \"rise\", \"would\", \"if\", \"travel\", \"national\", \"government\", \"have\", \"china\", \"that\", \"plan\", \"so\", \"rate\", \"due\", \"chief\", \"these\", \"3\", \"not\", \"by\", \"point\", \"10\", \"april\", \"there\", \"last\", \"this\", \"make\", \"month\", \"since\", \"how\", \"business\", \"during\", \"much\", \"social\", \"take\", \"-pron-\", \"early\", \"coronavirus\", \"off\", \"confirm\", \"because\", \"a\", \"of\", \"those\", \"around\", \"after\", \"now\", \"on\", \"place\", \"outbreak\", \"global\", \"two\", \"other\", \"year\", \"new\", \"min\", \"give\", \"world\", \"use\", \"bring\", \"or\", \"expect\", \"infection\", \"in\", \"fall\", \"against\", \"come\", \"as\", \"next\", \"pandemic\", \"right\", \"three\", \"record\", \"before\", \"second\", \"control\", \"disease\", \"health\", \"than\", \"include\", \"first\", \"test\", \"end\", \"change\", \"principles\", \"people\", \"through\", \"accord\", \"state\", \"part\", \"most\", \"very\", \"add\", \"at\", \"here\", \"country\", \"2020\", \"until\", \"an\", \"large\", \"order\", \"also\", \"one\", \"economic\", \"such\", \"1\", \"when\", \"more\"], \"type\": \"scatter\", \"x\": [192, 239, 325, 219, 702, 394, 243, 214, 206, 257, 427, 262, 340, 670, 380, 308, 221, 191, 169, 270, 400, 196, 186, 413, 451, 173, 171, 242, 151, 154, 429, 221, 165, 298, 168, 215, 704, 166, 249, 201, 157, 258, 332, 204, 179, 262, 221, 247, 152, 267, 192, 188, 183, 314, 297, 157, 192, 191, 205, 355, 234, 167, 164, 169, 311, 154, 336, 224, 155, 172, 353, 710, 225, 199, 171, 326, 273, 163, 252, 207, 170, 613, 164, 211, 205, 412, 183, 278, 151, 171, 714, 353, 210, 276, 243, 154, 186, 339, 169, 157, 155, 629, 171, 218, 501, 241, 360, 347, 636, 228, 263, 496, 184, 368, 311, 162, 170, 292, 680, 170, 638, 228, 295, 169, 217, 154, 201, 165, 537, 641, 164, 157, 151, 359, 322, 549, 346, 312, 295, 240, 238, 264, 180, 162, 366, 707, 181, 594, 170, 165, 247, 703, 706, 261, 215, 405, 308, 690, 193, 232, 184, 294, 419, 355, 465, 204, 230, 254, 228, 156, 408, 195, 173, 706, 181, 160, 324, 619, 167, 437, 173, 195, 158, 236, 164, 160, 164, 342, 434, 362, 316, 199, 189, 155, 203, 410, 200, 260, 320, 186, 274, 187, 251, 605, 174, 321, 224, 154, 521, 190, 170, 449, 366, 167, 204, 197, 313, 521], \"xaxis\": \"x\", \"y\": [-0.08290130153308328, -0.10500979228728691, -0.08372740649538879, 0.31081491408599815, 0.0023479279489339658, 0.037477775239933786, -0.2717574056480345, -0.24670223719250317, -0.10212100838139548, -0.37924332061817434, -0.0862496172879681, -0.10091980703576153, -0.1851118982561094, 0.009489168167906736, 0.027470186088342174, -0.003756058582113808, -0.19460529111308444, 0.3620907867190033, -0.21136605262829078, -0.09522178592112407, 0.0864142915817373, -0.23153998945282583, -0.2906154242824315, -0.10026169579121236, -0.0841515621668768, -0.3240633583499717, 0.17492780776901662, -0.14672934306705598, -0.031104228797346645, -0.2936041508652629, -0.4188386357612268, -0.15663041404976763, -0.17418282772391902, -0.11142778463417669, 0.2531543552029132, -0.28786030968601084, 0.013353768984346495, -0.0650268839751551, -0.0889955465060257, -0.05919596366436175, -0.5935248846882242, -0.03056731603277052, -0.6982759229540314, -0.16288043439493882, 0.43807669369692537, -0.10846701267114456, -0.14459487053842301, -0.11163802325578565, -0.39347280972213894, -0.018308504838495887, 0.04246388203177265, -0.1949665627933146, -0.10230773231060963, -0.07209936850026977, 0.06518775602337379, -0.09414012005038264, -0.220090767966993, -0.030567316032770853, -0.18179828575669443, -0.12153909423849729, -0.6747202299631408, -0.3122289007029684, -0.13646474445517298, 0.43337080265951267, 0.3337166783726825, -0.33284818790570414, -0.020813581084819566, -0.1079703650324284, -0.5427525593148008, -0.2616278874091791, 0.1992157264873058, -0.00017823723422995697, 0.13439427989870323, 0.11428961660302805, -0.3122289007029684, 0.0447329461211059, -0.20377719247546933, -0.49191288253539156, -0.45132513796089846, -0.09368213973553119, -0.026577285801569595, 0.026262357910102202, -0.48464492850752006, -0.20706126767665944, -0.08290130153308328, -0.10943607206725392, 0.07807395966551822, -0.2797630994533914, 0.03261158558876076, -0.39347280972213894, 0.0, -0.1746165104195494, -0.4528962301929398, -0.10650121687395686, -0.4373920436569747, -0.5633718465175366, -0.141741801556017, -0.19053196572544884, 0.30227515253786374, -0.3524446508881962, -0.38468798016640626, -0.05333084421196366, -0.13169146570251544, -0.1776838232475999, 0.03643568202716435, -0.25747144840055813, -0.3638036869994855, -0.049305536879125755, 0.023451216190096824, -0.2099500515825503, 0.1454070797341055, -0.1438448517527956, -0.23153998945282583, -0.17130060379756096, -0.12561241962613312, -0.1406601356852757, -0.39347280972213894, -0.0761216145477045, -0.021765185289310825, -0.39120266118760005, 0.005378435130402204, 0.1989328010362743, -0.04002759805121059, -0.12153909423849729, -0.11878806086660743, 0.13025005515267685, 0.11108320103025626, 0.3070484312905213, -0.09553423710316905, 0.011746447124799317, 0.008514034009700522, -0.17418282772391902, -0.0883410248289016, -0.2822939454736765, -0.39938027685283195, -0.013090567892094507, 0.04391114084269432, -0.023477881062282546, -0.3224226688925115, 0.01521984287689171, 0.22366682235147028, 0.09416947858819413, 0.06576379290566114, 0.03261158558876098, -0.07575645113302065, 0.018893949359961852, -0.08517145006762261, -0.13081273102382646, -0.0904485071684662, -0.9262387607041904, -0.023179774039654655, 0.00778272393489113, 0.010632678869985826, -0.07274893006906524, -0.22975267887873008, -0.30805352929248786, -0.13337355188550004, -0.012339802273505347, 0.14440299157687764, -0.466785342353607, 0.03261158558876076, -0.24525686541469516, 0.07145141890502504, 0.010632678869985757, 0.056517106442315446, -0.11310022559263277, 0.2670122914276052, -0.006303830660912224, 0.42109835716250743, -0.0051287423940860055, -0.039018070550493666, 0.10671955774248265, -0.38233226647394725, 0.0052126114006463805, -0.4373920436569747, -0.05126989839194107, -0.07658770637623091, 0.03572200800315341, 0.10322915280271427, 0.19748622877899497, -0.066918009758272, -0.25507048686302003, -0.30386065103245197, -0.14813640675776307, -0.3728535225194034, -0.5371565738106798, -0.5174347513305109, -0.3573493359834381, -0.21870284269214518, 0.11776939392906782, 0.09043115647758726, -0.5899180277572309, 0.18214331955972463, 0.3202936580405418, -0.10458953592472398, -0.2168492740428224, 0.30403313716876146, -0.4334781443358384, -0.31849231330051586, 0.14440299157687764, -0.23365639235920355, -0.07274893006906558, -0.028013036227673593, 0.01331838265408214, -0.03800598162519253, -0.22975267887873008, 0.40347116451944987, -0.6403328876536647, -0.027556935877691868, -0.42842337367421424, -0.2958924813832753, 0.032611585588760816, -0.06803194019092662, 0.18024758439482547, 0.17639947838047254, 0.07183229874204211, 0.08200434091833753, -0.01475610323412807], \"yaxis\": \"y\"}],\n",
       "                        {\"legend\": {\"tracegroupgap\": 0}, \"margin\": {\"t\": 60}, \"template\": {\"data\": {\"bar\": [{\"error_x\": {\"color\": \"#2a3f5f\"}, \"error_y\": {\"color\": \"#2a3f5f\"}, \"marker\": {\"line\": {\"color\": \"#E5ECF6\", \"width\": 0.5}}, \"type\": \"bar\"}], \"barpolar\": [{\"marker\": {\"line\": {\"color\": \"#E5ECF6\", \"width\": 0.5}}, \"type\": \"barpolar\"}], \"carpet\": [{\"aaxis\": {\"endlinecolor\": \"#2a3f5f\", \"gridcolor\": \"white\", \"linecolor\": \"white\", \"minorgridcolor\": \"white\", \"startlinecolor\": \"#2a3f5f\"}, \"baxis\": {\"endlinecolor\": \"#2a3f5f\", \"gridcolor\": \"white\", \"linecolor\": \"white\", \"minorgridcolor\": \"white\", \"startlinecolor\": \"#2a3f5f\"}, \"type\": \"carpet\"}], \"choropleth\": [{\"colorbar\": {\"outlinewidth\": 0, \"ticks\": \"\"}, \"type\": \"choropleth\"}], \"contour\": [{\"colorbar\": {\"outlinewidth\": 0, \"ticks\": \"\"}, \"colorscale\": [[0.0, \"#0d0887\"], [0.1111111111111111, \"#46039f\"], [0.2222222222222222, \"#7201a8\"], [0.3333333333333333, \"#9c179e\"], [0.4444444444444444, \"#bd3786\"], [0.5555555555555556, \"#d8576b\"], [0.6666666666666666, \"#ed7953\"], [0.7777777777777778, \"#fb9f3a\"], [0.8888888888888888, \"#fdca26\"], [1.0, \"#f0f921\"]], \"type\": \"contour\"}], \"contourcarpet\": [{\"colorbar\": {\"outlinewidth\": 0, \"ticks\": \"\"}, \"type\": \"contourcarpet\"}], \"heatmap\": [{\"colorbar\": {\"outlinewidth\": 0, \"ticks\": \"\"}, \"colorscale\": [[0.0, \"#0d0887\"], [0.1111111111111111, \"#46039f\"], [0.2222222222222222, \"#7201a8\"], [0.3333333333333333, \"#9c179e\"], [0.4444444444444444, \"#bd3786\"], [0.5555555555555556, \"#d8576b\"], [0.6666666666666666, \"#ed7953\"], [0.7777777777777778, \"#fb9f3a\"], [0.8888888888888888, \"#fdca26\"], [1.0, \"#f0f921\"]], \"type\": \"heatmap\"}], \"heatmapgl\": [{\"colorbar\": {\"outlinewidth\": 0, \"ticks\": \"\"}, \"colorscale\": [[0.0, \"#0d0887\"], [0.1111111111111111, \"#46039f\"], [0.2222222222222222, \"#7201a8\"], [0.3333333333333333, \"#9c179e\"], [0.4444444444444444, \"#bd3786\"], [0.5555555555555556, \"#d8576b\"], [0.6666666666666666, \"#ed7953\"], [0.7777777777777778, \"#fb9f3a\"], [0.8888888888888888, \"#fdca26\"], [1.0, \"#f0f921\"]], \"type\": \"heatmapgl\"}], \"histogram\": [{\"marker\": {\"colorbar\": {\"outlinewidth\": 0, \"ticks\": \"\"}}, \"type\": \"histogram\"}], \"histogram2d\": [{\"colorbar\": {\"outlinewidth\": 0, \"ticks\": \"\"}, \"colorscale\": [[0.0, \"#0d0887\"], [0.1111111111111111, \"#46039f\"], [0.2222222222222222, \"#7201a8\"], [0.3333333333333333, \"#9c179e\"], [0.4444444444444444, \"#bd3786\"], [0.5555555555555556, \"#d8576b\"], [0.6666666666666666, \"#ed7953\"], [0.7777777777777778, \"#fb9f3a\"], [0.8888888888888888, \"#fdca26\"], [1.0, \"#f0f921\"]], \"type\": \"histogram2d\"}], \"histogram2dcontour\": [{\"colorbar\": {\"outlinewidth\": 0, \"ticks\": \"\"}, \"colorscale\": [[0.0, \"#0d0887\"], [0.1111111111111111, \"#46039f\"], [0.2222222222222222, \"#7201a8\"], [0.3333333333333333, \"#9c179e\"], [0.4444444444444444, \"#bd3786\"], [0.5555555555555556, \"#d8576b\"], [0.6666666666666666, \"#ed7953\"], [0.7777777777777778, \"#fb9f3a\"], [0.8888888888888888, \"#fdca26\"], [1.0, \"#f0f921\"]], \"type\": \"histogram2dcontour\"}], \"mesh3d\": [{\"colorbar\": {\"outlinewidth\": 0, \"ticks\": \"\"}, \"type\": \"mesh3d\"}], \"parcoords\": [{\"line\": {\"colorbar\": {\"outlinewidth\": 0, \"ticks\": \"\"}}, \"type\": \"parcoords\"}], \"pie\": [{\"automargin\": true, \"type\": \"pie\"}], \"scatter\": [{\"marker\": {\"colorbar\": {\"outlinewidth\": 0, \"ticks\": \"\"}}, \"type\": \"scatter\"}], \"scatter3d\": [{\"line\": {\"colorbar\": {\"outlinewidth\": 0, \"ticks\": \"\"}}, \"marker\": {\"colorbar\": {\"outlinewidth\": 0, \"ticks\": \"\"}}, \"type\": \"scatter3d\"}], \"scattercarpet\": [{\"marker\": {\"colorbar\": {\"outlinewidth\": 0, \"ticks\": \"\"}}, \"type\": \"scattercarpet\"}], \"scattergeo\": [{\"marker\": {\"colorbar\": {\"outlinewidth\": 0, \"ticks\": \"\"}}, \"type\": \"scattergeo\"}], \"scattergl\": [{\"marker\": {\"colorbar\": {\"outlinewidth\": 0, \"ticks\": \"\"}}, \"type\": \"scattergl\"}], \"scattermapbox\": [{\"marker\": {\"colorbar\": {\"outlinewidth\": 0, \"ticks\": \"\"}}, \"type\": \"scattermapbox\"}], \"scatterpolar\": [{\"marker\": {\"colorbar\": {\"outlinewidth\": 0, \"ticks\": \"\"}}, \"type\": \"scatterpolar\"}], \"scatterpolargl\": [{\"marker\": {\"colorbar\": {\"outlinewidth\": 0, \"ticks\": \"\"}}, \"type\": \"scatterpolargl\"}], \"scatterternary\": [{\"marker\": {\"colorbar\": {\"outlinewidth\": 0, \"ticks\": \"\"}}, \"type\": \"scatterternary\"}], \"surface\": [{\"colorbar\": {\"outlinewidth\": 0, \"ticks\": \"\"}, \"colorscale\": [[0.0, \"#0d0887\"], [0.1111111111111111, \"#46039f\"], [0.2222222222222222, \"#7201a8\"], [0.3333333333333333, \"#9c179e\"], [0.4444444444444444, \"#bd3786\"], [0.5555555555555556, \"#d8576b\"], [0.6666666666666666, \"#ed7953\"], [0.7777777777777778, \"#fb9f3a\"], [0.8888888888888888, \"#fdca26\"], [1.0, \"#f0f921\"]], \"type\": \"surface\"}], \"table\": [{\"cells\": {\"fill\": {\"color\": \"#EBF0F8\"}, \"line\": {\"color\": \"white\"}}, \"header\": {\"fill\": {\"color\": \"#C8D4E3\"}, \"line\": {\"color\": \"white\"}}, \"type\": \"table\"}]}, \"layout\": {\"annotationdefaults\": {\"arrowcolor\": \"#2a3f5f\", \"arrowhead\": 0, \"arrowwidth\": 1}, \"coloraxis\": {\"colorbar\": {\"outlinewidth\": 0, \"ticks\": \"\"}}, \"colorscale\": {\"diverging\": [[0, \"#8e0152\"], [0.1, \"#c51b7d\"], [0.2, \"#de77ae\"], [0.3, \"#f1b6da\"], [0.4, \"#fde0ef\"], [0.5, \"#f7f7f7\"], [0.6, \"#e6f5d0\"], [0.7, \"#b8e186\"], [0.8, \"#7fbc41\"], [0.9, \"#4d9221\"], [1, \"#276419\"]], \"sequential\": [[0.0, \"#0d0887\"], [0.1111111111111111, \"#46039f\"], [0.2222222222222222, \"#7201a8\"], [0.3333333333333333, \"#9c179e\"], [0.4444444444444444, \"#bd3786\"], [0.5555555555555556, \"#d8576b\"], [0.6666666666666666, \"#ed7953\"], [0.7777777777777778, \"#fb9f3a\"], [0.8888888888888888, \"#fdca26\"], [1.0, \"#f0f921\"]], \"sequentialminus\": [[0.0, \"#0d0887\"], [0.1111111111111111, \"#46039f\"], [0.2222222222222222, \"#7201a8\"], [0.3333333333333333, \"#9c179e\"], [0.4444444444444444, \"#bd3786\"], [0.5555555555555556, \"#d8576b\"], [0.6666666666666666, \"#ed7953\"], [0.7777777777777778, \"#fb9f3a\"], [0.8888888888888888, \"#fdca26\"], [1.0, \"#f0f921\"]]}, \"colorway\": [\"#636efa\", \"#EF553B\", \"#00cc96\", \"#ab63fa\", \"#FFA15A\", \"#19d3f3\", \"#FF6692\", \"#B6E880\", \"#FF97FF\", \"#FECB52\"], \"font\": {\"color\": \"#2a3f5f\"}, \"geo\": {\"bgcolor\": \"white\", \"lakecolor\": \"white\", \"landcolor\": \"#E5ECF6\", \"showlakes\": true, \"showland\": true, \"subunitcolor\": \"white\"}, \"hoverlabel\": {\"align\": \"left\"}, \"hovermode\": \"closest\", \"mapbox\": {\"style\": \"light\"}, \"paper_bgcolor\": \"white\", \"plot_bgcolor\": \"#E5ECF6\", \"polar\": {\"angularaxis\": {\"gridcolor\": \"white\", \"linecolor\": \"white\", \"ticks\": \"\"}, \"bgcolor\": \"#E5ECF6\", \"radialaxis\": {\"gridcolor\": \"white\", \"linecolor\": \"white\", \"ticks\": \"\"}}, \"scene\": {\"xaxis\": {\"backgroundcolor\": \"#E5ECF6\", \"gridcolor\": \"white\", \"gridwidth\": 2, \"linecolor\": \"white\", \"showbackground\": true, \"ticks\": \"\", \"zerolinecolor\": \"white\"}, \"yaxis\": {\"backgroundcolor\": \"#E5ECF6\", \"gridcolor\": \"white\", \"gridwidth\": 2, \"linecolor\": \"white\", \"showbackground\": true, \"ticks\": \"\", \"zerolinecolor\": \"white\"}, \"zaxis\": {\"backgroundcolor\": \"#E5ECF6\", \"gridcolor\": \"white\", \"gridwidth\": 2, \"linecolor\": \"white\", \"showbackground\": true, \"ticks\": \"\", \"zerolinecolor\": \"white\"}}, \"shapedefaults\": {\"line\": {\"color\": \"#2a3f5f\"}}, \"ternary\": {\"aaxis\": {\"gridcolor\": \"white\", \"linecolor\": \"white\", \"ticks\": \"\"}, \"baxis\": {\"gridcolor\": \"white\", \"linecolor\": \"white\", \"ticks\": \"\"}, \"bgcolor\": \"#E5ECF6\", \"caxis\": {\"gridcolor\": \"white\", \"linecolor\": \"white\", \"ticks\": \"\"}}, \"title\": {\"x\": 0.05}, \"xaxis\": {\"automargin\": true, \"gridcolor\": \"white\", \"linecolor\": \"white\", \"ticks\": \"\", \"title\": {\"standoff\": 15}, \"zerolinecolor\": \"white\", \"zerolinewidth\": 2}, \"yaxis\": {\"automargin\": true, \"gridcolor\": \"white\", \"linecolor\": \"white\", \"ticks\": \"\", \"title\": {\"standoff\": 15}, \"zerolinecolor\": \"white\", \"zerolinewidth\": 2}}}, \"xaxis\": {\"anchor\": \"y\", \"domain\": [0.0, 1.0], \"title\": {\"text\": \"freq\"}}, \"yaxis\": {\"anchor\": \"x\", \"domain\": [0.0, 1.0], \"title\": {\"text\": \"sent\"}}},\n",
       "                        {\"responsive\": true}\n",
       "                    ).then(function(){\n",
       "                            \n",
       "var gd = document.getElementById('cc6b37eb-e52e-46b3-b482-8465a336c9ff');\n",
       "var x = new MutationObserver(function (mutations, observer) {{\n",
       "        var display = window.getComputedStyle(gd).display;\n",
       "        if (!display || display === 'none') {{\n",
       "            console.log([gd, 'removed!']);\n",
       "            Plotly.purge(gd);\n",
       "            observer.disconnect();\n",
       "        }}\n",
       "}});\n",
       "\n",
       "// Listen for the removal of the full notebook cells\n",
       "var notebookContainer = gd.closest('#notebook-container');\n",
       "if (notebookContainer) {{\n",
       "    x.observe(notebookContainer, {childList: true});\n",
       "}}\n",
       "\n",
       "// Listen for the clearing of the current output cell\n",
       "var outputEl = gd.closest('.output');\n",
       "if (outputEl) {{\n",
       "    x.observe(outputEl, {childList: true});\n",
       "}}\n",
       "\n",
       "                        })\n",
       "                };\n",
       "                });\n",
       "            </script>\n",
       "        </div>"
      ]
     },
     "metadata": {},
     "output_type": "display_data"
    }
   ],
   "source": [
    "px.scatter(s_new_filter, x='freq', y='sent', text='index')"
   ]
  },
  {
   "cell_type": "markdown",
   "metadata": {},
   "source": [
    "### Update dictionary "
   ]
  },
  {
   "cell_type": "code",
   "execution_count": 209,
   "metadata": {},
   "outputs": [],
   "source": [
    "update_dict = {\n",
    "    # existing\n",
    "    \"crisis\": 0,\n",
    "    \"positive\": -1,\n",
    "    \"great\": 0,\n",
    "    \"authority\": -2,\n",
    "    \n",
    "    \"Crisis\": 0,\n",
    "    \"Positive\": -1,\n",
    "    \"Great\": 0,\n",
    "    \"Authority\": -2,\n",
    "    \n",
    "    # new\n",
    "    \"coronavirus\": -1,\n",
    "    \"pandemic\": 0.5,\n",
    "    \"outbreak\": -1.5,\n",
    "    \"virus\": -1,\n",
    "    \"lockdown\": -1,\n",
    "    \"trump\": -1.5,\n",
    "    \n",
    "    \"Coronavirus\": -1,\n",
    "    \"Pandemic\": 0.5,\n",
    "    \"Outbreak\": -1.5,\n",
    "    \"Virus\": -1,\n",
    "    \"Lockdown\": -1,\n",
    "    \"Trump\": -1.5,\n",
    "    \"TRUMP\": -1.5,\n",
    "}"
   ]
  },
  {
   "cell_type": "code",
   "execution_count": 210,
   "metadata": {},
   "outputs": [],
   "source": [
    "f = open(\"update_dict.json\", \"w\")\n",
    "json.dump(update_dict, f)\n",
    "f.close()"
   ]
  },
  {
   "cell_type": "code",
   "execution_count": null,
   "metadata": {},
   "outputs": [],
   "source": []
  }
 ],
 "metadata": {
  "kernelspec": {
   "display_name": "Python 3",
   "language": "python",
   "name": "python3"
  },
  "language_info": {
   "codemirror_mode": {
    "name": "ipython",
    "version": 3
   },
   "file_extension": ".py",
   "mimetype": "text/x-python",
   "name": "python",
   "nbconvert_exporter": "python",
   "pygments_lexer": "ipython3",
   "version": "3.6.5"
  }
 },
 "nbformat": 4,
 "nbformat_minor": 4
}
